{
 "cells": [
  {
   "cell_type": "markdown",
   "metadata": {
    "id": "HMWjAcbSPNdy"
   },
   "source": [
    "O que é <b>BERT</b>?\n",
    "\n",
    "<b>BERT</b> significa <b>B</b>idirectional <b>E</b>ncoder <b>R</b>epresentations from <b>T</b>ransformers.\n",
    "\n",
    "<b>Bidirecional</b> - para entender o texto que estamos procurando, temos de olhar para trás (nas palavras anteriores) e para a frente (nas próximas palavras)\n",
    "\n",
    "<b>Transformers</b> - O mecanismo de Atenção é tudo que precisamos. O Transformer lê sequências inteiras de tokens de uma vez. Em certo sentido, o modelo é não direcional, enquanto os LSTMs leem sequencialmente (da esquerda para a direita ou da direita para a esquerda). O mecanismo de atenção permite o aprendizado de relações contextuais entre palavras.\n",
    "\n",
    "<b>Embeddings</b> de palavras contextualizadas (pré-treinadas) - O artigo ELMO apresentou uma maneira de codificar palavras com base em seu significado / contexto.\n",
    "\n",
    "O BERT foi treinado mascarando 15% dos tokens com o objetivo de adivinhá-los. Um objetivo adicional era prever a próxima frase.\n",
    "\n",
    "BERT é simplesmente uma stack pré-treinada de Transformer Encoders com duas versões \n",
    "- com 12 (BERT base) \n",
    "- com 24 (BERT Large)."
   ]
  },
  {
   "cell_type": "markdown",
   "metadata": {
    "id": "fwGdc7lTPNdz"
   },
   "source": [
    "A BERT pode ser utilizada em inúmeras tasks do NLP, aqui <b>tentaremos</b> utilizar para classificar se, dadas duas entidades e a sentença a qual elas pertencem, há uma relação semântica entre elas."
   ]
  },
  {
   "cell_type": "code",
   "execution_count": null,
   "metadata": {
    "colab": {
     "base_uri": "https://localhost:8080/"
    },
    "id": "77ud8l0DPNd0",
    "outputId": "8133325e-3221-4b56-bde7-04f45a7b9ff8"
   },
   "outputs": [],
   "source": [
    "#Trecho para ser executado quando no Sagemaker\\Google Collab\n",
    "!pip install transformers==3.3.1\n",
    "#!pip install torch==1.6.0\n",
    "!pip install torch==1.6.0+cu101 torchvision==0.7.0+cu101 -f https://download.pytorch.org/whl/torch_stable.html"
   ]
  },
  {
   "cell_type": "markdown",
   "metadata": {
    "id": "OpGd2nG6PNd5"
   },
   "source": [
    "Importando as bibliotecas necessárias para rodar o modelo"
   ]
  },
  {
   "cell_type": "code",
   "execution_count": null,
   "metadata": {
    "id": "YEhWQpIVPNd6"
   },
   "outputs": [],
   "source": [
    "import transformers\n",
    "from transformers import BertModel, BertTokenizer, AdamW, get_linear_schedule_with_warmup\n",
    "import torch\n",
    "import numpy as np\n",
    "import pandas as pd\n",
    "import seaborn as sns\n",
    "from pylab import rcParams\n",
    "import matplotlib.pyplot as plt\n",
    "from matplotlib import rc\n",
    "from sklearn.model_selection import train_test_split\n",
    "from sklearn.metrics import confusion_matrix, classification_report\n",
    "from collections import defaultdict\n",
    "from textwrap import wrap\n",
    "from torch import nn, optim\n",
    "import torch.nn.functional as F\n",
    "from torch.utils.data import Dataset, DataLoader\n",
    "\n",
    "import os"
   ]
  },
  {
   "cell_type": "code",
   "execution_count": null,
   "metadata": {
    "colab": {
     "base_uri": "https://localhost:8080/"
    },
    "id": "H3cmAOLd1G5U",
    "outputId": "42bab315-d973-44a1-f7df-b545cb8cb0d7"
   },
   "outputs": [],
   "source": [
    "torch.cuda.is_available()"
   ]
  },
  {
   "cell_type": "markdown",
   "metadata": {
    "id": "6R6t17DlPNd_"
   },
   "source": [
    "Setando alguns parametros básicos"
   ]
  },
  {
   "cell_type": "code",
   "execution_count": null,
   "metadata": {
    "colab": {
     "base_uri": "https://localhost:8080/"
    },
    "id": "jN1dlL9yPNd_",
    "outputId": "6e051167-e246-420d-d7a3-778d0a30c40c"
   },
   "outputs": [],
   "source": [
    "#Configurando parametros para visualização de dados\n",
    "sns.set(style='whitegrid', palette='muted', font_scale=1.2)\n",
    "HAPPY_COLORS_PALETTE = [\"#01BEFE\", \"#FFDD00\", \"#FF7D00\", \"#FF006D\", \"#ADFF02\", \"#8F00FF\"]\n",
    "sns.set_palette(sns.color_palette(HAPPY_COLORS_PALETTE))\n",
    "rcParams['figure.figsize'] = 12, 8\n",
    "class_names = ['negativa', 'positiva']\n",
    "\n",
    "#Configuração de SEED \n",
    "RANDOM_SEED = 42\n",
    "np.random.seed(RANDOM_SEED)\n",
    "torch.manual_seed(RANDOM_SEED)\n",
    "\n",
    "#Flag para utilizar cuda quando presente uma GPU ou utilizar CPU\n",
    "print(torch.cuda.is_available())\n",
    "\n",
    "device = torch.device(\"cuda:0\" if torch.cuda.is_available() else \"cpu\")\n",
    "print(device)"
   ]
  },
  {
   "cell_type": "markdown",
   "metadata": {
    "id": "KvpbKwu7PNeF"
   },
   "source": [
    "Capturando os dados"
   ]
  },
  {
   "cell_type": "code",
   "execution_count": null,
   "metadata": {
    "colab": {
     "base_uri": "https://localhost:8080/",
     "height": 221
    },
    "id": "z-yEGz0lPNeF",
    "outputId": "3ce9d30f-73ab-4745-9e9c-825529804455"
   },
   "outputs": [],
   "source": [
    "pwd = %pwd\n",
    "pwd = os.path.join(os.path.dirname(pwd), 'data')\n",
    "\n",
    "#Trecho para ser executado via Sagemaker\n",
    "#pwd = os.path.join(os.getcwd(), 'data').replace(\"notebook\",\"\")\n",
    "\n",
    "#Trecho para ser executado via Google Collab\n",
    "pwd = os.path.join(os.getcwd()).replace(\"notebook\\\\\",\"\")\n",
    "print(pwd)\n",
    "\n",
    "data = pd.read_csv(os.path.join(pwd, 'data_full.csv'), sep=';').replace({np.NaN: None})\n",
    "data.columns = ['sentenca','entidade1','entidade1_tipo','relacao','entidade2','entidade2_tipo']\n",
    "\n",
    "cols = ['entidade1', 'entidade2']\n",
    "data['entidades'] = data[cols].apply(lambda row: ' , '.join(row.values.astype(str)), axis=1)\n",
    "\n",
    "data['class'] = data['relacao'].apply(lambda x: 0 if x is None else 1)\n",
    "\n",
    "data.head()"
   ]
  },
  {
   "cell_type": "code",
   "execution_count": null,
   "metadata": {
    "colab": {
     "base_uri": "https://localhost:8080/"
    },
    "id": "Q9VSN_MtPNeJ",
    "outputId": "e48e5e64-b593-4baa-d1bc-d17170f4e05f"
   },
   "outputs": [],
   "source": [
    "data.info()"
   ]
  },
  {
   "cell_type": "markdown",
   "metadata": {
    "id": "pBY7X_xWPNeN"
   },
   "source": [
    "Verificando como o dataset está populado.\n",
    "Não informações nulas nos campos de Sentença, Entidade 1, Entidade 2 e Class"
   ]
  },
  {
   "cell_type": "markdown",
   "metadata": {
    "id": "WnEudOVqPNeS"
   },
   "source": [
    "Verificando o balanceamento de classes"
   ]
  },
  {
   "cell_type": "code",
   "execution_count": null,
   "metadata": {
    "colab": {
     "base_uri": "https://localhost:8080/",
     "height": 560
    },
    "id": "7B5M76HCPNeT",
    "outputId": "57576a4b-59fe-4820-ad3a-63ba5afba0d0"
   },
   "outputs": [],
   "source": [
    "ax = sns.countplot(data['class'])\n",
    "plt.xlabel('Class Rate')\n",
    "ax.set_xticklabels(class_names);"
   ]
  },
  {
   "cell_type": "markdown",
   "metadata": {
    "id": "_78UG8rrPNeY"
   },
   "source": [
    "<h2>Pre-Processamento</h2>"
   ]
  },
  {
   "cell_type": "markdown",
   "metadata": {
    "id": "ow2ZEvn4PNeZ"
   },
   "source": [
    "É preciso converter texto em números. \n",
    "O BERT exige ainda mais atenção. Dessa maneira:\n",
    "\n",
    "- Adicionaremos tokens especiais para separar frases e fazer a classificação\n",
    "- Passaremos sequências de comprimento constante (introduzir preenchimento)\n",
    "- Criaremos uma matriz de 0s (token de teclado) e 1s (token real) chamada máscara de atenção\n",
    "- A biblioteca Transformers fornece vários modelos de Transformers (incluindo BERT). Funciona com TensorFlow e PyTorch! Também inclui tokenizers pré-construídos que fazem o trabalho pesado para nós!"
   ]
  },
  {
   "cell_type": "markdown",
   "metadata": {
    "id": "CzAFTcQjPNea"
   },
   "source": [
    "Carregando o tokenizador pre-treinado da BERT"
   ]
  },
  {
   "cell_type": "code",
   "execution_count": null,
   "metadata": {
    "colab": {
     "base_uri": "https://localhost:8080/",
     "height": 213,
     "referenced_widgets": [
      "589fde9644c54373b18ba65a5134d4b3",
      "5a01550fbdd444668e6d9a9860081e36",
      "55b3799535eb4b1dac8c1066da3cf4b5",
      "7346ef97006744929af1b39e85b1680a",
      "3f625bb6a9b54576bcbd08cdad76c15a",
      "ba70e8f671e14e9599b1c06cf3dab35e",
      "b0eecae842104bd4a883dc7ab518733e",
      "9609b4ec9ab442a88be54827b7315f8c",
      "dc7195debdcf434b88c274335a832616",
      "9386595cfb5c4f95ac7a881f3386dfc0",
      "109777b3485f4a24b0472068c395ba64",
      "acef4afc05b940a38e9b807670eb49d1",
      "d77559d7fb324268b4f8388ac1fd10d5",
      "a0565f8930924d70bd62be41bb8d2d0f",
      "5f1ee7afdcd54cddaa5a233e2d9b4a08",
      "04a97dcdfaf943d19386d775ec7a09f9",
      "891de93930964d519bea7aa499932eda",
      "29a0ecb6ced04e4ead8d22d6d5cdf200",
      "37e6f9daad2343b6b33d54ac059604f1",
      "7413379184874ac38082d4dd940cb996",
      "f3eefb3a82e54dc5ac5d2f20adffa76a",
      "26ceda4a505442058eeed3ab8b7d4c69",
      "e37c588ce6b247d7a4d0de873d0f002b",
      "60889895dc444a3a9b2eb01507e9659d",
      "49fff4dd4a504207808720a529c105ed",
      "709d3bfe7eb3499ca66aaf355996675d",
      "89c309daaa5541a087e2bfea0b97ab51",
      "a738a9f826734edb9adee6e3fdef513f",
      "c76855af1da0412292d538faa80deb45",
      "d2f8a3b2f3614bc6a0a20bc047e84275",
      "8f1552ffa84b49f5b80f2dd414b12519",
      "35e8073407b64dd4acd977829e0c6d09"
     ]
    },
    "id": "5Qu4Z6U9PNea",
    "outputId": "25c71fc6-e549-4892-f840-b0a48322d1ce"
   },
   "outputs": [],
   "source": [
    "# PRE_TRAINED_MODEL_NAME = '/root/.cache/torch/transformers/neuralmind-bert-large-portuguese-cased/'\n",
    "PRE_TRAINED_MODEL_NAME = 'neuralmind/bert-large-portuguese-cased'\n",
    "tokenizer = BertTokenizer.from_pretrained(PRE_TRAINED_MODEL_NAME)"
   ]
  },
  {
   "cell_type": "markdown",
   "metadata": {
    "id": "vDst9nuUPNee"
   },
   "source": [
    "Entendendo o que faz o tokenizador, pegando apenas uma sentença do corpus inteiro."
   ]
  },
  {
   "cell_type": "code",
   "execution_count": null,
   "metadata": {
    "colab": {
     "base_uri": "https://localhost:8080/"
    },
    "id": "h6Zf6RgZPNef",
    "outputId": "57216f34-4578-47c3-c514-f0b9dd196ee8"
   },
   "outputs": [],
   "source": [
    "sentenca_amostra = data['sentenca'].iloc[0]\n",
    "tokens = tokenizer.tokenize(sentenca_amostra)\n",
    "token_ids = tokenizer.convert_tokens_to_ids(tokens)\n",
    "print(f'- Sentença: {sentenca_amostra}')\n",
    "print(f'- Tokens: {tokens}')\n",
    "print(f'- Token IDs: {token_ids}')"
   ]
  },
  {
   "cell_type": "markdown",
   "metadata": {
    "id": "MJhDbPpPPNei"
   },
   "source": [
    "<h2> Tokens Especiais </h2>\n",
    "\n",
    "[SEP] - Token que marca o fim da sentença.\n",
    "('[SEP]', 102)\n",
    "\n",
    "[CLS] - Token que marca o início da sentença.\n",
    "('[CLS]', 101)\n",
    "\n",
    "[PAD] - Token para preenchimento da sentença para que todas fiquem em um cumprimento fixo.\n",
    "('[PAD]', 0)\n",
    "\n",
    "[UNK] - Token para todos os tokens que a BERT desconhece\n",
    "('[UNK]', 100)"
   ]
  },
  {
   "cell_type": "markdown",
   "metadata": {
    "id": "yayHWKhoPNej"
   },
   "source": [
    "<h2>Estabelecendo o comprimento da sentença</h2>\n",
    "\n",
    "O BERT trabalha com sequências de comprimento fixo. \n",
    "Vamos armazenar o comprimento do token de cada avaliação e capturar o comprimento máximo"
   ]
  },
  {
   "cell_type": "code",
   "execution_count": null,
   "metadata": {
    "colab": {
     "base_uri": "https://localhost:8080/"
    },
    "id": "iseeKZASPNek",
    "outputId": "d4342ca5-74ee-4e69-8a00-865c3e0f7115"
   },
   "outputs": [],
   "source": [
    "token_lens = []\n",
    "for txt in data.sentenca:\n",
    "    tokens = tokenizer.encode(txt, max_length=512, truncation= True)\n",
    "    token_lens.append(len(tokens))\n",
    "    if len(tokens) > 170:\n",
    "        print(txt)\n",
    "    \n",
    "MAX_LENGHT = max(token_lens)\n",
    "print(MAX_LENGHT)"
   ]
  },
  {
   "cell_type": "markdown",
   "metadata": {
    "id": "J87pCVBFdOJ5"
   },
   "source": [
    "<h2>Estabelecendo o comprimento do maior par de entidades</h2>\n",
    "\n",
    "O BERT trabalha com sequências de comprimento fixo. \n",
    "Vamos armazenar o comprimento do token de cada par de sentença e capturar o comprimento máximo\n"
   ]
  },
  {
   "cell_type": "code",
   "execution_count": null,
   "metadata": {
    "colab": {
     "base_uri": "https://localhost:8080/"
    },
    "id": "TSRk1FMHdKxi",
    "outputId": "e3d1120d-239e-49d0-e1ce-535bcec0518a"
   },
   "outputs": [],
   "source": [
    "entities_token_lens = []\n",
    "for txt in data.entidades:\n",
    "    tokens = tokenizer.encode(txt, max_length=512, truncation= True)\n",
    "    entities_token_lens.append(len(tokens))\n",
    "    if len(tokens) > 20:\n",
    "        print(txt)\n",
    "    \n",
    "MAX_ENTITIES_LENGHT = max(entities_token_lens)\n",
    "print(MAX_ENTITIES_LENGHT)"
   ]
  },
  {
   "cell_type": "markdown",
   "metadata": {
    "id": "4-KwxEOxPNen"
   },
   "source": [
    "Histograma dos tokens\n",
    "\n",
    "para visualizar a distribuição das sentenças em relação a distribuição dos tokens."
   ]
  },
  {
   "cell_type": "code",
   "execution_count": null,
   "metadata": {
    "colab": {
     "base_uri": "https://localhost:8080/",
     "height": 564
    },
    "id": "A40txSVOPNeo",
    "outputId": "fc2e87d5-101d-4615-ae9a-f835e6491334"
   },
   "outputs": [],
   "source": [
    "sns.distplot(token_lens)\n",
    "plt.xlim([0, 256]);\n",
    "plt.xlabel('Token count');"
   ]
  },
  {
   "cell_type": "markdown",
   "metadata": {
    "id": "SvX2uf0cPNet"
   },
   "source": [
    "<h2>Classe de pré-processamento</h2>\n",
    "    \n",
    "Temos todos os blocos de construção necessários para criar um conjunto de dados PyTorch. Isso será feito a partir de uma classe estabelecida abaixo.\n",
    "\n",
    "O tokenizer está fazendo a maior parte do trabalho. Também devolve a sentença que foi classificada, para que seja mais fácil avaliar as previsões do modelo. "
   ]
  },
  {
   "cell_type": "code",
   "execution_count": null,
   "metadata": {
    "id": "WkBHeFktPNeu"
   },
   "outputs": [],
   "source": [
    "class preProccesDataset(Dataset):\n",
    "    \n",
    "    def __init__(self, sentence, entity1, entity2, entities, targets, tokenizer, max_len, max_len_entities):\n",
    "        self.sentence = sentence\n",
    "        self.entity1 = entity1\n",
    "        self.entity2 = entity2\n",
    "        self.entities = entities\n",
    "        self.targets = targets\n",
    "        self.tokenizer = tokenizer\n",
    "        self.max_len = max_len\n",
    "        self.max_len_entities = max_len_entities\n",
    "    \n",
    "    def __len__(self):\n",
    "        return len(self.sentence)\n",
    "    \n",
    "    def __getitem__(self, item):\n",
    "        #inputs = [str(self.sentence[item]), str(self.entity1[item]), str(self.entity2[item])]\n",
    "        inputs = [str(self.sentence[item])]\n",
    "        target = self.targets[item]\n",
    "        # Encodamos todas as entradas\n",
    "        encoding = [\n",
    "                    self.tokenizer.encode_plus(\n",
    "                        x,\n",
    "                        add_special_tokens=True,\n",
    "                        max_length=self.max_len,\n",
    "                        return_token_type_ids=True,\n",
    "                        padding='max_length',\n",
    "                        return_attention_mask=True,\n",
    "                        return_tensors='pt',\n",
    "                        truncation=True\n",
    "                    )\n",
    "                  for x in inputs\n",
    "        ]\n",
    "\n",
    "        entities_inputs = [str(self.entities[item])]\n",
    "        entities_encoding = [\n",
    "                             self.tokenizer.encode_plus(\n",
    "                                 x,\n",
    "                                 add_special_tokens=True,\n",
    "                                 max_length=self.max_len_entities,\n",
    "                                 return_token_type_ids=True,\n",
    "                                 padding='max_length',\n",
    "                                 return_attention_mask=True,\n",
    "                                 return_tensors='pt',\n",
    "                                 truncation=True\n",
    "                              )\n",
    "                             for x in entities_inputs\n",
    "        ]\n",
    "\n",
    "        # Contatenamos os ids e attention_masks das sentencas e entidades\\n\",\n",
    "        input_ids = torch.cat(tuple(x['input_ids'].flatten() for x in encoding), dim=0)\n",
    "        attention_mask = torch.cat(tuple(x['attention_mask'].flatten() for x in encoding), dim=0)\n",
    "\n",
    "        input_entities_ids = torch.cat(tuple(x['input_ids'].flatten() for x in entities_encoding), dim=0)\n",
    "        attention_entities_mask = torch.cat(tuple(x['attention_mask'].flatten() for x in entities_encoding), dim=0)\n",
    "        \n",
    "        return {\n",
    "          'input_text': inputs,\n",
    "          'input_ids': input_ids,\n",
    "          'attention_mask': attention_mask,\n",
    "          'targets': torch.tensor(target, dtype=torch.long),\n",
    "          'input_entities_text': entities_inputs,\n",
    "          'input_entities_ids': input_entities_ids,\n",
    "          'attention_entities_mask': attention_entities_mask\n",
    "        }"
   ]
  },
  {
   "cell_type": "markdown",
   "metadata": {
    "id": "apH43X0IPNex"
   },
   "source": [
    "<h2>Separação dos dados</h2>\n",
    "Treino, Teste e Validação\n",
    "\n",
    "Dividindo os dados entre treino (x%) e teste (y%), onde x+y = 100\n",
    "\n",
    "Em seguida, divide os dados de teste entre teste (x%) e validação (y%), onde x+y = 100\n",
    "\n",
    "Na função de separação dos dados foi configurado o parâmetro de <b>stratify</b>, para que possamos separar os dados respeitando a distribuição das classes"
   ]
  },
  {
   "cell_type": "code",
   "execution_count": null,
   "metadata": {
    "colab": {
     "base_uri": "https://localhost:8080/"
    },
    "id": "7pfEB3b0PNey",
    "outputId": "3d2857b8-2008-4897-9c65-a9a97374e724"
   },
   "outputs": [],
   "source": [
    "df_train, df_test = train_test_split(\n",
    "  data,\n",
    "  test_size=0.2,\n",
    "  random_state=RANDOM_SEED,\n",
    "  stratify = data['class']\n",
    ")\n",
    "\n",
    "df_val, df_test = train_test_split(\n",
    "  df_test,\n",
    "  test_size=0.5,\n",
    "  random_state=RANDOM_SEED,\n",
    "  stratify = df_test['class']\n",
    ")\n",
    "\n",
    "df_train.shape, df_test.shape, df_val.shape"
   ]
  },
  {
   "cell_type": "code",
   "execution_count": null,
   "metadata": {
    "colab": {
     "base_uri": "https://localhost:8080/"
    },
    "id": "hX0_zpl5PNe2",
    "outputId": "70bde474-5726-4cf0-e637-41c4dd91f28d"
   },
   "outputs": [],
   "source": [
    "df_train.info()"
   ]
  },
  {
   "cell_type": "code",
   "execution_count": null,
   "metadata": {
    "colab": {
     "base_uri": "https://localhost:8080/"
    },
    "id": "bdJa6OlKPNe5",
    "outputId": "7f976877-f17b-4b39-fc69-1ff42e5b6ce9"
   },
   "outputs": [],
   "source": [
    "df_test.info()"
   ]
  },
  {
   "cell_type": "code",
   "execution_count": null,
   "metadata": {
    "colab": {
     "base_uri": "https://localhost:8080/"
    },
    "id": "My9cKAK5PNe8",
    "outputId": "5af7e0f9-1b8f-4c9a-b59a-42b860a903fe"
   },
   "outputs": [],
   "source": [
    "df_val.info()"
   ]
  },
  {
   "cell_type": "markdown",
   "metadata": {
    "id": "gebi026DPNfA"
   },
   "source": [
    "<h2>Data Loader </h2>\n",
    "Função que auxilia na criação dos dataloaders dos dados utilizando a classe recém criada de processamento de sentenças."
   ]
  },
  {
   "cell_type": "code",
   "execution_count": null,
   "metadata": {
    "id": "noZjfmy2PNfA"
   },
   "outputs": [],
   "source": [
    "def create_data_loader(df, tokenizer, max_len, batch_size, max_len_entities):\n",
    "    ds = preProccesDataset(\n",
    "        sentence=df['sentenca'].to_numpy(),\n",
    "        entity1=df['entidade1'].to_numpy(),\n",
    "        entity2=df['entidade2'].to_numpy(),\n",
    "        entities=df['entidades'].to_numpy(),\n",
    "        targets=df['class'].to_numpy(),\n",
    "        tokenizer=tokenizer,\n",
    "        max_len=max_len,\n",
    "        max_len_entities=max_len_entities\n",
    "  )\n",
    "    return DataLoader(\n",
    "        ds,\n",
    "        batch_size=batch_size,\n",
    "        num_workers=0\n",
    "  )"
   ]
  },
  {
   "cell_type": "markdown",
   "metadata": {
    "id": "zHUkeHHgPNfG"
   },
   "source": [
    "Criando os data loaders para cada função de dataset"
   ]
  },
  {
   "cell_type": "code",
   "execution_count": null,
   "metadata": {
    "id": "h92e5DyUvPMX"
   },
   "outputs": [],
   "source": [
    "BATCH_SIZE = 32"
   ]
  },
  {
   "cell_type": "code",
   "execution_count": null,
   "metadata": {
    "id": "xwn8hx42PNfG"
   },
   "outputs": [],
   "source": [
    "train_data_loader = create_data_loader(df_train, tokenizer, MAX_LENGHT, BATCH_SIZE, MAX_ENTITIES_LENGHT)\n",
    "val_data_loader = create_data_loader(df_val, tokenizer, MAX_LENGHT, BATCH_SIZE, MAX_ENTITIES_LENGHT)\n",
    "test_data_loader = create_data_loader(df_test, tokenizer, MAX_LENGHT, BATCH_SIZE, MAX_ENTITIES_LENGHT)"
   ]
  },
  {
   "cell_type": "markdown",
   "metadata": {
    "id": "47q5PexYPNfK"
   },
   "source": [
    "Exemplo do data loader de treinamento:"
   ]
  },
  {
   "cell_type": "code",
   "execution_count": null,
   "metadata": {
    "colab": {
     "base_uri": "https://localhost:8080/"
    },
    "id": "LSxkJZXQPNfK",
    "outputId": "70e81dea-d259-4198-8fde-08f1e1f19e2d"
   },
   "outputs": [],
   "source": [
    "df = next(iter(train_data_loader))\n",
    "print(df.keys())\n",
    "\n",
    "print(df['input_ids'].shape)\n",
    "print(df['attention_mask'].shape)\n",
    "print(df['input_entities_ids'].shape)\n",
    "print(df['attention_entities_mask'].shape)\n",
    "print(df['targets'].shape)"
   ]
  },
  {
   "cell_type": "code",
   "execution_count": null,
   "metadata": {
    "colab": {
     "base_uri": "https://localhost:8080/"
    },
    "id": "mx-WVvgCPNfP",
    "outputId": "b154ec66-0d22-4c3d-ab67-87f2d024a6cb"
   },
   "outputs": [],
   "source": [
    "x = next(iter(train_data_loader))\n",
    "x"
   ]
  },
  {
   "cell_type": "markdown",
   "metadata": {
    "id": "KBAz0GHxPNfb"
   },
   "source": [
    "<h2>Modelo Classificador</h2>\n",
    "\n",
    "Criando um classificador que use o modelo <b>BERT</b>:\n",
    "\n",
    "O classificador delega a maior parte do trabalho pesado para o BertModel. Usamos uma camada de eliminação para alguma regularização e uma camada totalmente conectada para nossa saída. \n",
    "\n",
    "Retorna a saída bruta da última camada, pois isso é necessário para que a função de perda de entropia cruzada em PyTorch funcione."
   ]
  },
  {
   "cell_type": "code",
   "execution_count": null,
   "metadata": {
    "id": "sxTVjDDGPNfc"
   },
   "outputs": [],
   "source": [
    "class ModeloVerificaRelacao(nn.Module):\n",
    "    \n",
    "    def __init__(self, n_classes, bert_embedding_model, hidden_size, dropout_prob=0.1):\n",
    "        \n",
    "        super(ModeloVerificaRelacao, self).__init__()\n",
    "        self._drop_prob = dropout_prob\n",
    "        \n",
    "        self.bert_sentenca = bert_embedding_model if bert_embedding_model is not None else BertModel.from_pretrained(PRE_TRAINED_MODEL_NAME,num_labels=n_classes)\n",
    "        self.bert_entity = bert_embedding_model if bert_embedding_model is not None else BertModel.from_pretrained(PRE_TRAINED_MODEL_NAME,num_labels=n_classes)\n",
    "\n",
    "        self.out = nn.Sequential(\n",
    "            nn.Dropout(self._drop_prob),\n",
    "            nn.Linear(self.bert_sentenca.config.hidden_size+self.bert_entity.config.hidden_size, n_classes)\n",
    "        )\n",
    "        \n",
    "    def forward(self, input_ids, attention_mask, input_entities_ids, attention_entities_mask):\n",
    "        last_hidden_state_sentence, pooled_output_sentence = self.bert_sentenca(input_ids=input_ids,attention_mask=attention_mask) \n",
    "        last_hidden_state_entities, pooled_output_entities = self.bert_entity(input_ids=input_entities_ids,attention_mask=attention_entities_mask) \n",
    "\n",
    "        pooled_output = torch.cat((pooled_output_sentence, pooled_output_entities), 1)\n",
    "    \n",
    "        return self.out(pooled_output)"
   ]
  },
  {
   "cell_type": "markdown",
   "metadata": {
    "id": "t6VizWIDPNfg"
   },
   "source": [
    "Criando uma instância e movê-la para a GPU <b>(caso tenha)</b>"
   ]
  },
  {
   "cell_type": "code",
   "execution_count": null,
   "metadata": {
    "colab": {
     "base_uri": "https://localhost:8080/"
    },
    "id": "vBykppzSPNfh",
    "outputId": "ac25c74b-51c8-47ab-9e56-661c36b07b44"
   },
   "outputs": [],
   "source": [
    "NUM_CLASSES = len(class_names)\n",
    "print(f\"Suggest using {NUM_CLASSES} classes\")\n",
    "NUM_CLASSES=1\n",
    "print(f\"Using {NUM_CLASSES} classes\")"
   ]
  },
  {
   "cell_type": "code",
   "execution_count": null,
   "metadata": {
    "colab": {
     "base_uri": "https://localhost:8080/",
     "height": 115,
     "referenced_widgets": [
      "41fe92937dae4a27a570b6f299eb08ef",
      "f778c357ebe14f9e95007883c8f66a68",
      "387c265c960e45f2b815f7a22d429766",
      "cbbd63e83165435cba260b0734030f8e",
      "f7bd45a50e134f0e889d24cd5349ab5c",
      "81c5f73c8cf04eeeabb4defc7aa781ee",
      "79e93723fbb642838e3d0ba88b698d55",
      "75cee2c74a0142e68918a5937aac9f25",
      "92923d9b393842a080d8ffc807e676be",
      "77191440086f4bdb8ab861b99b743015",
      "7d233c3f6eba4cb59581cad7590c8bd2",
      "9e1381bde6bc4fb996e4f37b34efbc2f",
      "102b5a8c173b4a86b029cfa70fbad3d9",
      "93fbcfbfc0c1492792d606b3ef3d3c83",
      "16d414bc679142c2822a43efb2c1e1d8",
      "7b315ac22631428fb19fa5259bb4bcc0"
     ]
    },
    "id": "ZZZjmWlBpahJ",
    "outputId": "18505d92-98c0-4eb4-83b3-46176904ad3d"
   },
   "outputs": [],
   "source": [
    "bert_model = BertModel.from_pretrained(PRE_TRAINED_MODEL_NAME,num_labels=NUM_CLASSES)"
   ]
  },
  {
   "cell_type": "code",
   "execution_count": null,
   "metadata": {
    "id": "hsTgnmeipcsm"
   },
   "outputs": [],
   "source": [
    "model = ModeloVerificaRelacao(n_classes=NUM_CLASSES, bert_embedding_model=bert_model, hidden_size=512, dropout_prob=0.1)"
   ]
  },
  {
   "cell_type": "markdown",
   "metadata": {
    "id": "_TMzL4k3PNfo"
   },
   "source": [
    "Lote de exemplo de nossos dados de treinamento movido para a GPU:"
   ]
  },
  {
   "cell_type": "code",
   "execution_count": null,
   "metadata": {
    "colab": {
     "base_uri": "https://localhost:8080/"
    },
    "id": "QllISKBePNfo",
    "outputId": "3e5604a2-a567-49b5-f9af-cbc78f280de7"
   },
   "outputs": [],
   "source": [
    "input_ids = df['input_ids'].to(device)\n",
    "attention_mask = df['attention_mask'].to(device)\n",
    "print(input_ids.shape) \n",
    "print(attention_mask.shape) \n",
    "\n",
    "input_entities_ids = df['input_entities_ids'].to(device)\n",
    "attention_entities_mask = df['attention_entities_mask'].to(device)\n",
    "print(input_entities_ids.shape) \n",
    "print(attention_entities_mask.shape) \n"
   ]
  },
  {
   "cell_type": "markdown",
   "metadata": {
    "id": "ugCbcbWasncF"
   },
   "source": [
    "# Treinamento"
   ]
  },
  {
   "cell_type": "markdown",
   "metadata": {
    "id": "OX_ztprss5Lp"
   },
   "source": [
    "## Definição dos metodos de treinamento"
   ]
  },
  {
   "cell_type": "code",
   "execution_count": null,
   "metadata": {
    "id": "R_KS1vbtPNf1"
   },
   "outputs": [],
   "source": [
    "def train_epoch(model, data_loader, loss_fn, optimizer, device, scheduler, n_examples, verbose=False):\n",
    "    model = model.to(device)\n",
    "    model = model.train()\n",
    "    losses = []\n",
    "    correct_predictions = 0\n",
    "    \n",
    "    counter = 0\n",
    "    data_count = len(data_loader)\n",
    "    \n",
    "    for d in data_loader:\n",
    "        counter += 1\n",
    "\n",
    "        if verbose:\n",
    "          if counter % 50 == 0:\n",
    "            print(\"Performing step {\" + str(counter) + \"} out of a total of {\" + str(data_count) + \"} steps...\")\n",
    "        \n",
    "        targets = d[\"targets\"].to(device)\n",
    "        \n",
    "        outputs = model(\n",
    "            input_ids=d[\"input_ids\"].to(device),\n",
    "            attention_mask=d[\"attention_mask\"].to(device),\n",
    "            input_entities_ids=d[\"input_entities_ids\"].to(device),\n",
    "            attention_entities_mask=d[\"attention_entities_mask\"].to(device)\n",
    "        )\n",
    "        \n",
    "        # if (device == 'cpu'):\n",
    "          # print('Saída Modelo: ' + str(outputs.detach().numpy()) + '\\nPredição 0/1: ' + str([1 if x.item(0) >= 0.5 else 0 for x in outputs.detach().numpy()]) + str('\\nValor Real: ' + str(targets)))\n",
    "          # preds = torch.tensor([1 if x.item(0) >= 0.5 else 0 for x in outputs.detach().numpy()])\n",
    "        # else:\n",
    "          # print('Saída Modelo: ' + str(outputs.cpu().detach().numpy()) + '\\nPredição 0/1: ' + str([1 if x.item(0) >= 0.5 else 0 for x in outputs.cpu().detach().numpy()]) + str('\\nValor Real: ' + str(targets)))\n",
    "          # preds = torch.tensor([1 if x.item(0) >= 0.5 else 0 for x in outputs.cpu().detach().numpy()]).to(device)\n",
    "        \n",
    "      # print('Acertos: ' + str(preds == targets))\n",
    "      # print('Acertos sumarizados: ' + str(torch.sum(preds == targets)))\n",
    "        \n",
    "        loss = loss_fn(outputs, targets.unsqueeze(1).float())\n",
    "        \n",
    "        # correct_predictions += torch.sum(preds == targets)\n",
    "        losses.append(loss.item())\n",
    "        \n",
    "        loss.backward()\n",
    "        # nn.utils.clip_grad_norm_(model.parameters(), max_norm=1.0)\n",
    "        optimizer.step()\n",
    "        # scheduler.step()\n",
    "        optimizer.zero_grad()\n",
    "    \n",
    "    return np.mean(losses)"
   ]
  },
  {
   "cell_type": "markdown",
   "metadata": {
    "id": "H3rKLD3ePNf6"
   },
   "source": [
    "O treinamento do modelo deve parecer familiar, exceto por duas coisas. O scheduler é chamado sempre que um lote é alimentado para o modelo. A explosão de gradientes está sendo evitada recortando os gradientes do modelo usando <i><b>clipgrad_norm</b></i>.\n",
    "\n",
    "Outra função para avaliar o modelo em um determinado data loader:"
   ]
  },
  {
   "cell_type": "code",
   "execution_count": null,
   "metadata": {
    "id": "OOxm3LjNPNf7"
   },
   "outputs": [],
   "source": [
    "def eval_model(model, data_loader, loss_fn, device, n_examples, verbose=False):\n",
    "\n",
    "    model = model.eval()\n",
    "    losses = []\n",
    "    correct_predictions = 0\n",
    "    \n",
    "    with torch.no_grad():\n",
    "        counter = 0\n",
    "        data_count = len(data_loader)\n",
    "    \n",
    "        for d in data_loader:\n",
    "            counter += 1\n",
    "            \n",
    "            if verbose:\n",
    "              if counter % 10 == 0:\n",
    "                print(\"Performing step {\" + str(counter) + \"} out of a total of {\" + str(data_count) + \"} steps...\")\n",
    "            \n",
    "            targets = d[\"targets\"].to(device)\n",
    "            \n",
    "            outputs = model(\n",
    "                input_ids=input_ids,\n",
    "                attention_mask=attention_mask,\n",
    "                input_entities_ids=input_entities_ids,\n",
    "                attention_entities_mask=attention_entities_mask\n",
    "            )\n",
    "            \n",
    "            # if (device == 'cpu'):\n",
    "              # print('Saída Modelo: ' + str(outputs.detach().numpy()) + '\\nPredição 0/1: ' + str([1 if x.item(0) >= 0.5 else 0 for x in outputs.detach().numpy()]) + str('\\nValor Real: ' + str(targets)))\n",
    "              # preds = torch.tensor([1 if x.item(0) >= 0.5 else 0 for x in outputs.detach().numpy()])\n",
    "            # else:\n",
    "              # print('Saída Modelo: ' + str(outputs.cpu().detach().numpy()) + '\\nPredição 0/1: ' + str([1 if x.item(0) >= 0.5 else 0 for x in outputs.cpu().detach().numpy()]) + str('\\nValor Real: ' + str(targets)))\n",
    "              # preds = torch.tensor([1 if x.item(0) >= 0.5 else 0 for x in outputs.cpu().detach().numpy()]).to(device)\n",
    "\n",
    "            # print('Acertos: ' + str(preds == targets))\n",
    "            # print('Acertos sumarizados: ' + str(torch.sum(preds == targets)))\n",
    "\n",
    "            if targets.size(0) != outputs.size(0):\n",
    "              if verbose:\n",
    "                print(f\"Ignoring a VALIDATION step because outputs and targets have different shapes (outputs shape: {outputs.shape} ; targets shape: {targets.shape})\")\n",
    "              continue\n",
    "\n",
    "            loss = loss_fn(outputs, targets.unsqueeze(1).float())\n",
    "            \n",
    "            # correct_predictions += torch.sum(preds == targets)\n",
    "            losses.append(loss.item())\n",
    "\n",
    "    return np.mean(losses)"
   ]
  },
  {
   "cell_type": "code",
   "execution_count": null,
   "metadata": {
    "id": "UJ7-la91MuCP"
   },
   "outputs": [],
   "source": [
    "import gc\n",
    "\n",
    "def del_cache():\n",
    "  gc.collect()\n",
    "  torch.cuda.empty_cache() # Apaga o cache do cuda"
   ]
  },
  {
   "cell_type": "code",
   "execution_count": null,
   "metadata": {
    "id": "FSS0iIxCFgmY"
   },
   "outputs": [],
   "source": [
    "def plot_loss(train_loss, val_loss):\n",
    "  plt.plot(train_loss, label='train loss')\n",
    "  plt.plot(val_loss, label='validation loss')\n",
    "  plt.title('Training history')\n",
    "  plt.ylabel('Loss')\n",
    "  plt.xlabel('Epoch')\n",
    "  plt.legend()\n",
    "  plt.ylim([0, 1]);"
   ]
  },
  {
   "cell_type": "markdown",
   "metadata": {
    "id": "s7bNbe4cMSjq"
   },
   "source": [
    "## Ajustes de parametros e treinamento"
   ]
  },
  {
   "cell_type": "markdown",
   "metadata": {
    "id": "FagAmOOrPNfu"
   },
   "source": [
    "Para reproduzir o procedimento de treinamento do artigo de BERT, usamos o otimizador AdamW fornecido por Hugging Face. Ele corrige a deterioração do peso. Também usaremos um agendador linear sem etapas de warmup:"
   ]
  },
  {
   "cell_type": "code",
   "execution_count": null,
   "metadata": {
    "id": "HXGcjPDjPNfv"
   },
   "outputs": [],
   "source": [
    "# LR: 1e-4, 1e-3, 1e-2\n",
    "lr = 0.001412\n",
    "EPOCHS = 30\n",
    "optimizer = torch.optim.SGD(model.parameters(), lr=lr)\n",
    "total_steps = len(train_data_loader) * EPOCHS\n",
    "scheduler = get_linear_schedule_with_warmup(\n",
    "  optimizer,\n",
    "  num_warmup_steps=0,\n",
    "  num_training_steps=total_steps\n",
    ")\n",
    "\n",
    "loss_fn = nn.BCEWithLogitsLoss().to(device)\n",
    "#loss_fn = nn.BCEWithLogitsLoss().to(device)\n",
    "# Take a look at https://discuss.pytorch.org/t/bceloss-vs-bcewithlogitsloss/33586/13"
   ]
  },
  {
   "cell_type": "markdown",
   "metadata": {
    "id": "4Kb7vd2MPNf0"
   },
   "source": [
    "De onde são esses hiperparâmetros? Os autores do BERT têm algumas recomendações para o ajuste fino:\n",
    "\n",
    "- Tamanho do lote: 16, 32\n",
    "- Taxa de aprendizagem (Adam): 5e-5, 3e-5, 2e-5\n",
    "- Número de épocas: 2, 3, 4\n",
    "- Vamos ignorar a recomendação do número de épocas, mas ficar com o resto. Observe que aumentar o tamanho do lote reduz significativamente o tempo de treinamento, mas oferece menor precisão.\n",
    "\n",
    "Função auxiliar para treinar o modelo para uma época:"
   ]
  },
  {
   "cell_type": "markdown",
   "metadata": {
    "id": "e7je_0prPNgI"
   },
   "source": [
    "Usando essas duas funções, temos o loop de treinamento. \n",
    "Também armazenaremos o histórico de treinamento:"
   ]
  },
  {
   "cell_type": "code",
   "execution_count": null,
   "metadata": {
    "id": "n3gJ1GISMZZL"
   },
   "outputs": [],
   "source": [
    "del_cache()"
   ]
  },
  {
   "cell_type": "code",
   "execution_count": null,
   "metadata": {
    "colab": {
     "base_uri": "https://localhost:8080/"
    },
    "id": "_OOGb389agc8",
    "outputId": "e73c0ba5-6090-4236-f180-7fa9de7ead5b"
   },
   "outputs": [],
   "source": [
    "%%time\n",
    "history = defaultdict(list)\n",
    "best_loss = 1000\n",
    "verbose=True\n",
    "for epoch in range(EPOCHS):\n",
    "\n",
    "    if verbose:\n",
    "      print(f'Epoch {epoch + 1}/{EPOCHS}')\n",
    "      print('-' * 10)\n",
    "\n",
    "    train_loss = train_epoch(\n",
    "        model,\n",
    "        train_data_loader,\n",
    "        loss_fn,\n",
    "        optimizer,\n",
    "        device,\n",
    "        scheduler,\n",
    "        len(df_train),\n",
    "        verbose=verbose\n",
    "    )\n",
    "  \n",
    "    if verbose:\n",
    "      print(f'>>>>>> Train loss {train_loss}')\n",
    "      print(f'>>> Evaluating with validation data..')\n",
    "    \n",
    "    val_loss = eval_model(\n",
    "        model,\n",
    "        val_data_loader,\n",
    "        loss_fn,\n",
    "        device,\n",
    "        len(df_val),\n",
    "        verbose=verbose\n",
    "    )\n",
    "    \n",
    "    if verbose:\n",
    "      print(f'>>>>>> Val loss {val_loss}')\n",
    "      print()\n",
    "  \n",
    "    # history['train_acc'].append(train_acc)\n",
    "    history['train_loss'].append(train_loss)\n",
    "    # history['val_acc'].append(val_acc)\n",
    "    history['val_loss'].append(val_loss)\n",
    "\n",
    "    # plot_loss(train_loss=history['train_loss'], val_loss=history['val_loss'])\n",
    "  \n",
    "    if val_loss < best_loss:\n",
    "        torch.save(model.state_dict(), 'best_model_state.bin')\n",
    "        best_loss = val_loss"
   ]
  },
  {
   "cell_type": "markdown",
   "metadata": {
    "id": "oOL3CI3ZPNgO"
   },
   "source": [
    "O estado do melhor modelo é armazenado, indicado pela maior precisão de validação.\n",
    "É possível observar a precisão do treinamento vs validação:"
   ]
  },
  {
   "cell_type": "code",
   "execution_count": null,
   "metadata": {
    "colab": {
     "base_uri": "https://localhost:8080/"
    },
    "id": "qFB1A2vrPNgP",
    "outputId": "f676336b-c502-4520-ce92-5415cb798407"
   },
   "outputs": [],
   "source": [
    "plot_loss(train_loss=history['train_loss'], val_loss=history['val_loss'])"
   ]
  },
  {
   "cell_type": "markdown",
   "metadata": {
    "id": "A3AqKJfFPNgT"
   },
   "source": [
    "<h2>Avaliação do Modelo</h2>\n",
    "\n",
    "Avaliação do modelo treinado. Cálculo da acurácia"
   ]
  },
  {
   "cell_type": "code",
   "execution_count": null,
   "metadata": {
    "colab": {
     "base_uri": "https://localhost:8080/"
    },
    "id": "w-84YYOfPNgU",
    "outputId": "b1044509-abc7-413a-fdf0-326801f8c521"
   },
   "outputs": [],
   "source": [
    "test_loss = eval_model(\n",
    "    model,\n",
    "    test_data_loader,\n",
    "    loss_fn,\n",
    "    device,\n",
    "    len(df_test)\n",
    ")\n",
    "test_loss.item()\n"
   ]
  },
  {
   "cell_type": "markdown",
   "metadata": {
    "id": "4Uk7bbxuPNgY"
   },
   "source": [
    "Função que vai calcular essa acurácia automaticamente"
   ]
  },
  {
   "cell_type": "code",
   "execution_count": null,
   "metadata": {
    "id": "v7eSi_9MPNga"
   },
   "outputs": [],
   "source": [
    "def get_predictions(model, data_loader):\n",
    "    model = model.eval()\n",
    "    review_texts = []\n",
    "    predictions = []\n",
    "    prediction_probs = []\n",
    "    real_values = []\n",
    "    with torch.no_grad():\n",
    "        for d in data_loader:\n",
    "            \n",
    "            texts = d[\"input_text\"]\n",
    "            \n",
    "            input_ids = d[\"input_ids\"].to(device)\n",
    "            input_entities_ids = d[\"input_entities_ids\"].to(device)\n",
    "\n",
    "            attention_mask = d[\"attention_mask\"].to(device)\n",
    "            attention_entities_mask = d[\"attention_entities_mask\"].to(device)\n",
    "\n",
    "            targets = d[\"targets\"].to(device)\n",
    "            \n",
    "            outputs = model(\n",
    "                input_ids=input_ids,\n",
    "                attention_mask=attention_mask,\n",
    "                input_entities_ids=input_entities_ids,\n",
    "\t              attention_entities_mask=attention_entities_mask\n",
    "              )\n",
    "\n",
    "            if(device == 'cpu'):\n",
    "                print('Saída Modelo: ' + str(outputs.detach().numpy()) + '\\nPredição 0/1: ' + str([1 if x.item(0) >= 0.5 else 0 for x in outputs.detach().numpy()]) + str('\\nValor Real: ' + str(targets)))\n",
    "                preds = torch.tensor([1 if x.item(0) >= 0.5 else 0 for x in outputs.detach().numpy()])\n",
    "            else:\n",
    "                print('Saída Modelo: ' + str(outputs.cpu().detach().numpy()) + '\\nPredição 0/1: ' + str([1 if x.item(0) >= 0.5 else 0 for x in outputs.cpu().detach().numpy()]) + str('\\nValor Real: ' + str(targets)))\n",
    "                preds = torch.tensor([1 if x.item(0) >= 0.5 else 0 for x in outputs.cpu().detach().numpy()]).to(device)\n",
    "\n",
    "            print('Acertos: ' + str(preds == targets))\n",
    "            print('Acertos sumarizados: ' + str(torch.sum(preds == targets)))\n",
    "            review_texts.extend(texts)\n",
    "            predictions.extend(preds)\n",
    "            prediction_probs.extend(outputs)\n",
    "            real_values.extend(targets)\n",
    "    \n",
    "    predictions = torch.stack(predictions).cpu()\n",
    "    prediction_probs = torch.stack(prediction_probs).cpu()\n",
    "    real_values = torch.stack(real_values).cpu()\n",
    "  \n",
    "    return review_texts, predictions, prediction_probs, real_values"
   ]
  },
  {
   "cell_type": "markdown",
   "metadata": {
    "id": "H0Ey8zzkPNgf"
   },
   "source": [
    "<h3>Chamada da Função para calcular as predições</h3>\n",
    "\n",
    "Semelhante à função de avaliação, exceto que estamos armazenando o texto das sentenças e as probabilidades previstas"
   ]
  },
  {
   "cell_type": "code",
   "execution_count": null,
   "metadata": {
    "colab": {
     "base_uri": "https://localhost:8080/"
    },
    "id": "7rFD5LMPPNgg",
    "outputId": "5d40d34c-0a4c-4515-e944-7d0407763869"
   },
   "outputs": [],
   "source": [
    "y_review_texts, y_pred, y_pred_probs, y_test = get_predictions(\n",
    "    model,\n",
    "    test_data_loader\n",
    ")"
   ]
  },
  {
   "cell_type": "markdown",
   "metadata": {
    "id": "OKBtywTtPNgk"
   },
   "source": [
    "<h3>Relatório da Classificação</h3>"
   ]
  },
  {
   "cell_type": "code",
   "execution_count": null,
   "metadata": {
    "colab": {
     "base_uri": "https://localhost:8080/"
    },
    "id": "R2luzZWzPNgl",
    "outputId": "8c8b8ce2-9094-4b59-f928-e2fa995f8d8b"
   },
   "outputs": [],
   "source": [
    "print(classification_report(y_test, y_pred, target_names=class_names))"
   ]
  },
  {
   "cell_type": "markdown",
   "metadata": {
    "id": "8uBPkSBvPNgq"
   },
   "source": [
    "<h3>Matriz de Confusão</h3>"
   ]
  },
  {
   "cell_type": "code",
   "execution_count": null,
   "metadata": {
    "colab": {
     "base_uri": "https://localhost:8080/"
    },
    "id": "lMRwv_ghPNgq",
    "outputId": "f93b6ff2-64da-441a-a3f7-48e73c3f6f22"
   },
   "outputs": [],
   "source": [
    "def show_confusion_matrix(confusion_matrix):\n",
    "    hmap = sns.heatmap(confusion_matrix, annot=True, fmt=\"d\", cmap=\"Blues\")\n",
    "    hmap.yaxis.set_ticklabels(hmap.yaxis.get_ticklabels(), rotation=0, ha='right')\n",
    "    hmap.xaxis.set_ticklabels(hmap.xaxis.get_ticklabels(), rotation=30, ha='right')\n",
    "    plt.ylabel('Classificação Real')\n",
    "    plt.xlabel('Classificação Predita');\n",
    "    \n",
    "cm = confusion_matrix(y_test, y_pred)\n",
    "df_cm = pd.DataFrame(cm, index=class_names, columns=class_names)\n",
    "\n",
    "show_confusion_matrix(df_cm)"
   ]
  },
  {
   "cell_type": "code",
   "execution_count": null,
   "metadata": {
    "colab": {
     "base_uri": "https://localhost:8080/"
    },
    "id": "d-azBUNwPNgv",
    "outputId": "f15323dd-a9e7-4ac1-a35e-7a527e2cf1c5"
   },
   "outputs": [],
   "source": [
    "y_review_texts, y_pred, y_pred_probs, y_test"
   ]
  }
 ],
 "metadata": {
  "accelerator": "GPU",
  "colab": {
   "collapsed_sections": [],
   "name": "3_RelationIdentifierBERT.ipynb",
   "provenance": [],
   "toc_visible": true
  },
  "kernelspec": {
   "display_name": "Python 3",
   "language": "python",
   "name": "python3"
  },
  "language_info": {
   "codemirror_mode": {
    "name": "ipython",
    "version": 3
   },
   "file_extension": ".py",
   "mimetype": "text/x-python",
   "name": "python",
   "nbconvert_exporter": "python",
   "pygments_lexer": "ipython3",
   "version": "3.7.3"
  },
  "widgets": {
   "application/vnd.jupyter.widget-state+json": {
    "04a97dcdfaf943d19386d775ec7a09f9": {
     "model_module": "@jupyter-widgets/base",
     "model_name": "LayoutModel",
     "state": {
      "_model_module": "@jupyter-widgets/base",
      "_model_module_version": "1.2.0",
      "_model_name": "LayoutModel",
      "_view_count": null,
      "_view_module": "@jupyter-widgets/base",
      "_view_module_version": "1.2.0",
      "_view_name": "LayoutView",
      "align_content": null,
      "align_items": null,
      "align_self": null,
      "border": null,
      "bottom": null,
      "display": null,
      "flex": null,
      "flex_flow": null,
      "grid_area": null,
      "grid_auto_columns": null,
      "grid_auto_flow": null,
      "grid_auto_rows": null,
      "grid_column": null,
      "grid_gap": null,
      "grid_row": null,
      "grid_template_areas": null,
      "grid_template_columns": null,
      "grid_template_rows": null,
      "height": null,
      "justify_content": null,
      "justify_items": null,
      "left": null,
      "margin": null,
      "max_height": null,
      "max_width": null,
      "min_height": null,
      "min_width": null,
      "object_fit": null,
      "object_position": null,
      "order": null,
      "overflow": null,
      "overflow_x": null,
      "overflow_y": null,
      "padding": null,
      "right": null,
      "top": null,
      "visibility": null,
      "width": null
     }
    },
    "102b5a8c173b4a86b029cfa70fbad3d9": {
     "model_module": "@jupyter-widgets/controls",
     "model_name": "ProgressStyleModel",
     "state": {
      "_model_module": "@jupyter-widgets/controls",
      "_model_module_version": "1.5.0",
      "_model_name": "ProgressStyleModel",
      "_view_count": null,
      "_view_module": "@jupyter-widgets/base",
      "_view_module_version": "1.2.0",
      "_view_name": "StyleView",
      "bar_color": null,
      "description_width": "initial"
     }
    },
    "109777b3485f4a24b0472068c395ba64": {
     "model_module": "@jupyter-widgets/controls",
     "model_name": "FloatProgressModel",
     "state": {
      "_dom_classes": [],
      "_model_module": "@jupyter-widgets/controls",
      "_model_module_version": "1.5.0",
      "_model_name": "FloatProgressModel",
      "_view_count": null,
      "_view_module": "@jupyter-widgets/controls",
      "_view_module_version": "1.5.0",
      "_view_name": "ProgressView",
      "bar_style": "success",
      "description": "Downloading: 100%",
      "description_tooltip": null,
      "layout": "IPY_MODEL_a0565f8930924d70bd62be41bb8d2d0f",
      "max": 2,
      "min": 0,
      "orientation": "horizontal",
      "style": "IPY_MODEL_d77559d7fb324268b4f8388ac1fd10d5",
      "value": 2
     }
    },
    "16d414bc679142c2822a43efb2c1e1d8": {
     "model_module": "@jupyter-widgets/controls",
     "model_name": "DescriptionStyleModel",
     "state": {
      "_model_module": "@jupyter-widgets/controls",
      "_model_module_version": "1.5.0",
      "_model_name": "DescriptionStyleModel",
      "_view_count": null,
      "_view_module": "@jupyter-widgets/base",
      "_view_module_version": "1.2.0",
      "_view_name": "StyleView",
      "description_width": ""
     }
    },
    "26ceda4a505442058eeed3ab8b7d4c69": {
     "model_module": "@jupyter-widgets/base",
     "model_name": "LayoutModel",
     "state": {
      "_model_module": "@jupyter-widgets/base",
      "_model_module_version": "1.2.0",
      "_model_name": "LayoutModel",
      "_view_count": null,
      "_view_module": "@jupyter-widgets/base",
      "_view_module_version": "1.2.0",
      "_view_name": "LayoutView",
      "align_content": null,
      "align_items": null,
      "align_self": null,
      "border": null,
      "bottom": null,
      "display": null,
      "flex": null,
      "flex_flow": null,
      "grid_area": null,
      "grid_auto_columns": null,
      "grid_auto_flow": null,
      "grid_auto_rows": null,
      "grid_column": null,
      "grid_gap": null,
      "grid_row": null,
      "grid_template_areas": null,
      "grid_template_columns": null,
      "grid_template_rows": null,
      "height": null,
      "justify_content": null,
      "justify_items": null,
      "left": null,
      "margin": null,
      "max_height": null,
      "max_width": null,
      "min_height": null,
      "min_width": null,
      "object_fit": null,
      "object_position": null,
      "order": null,
      "overflow": null,
      "overflow_x": null,
      "overflow_y": null,
      "padding": null,
      "right": null,
      "top": null,
      "visibility": null,
      "width": null
     }
    },
    "29a0ecb6ced04e4ead8d22d6d5cdf200": {
     "model_module": "@jupyter-widgets/base",
     "model_name": "LayoutModel",
     "state": {
      "_model_module": "@jupyter-widgets/base",
      "_model_module_version": "1.2.0",
      "_model_name": "LayoutModel",
      "_view_count": null,
      "_view_module": "@jupyter-widgets/base",
      "_view_module_version": "1.2.0",
      "_view_name": "LayoutView",
      "align_content": null,
      "align_items": null,
      "align_self": null,
      "border": null,
      "bottom": null,
      "display": null,
      "flex": null,
      "flex_flow": null,
      "grid_area": null,
      "grid_auto_columns": null,
      "grid_auto_flow": null,
      "grid_auto_rows": null,
      "grid_column": null,
      "grid_gap": null,
      "grid_row": null,
      "grid_template_areas": null,
      "grid_template_columns": null,
      "grid_template_rows": null,
      "height": null,
      "justify_content": null,
      "justify_items": null,
      "left": null,
      "margin": null,
      "max_height": null,
      "max_width": null,
      "min_height": null,
      "min_width": null,
      "object_fit": null,
      "object_position": null,
      "order": null,
      "overflow": null,
      "overflow_x": null,
      "overflow_y": null,
      "padding": null,
      "right": null,
      "top": null,
      "visibility": null,
      "width": null
     }
    },
    "35e8073407b64dd4acd977829e0c6d09": {
     "model_module": "@jupyter-widgets/base",
     "model_name": "LayoutModel",
     "state": {
      "_model_module": "@jupyter-widgets/base",
      "_model_module_version": "1.2.0",
      "_model_name": "LayoutModel",
      "_view_count": null,
      "_view_module": "@jupyter-widgets/base",
      "_view_module_version": "1.2.0",
      "_view_name": "LayoutView",
      "align_content": null,
      "align_items": null,
      "align_self": null,
      "border": null,
      "bottom": null,
      "display": null,
      "flex": null,
      "flex_flow": null,
      "grid_area": null,
      "grid_auto_columns": null,
      "grid_auto_flow": null,
      "grid_auto_rows": null,
      "grid_column": null,
      "grid_gap": null,
      "grid_row": null,
      "grid_template_areas": null,
      "grid_template_columns": null,
      "grid_template_rows": null,
      "height": null,
      "justify_content": null,
      "justify_items": null,
      "left": null,
      "margin": null,
      "max_height": null,
      "max_width": null,
      "min_height": null,
      "min_width": null,
      "object_fit": null,
      "object_position": null,
      "order": null,
      "overflow": null,
      "overflow_x": null,
      "overflow_y": null,
      "padding": null,
      "right": null,
      "top": null,
      "visibility": null,
      "width": null
     }
    },
    "37e6f9daad2343b6b33d54ac059604f1": {
     "model_module": "@jupyter-widgets/controls",
     "model_name": "FloatProgressModel",
     "state": {
      "_dom_classes": [],
      "_model_module": "@jupyter-widgets/controls",
      "_model_module_version": "1.5.0",
      "_model_name": "FloatProgressModel",
      "_view_count": null,
      "_view_module": "@jupyter-widgets/controls",
      "_view_module_version": "1.5.0",
      "_view_name": "ProgressView",
      "bar_style": "success",
      "description": "Downloading: 100%",
      "description_tooltip": null,
      "layout": "IPY_MODEL_26ceda4a505442058eeed3ab8b7d4c69",
      "max": 112,
      "min": 0,
      "orientation": "horizontal",
      "style": "IPY_MODEL_f3eefb3a82e54dc5ac5d2f20adffa76a",
      "value": 112
     }
    },
    "387c265c960e45f2b815f7a22d429766": {
     "model_module": "@jupyter-widgets/controls",
     "model_name": "FloatProgressModel",
     "state": {
      "_dom_classes": [],
      "_model_module": "@jupyter-widgets/controls",
      "_model_module_version": "1.5.0",
      "_model_name": "FloatProgressModel",
      "_view_count": null,
      "_view_module": "@jupyter-widgets/controls",
      "_view_module_version": "1.5.0",
      "_view_name": "ProgressView",
      "bar_style": "success",
      "description": "Downloading: 100%",
      "description_tooltip": null,
      "layout": "IPY_MODEL_81c5f73c8cf04eeeabb4defc7aa781ee",
      "max": 648,
      "min": 0,
      "orientation": "horizontal",
      "style": "IPY_MODEL_f7bd45a50e134f0e889d24cd5349ab5c",
      "value": 648
     }
    },
    "3f625bb6a9b54576bcbd08cdad76c15a": {
     "model_module": "@jupyter-widgets/controls",
     "model_name": "ProgressStyleModel",
     "state": {
      "_model_module": "@jupyter-widgets/controls",
      "_model_module_version": "1.5.0",
      "_model_name": "ProgressStyleModel",
      "_view_count": null,
      "_view_module": "@jupyter-widgets/base",
      "_view_module_version": "1.2.0",
      "_view_name": "StyleView",
      "bar_color": null,
      "description_width": "initial"
     }
    },
    "41fe92937dae4a27a570b6f299eb08ef": {
     "model_module": "@jupyter-widgets/controls",
     "model_name": "HBoxModel",
     "state": {
      "_dom_classes": [],
      "_model_module": "@jupyter-widgets/controls",
      "_model_module_version": "1.5.0",
      "_model_name": "HBoxModel",
      "_view_count": null,
      "_view_module": "@jupyter-widgets/controls",
      "_view_module_version": "1.5.0",
      "_view_name": "HBoxView",
      "box_style": "",
      "children": [
       "IPY_MODEL_387c265c960e45f2b815f7a22d429766",
       "IPY_MODEL_cbbd63e83165435cba260b0734030f8e"
      ],
      "layout": "IPY_MODEL_f778c357ebe14f9e95007883c8f66a68"
     }
    },
    "49fff4dd4a504207808720a529c105ed": {
     "model_module": "@jupyter-widgets/controls",
     "model_name": "HBoxModel",
     "state": {
      "_dom_classes": [],
      "_model_module": "@jupyter-widgets/controls",
      "_model_module_version": "1.5.0",
      "_model_name": "HBoxModel",
      "_view_count": null,
      "_view_module": "@jupyter-widgets/controls",
      "_view_module_version": "1.5.0",
      "_view_name": "HBoxView",
      "box_style": "",
      "children": [
       "IPY_MODEL_89c309daaa5541a087e2bfea0b97ab51",
       "IPY_MODEL_a738a9f826734edb9adee6e3fdef513f"
      ],
      "layout": "IPY_MODEL_709d3bfe7eb3499ca66aaf355996675d"
     }
    },
    "55b3799535eb4b1dac8c1066da3cf4b5": {
     "model_module": "@jupyter-widgets/controls",
     "model_name": "FloatProgressModel",
     "state": {
      "_dom_classes": [],
      "_model_module": "@jupyter-widgets/controls",
      "_model_module_version": "1.5.0",
      "_model_name": "FloatProgressModel",
      "_view_count": null,
      "_view_module": "@jupyter-widgets/controls",
      "_view_module_version": "1.5.0",
      "_view_name": "ProgressView",
      "bar_style": "success",
      "description": "Downloading: 100%",
      "description_tooltip": null,
      "layout": "IPY_MODEL_ba70e8f671e14e9599b1c06cf3dab35e",
      "max": 209528,
      "min": 0,
      "orientation": "horizontal",
      "style": "IPY_MODEL_3f625bb6a9b54576bcbd08cdad76c15a",
      "value": 209528
     }
    },
    "589fde9644c54373b18ba65a5134d4b3": {
     "model_module": "@jupyter-widgets/controls",
     "model_name": "HBoxModel",
     "state": {
      "_dom_classes": [],
      "_model_module": "@jupyter-widgets/controls",
      "_model_module_version": "1.5.0",
      "_model_name": "HBoxModel",
      "_view_count": null,
      "_view_module": "@jupyter-widgets/controls",
      "_view_module_version": "1.5.0",
      "_view_name": "HBoxView",
      "box_style": "",
      "children": [
       "IPY_MODEL_55b3799535eb4b1dac8c1066da3cf4b5",
       "IPY_MODEL_7346ef97006744929af1b39e85b1680a"
      ],
      "layout": "IPY_MODEL_5a01550fbdd444668e6d9a9860081e36"
     }
    },
    "5a01550fbdd444668e6d9a9860081e36": {
     "model_module": "@jupyter-widgets/base",
     "model_name": "LayoutModel",
     "state": {
      "_model_module": "@jupyter-widgets/base",
      "_model_module_version": "1.2.0",
      "_model_name": "LayoutModel",
      "_view_count": null,
      "_view_module": "@jupyter-widgets/base",
      "_view_module_version": "1.2.0",
      "_view_name": "LayoutView",
      "align_content": null,
      "align_items": null,
      "align_self": null,
      "border": null,
      "bottom": null,
      "display": null,
      "flex": null,
      "flex_flow": null,
      "grid_area": null,
      "grid_auto_columns": null,
      "grid_auto_flow": null,
      "grid_auto_rows": null,
      "grid_column": null,
      "grid_gap": null,
      "grid_row": null,
      "grid_template_areas": null,
      "grid_template_columns": null,
      "grid_template_rows": null,
      "height": null,
      "justify_content": null,
      "justify_items": null,
      "left": null,
      "margin": null,
      "max_height": null,
      "max_width": null,
      "min_height": null,
      "min_width": null,
      "object_fit": null,
      "object_position": null,
      "order": null,
      "overflow": null,
      "overflow_x": null,
      "overflow_y": null,
      "padding": null,
      "right": null,
      "top": null,
      "visibility": null,
      "width": null
     }
    },
    "5f1ee7afdcd54cddaa5a233e2d9b4a08": {
     "model_module": "@jupyter-widgets/controls",
     "model_name": "DescriptionStyleModel",
     "state": {
      "_model_module": "@jupyter-widgets/controls",
      "_model_module_version": "1.5.0",
      "_model_name": "DescriptionStyleModel",
      "_view_count": null,
      "_view_module": "@jupyter-widgets/base",
      "_view_module_version": "1.2.0",
      "_view_name": "StyleView",
      "description_width": ""
     }
    },
    "60889895dc444a3a9b2eb01507e9659d": {
     "model_module": "@jupyter-widgets/base",
     "model_name": "LayoutModel",
     "state": {
      "_model_module": "@jupyter-widgets/base",
      "_model_module_version": "1.2.0",
      "_model_name": "LayoutModel",
      "_view_count": null,
      "_view_module": "@jupyter-widgets/base",
      "_view_module_version": "1.2.0",
      "_view_name": "LayoutView",
      "align_content": null,
      "align_items": null,
      "align_self": null,
      "border": null,
      "bottom": null,
      "display": null,
      "flex": null,
      "flex_flow": null,
      "grid_area": null,
      "grid_auto_columns": null,
      "grid_auto_flow": null,
      "grid_auto_rows": null,
      "grid_column": null,
      "grid_gap": null,
      "grid_row": null,
      "grid_template_areas": null,
      "grid_template_columns": null,
      "grid_template_rows": null,
      "height": null,
      "justify_content": null,
      "justify_items": null,
      "left": null,
      "margin": null,
      "max_height": null,
      "max_width": null,
      "min_height": null,
      "min_width": null,
      "object_fit": null,
      "object_position": null,
      "order": null,
      "overflow": null,
      "overflow_x": null,
      "overflow_y": null,
      "padding": null,
      "right": null,
      "top": null,
      "visibility": null,
      "width": null
     }
    },
    "709d3bfe7eb3499ca66aaf355996675d": {
     "model_module": "@jupyter-widgets/base",
     "model_name": "LayoutModel",
     "state": {
      "_model_module": "@jupyter-widgets/base",
      "_model_module_version": "1.2.0",
      "_model_name": "LayoutModel",
      "_view_count": null,
      "_view_module": "@jupyter-widgets/base",
      "_view_module_version": "1.2.0",
      "_view_name": "LayoutView",
      "align_content": null,
      "align_items": null,
      "align_self": null,
      "border": null,
      "bottom": null,
      "display": null,
      "flex": null,
      "flex_flow": null,
      "grid_area": null,
      "grid_auto_columns": null,
      "grid_auto_flow": null,
      "grid_auto_rows": null,
      "grid_column": null,
      "grid_gap": null,
      "grid_row": null,
      "grid_template_areas": null,
      "grid_template_columns": null,
      "grid_template_rows": null,
      "height": null,
      "justify_content": null,
      "justify_items": null,
      "left": null,
      "margin": null,
      "max_height": null,
      "max_width": null,
      "min_height": null,
      "min_width": null,
      "object_fit": null,
      "object_position": null,
      "order": null,
      "overflow": null,
      "overflow_x": null,
      "overflow_y": null,
      "padding": null,
      "right": null,
      "top": null,
      "visibility": null,
      "width": null
     }
    },
    "7346ef97006744929af1b39e85b1680a": {
     "model_module": "@jupyter-widgets/controls",
     "model_name": "HTMLModel",
     "state": {
      "_dom_classes": [],
      "_model_module": "@jupyter-widgets/controls",
      "_model_module_version": "1.5.0",
      "_model_name": "HTMLModel",
      "_view_count": null,
      "_view_module": "@jupyter-widgets/controls",
      "_view_module_version": "1.5.0",
      "_view_name": "HTMLView",
      "description": "",
      "description_tooltip": null,
      "layout": "IPY_MODEL_9609b4ec9ab442a88be54827b7315f8c",
      "placeholder": "​",
      "style": "IPY_MODEL_b0eecae842104bd4a883dc7ab518733e",
      "value": " 210k/210k [00:00&lt;00:00, 399kB/s]"
     }
    },
    "7413379184874ac38082d4dd940cb996": {
     "model_module": "@jupyter-widgets/controls",
     "model_name": "HTMLModel",
     "state": {
      "_dom_classes": [],
      "_model_module": "@jupyter-widgets/controls",
      "_model_module_version": "1.5.0",
      "_model_name": "HTMLModel",
      "_view_count": null,
      "_view_module": "@jupyter-widgets/controls",
      "_view_module_version": "1.5.0",
      "_view_name": "HTMLView",
      "description": "",
      "description_tooltip": null,
      "layout": "IPY_MODEL_60889895dc444a3a9b2eb01507e9659d",
      "placeholder": "​",
      "style": "IPY_MODEL_e37c588ce6b247d7a4d0de873d0f002b",
      "value": " 112/112 [00:00&lt;00:00, 614B/s]"
     }
    },
    "75cee2c74a0142e68918a5937aac9f25": {
     "model_module": "@jupyter-widgets/base",
     "model_name": "LayoutModel",
     "state": {
      "_model_module": "@jupyter-widgets/base",
      "_model_module_version": "1.2.0",
      "_model_name": "LayoutModel",
      "_view_count": null,
      "_view_module": "@jupyter-widgets/base",
      "_view_module_version": "1.2.0",
      "_view_name": "LayoutView",
      "align_content": null,
      "align_items": null,
      "align_self": null,
      "border": null,
      "bottom": null,
      "display": null,
      "flex": null,
      "flex_flow": null,
      "grid_area": null,
      "grid_auto_columns": null,
      "grid_auto_flow": null,
      "grid_auto_rows": null,
      "grid_column": null,
      "grid_gap": null,
      "grid_row": null,
      "grid_template_areas": null,
      "grid_template_columns": null,
      "grid_template_rows": null,
      "height": null,
      "justify_content": null,
      "justify_items": null,
      "left": null,
      "margin": null,
      "max_height": null,
      "max_width": null,
      "min_height": null,
      "min_width": null,
      "object_fit": null,
      "object_position": null,
      "order": null,
      "overflow": null,
      "overflow_x": null,
      "overflow_y": null,
      "padding": null,
      "right": null,
      "top": null,
      "visibility": null,
      "width": null
     }
    },
    "77191440086f4bdb8ab861b99b743015": {
     "model_module": "@jupyter-widgets/base",
     "model_name": "LayoutModel",
     "state": {
      "_model_module": "@jupyter-widgets/base",
      "_model_module_version": "1.2.0",
      "_model_name": "LayoutModel",
      "_view_count": null,
      "_view_module": "@jupyter-widgets/base",
      "_view_module_version": "1.2.0",
      "_view_name": "LayoutView",
      "align_content": null,
      "align_items": null,
      "align_self": null,
      "border": null,
      "bottom": null,
      "display": null,
      "flex": null,
      "flex_flow": null,
      "grid_area": null,
      "grid_auto_columns": null,
      "grid_auto_flow": null,
      "grid_auto_rows": null,
      "grid_column": null,
      "grid_gap": null,
      "grid_row": null,
      "grid_template_areas": null,
      "grid_template_columns": null,
      "grid_template_rows": null,
      "height": null,
      "justify_content": null,
      "justify_items": null,
      "left": null,
      "margin": null,
      "max_height": null,
      "max_width": null,
      "min_height": null,
      "min_width": null,
      "object_fit": null,
      "object_position": null,
      "order": null,
      "overflow": null,
      "overflow_x": null,
      "overflow_y": null,
      "padding": null,
      "right": null,
      "top": null,
      "visibility": null,
      "width": null
     }
    },
    "79e93723fbb642838e3d0ba88b698d55": {
     "model_module": "@jupyter-widgets/controls",
     "model_name": "DescriptionStyleModel",
     "state": {
      "_model_module": "@jupyter-widgets/controls",
      "_model_module_version": "1.5.0",
      "_model_name": "DescriptionStyleModel",
      "_view_count": null,
      "_view_module": "@jupyter-widgets/base",
      "_view_module_version": "1.2.0",
      "_view_name": "StyleView",
      "description_width": ""
     }
    },
    "7b315ac22631428fb19fa5259bb4bcc0": {
     "model_module": "@jupyter-widgets/base",
     "model_name": "LayoutModel",
     "state": {
      "_model_module": "@jupyter-widgets/base",
      "_model_module_version": "1.2.0",
      "_model_name": "LayoutModel",
      "_view_count": null,
      "_view_module": "@jupyter-widgets/base",
      "_view_module_version": "1.2.0",
      "_view_name": "LayoutView",
      "align_content": null,
      "align_items": null,
      "align_self": null,
      "border": null,
      "bottom": null,
      "display": null,
      "flex": null,
      "flex_flow": null,
      "grid_area": null,
      "grid_auto_columns": null,
      "grid_auto_flow": null,
      "grid_auto_rows": null,
      "grid_column": null,
      "grid_gap": null,
      "grid_row": null,
      "grid_template_areas": null,
      "grid_template_columns": null,
      "grid_template_rows": null,
      "height": null,
      "justify_content": null,
      "justify_items": null,
      "left": null,
      "margin": null,
      "max_height": null,
      "max_width": null,
      "min_height": null,
      "min_width": null,
      "object_fit": null,
      "object_position": null,
      "order": null,
      "overflow": null,
      "overflow_x": null,
      "overflow_y": null,
      "padding": null,
      "right": null,
      "top": null,
      "visibility": null,
      "width": null
     }
    },
    "7d233c3f6eba4cb59581cad7590c8bd2": {
     "model_module": "@jupyter-widgets/controls",
     "model_name": "FloatProgressModel",
     "state": {
      "_dom_classes": [],
      "_model_module": "@jupyter-widgets/controls",
      "_model_module_version": "1.5.0",
      "_model_name": "FloatProgressModel",
      "_view_count": null,
      "_view_module": "@jupyter-widgets/controls",
      "_view_module_version": "1.5.0",
      "_view_name": "ProgressView",
      "bar_style": "success",
      "description": "Downloading: 100%",
      "description_tooltip": null,
      "layout": "IPY_MODEL_93fbcfbfc0c1492792d606b3ef3d3c83",
      "max": 1342014951,
      "min": 0,
      "orientation": "horizontal",
      "style": "IPY_MODEL_102b5a8c173b4a86b029cfa70fbad3d9",
      "value": 1342014951
     }
    },
    "81c5f73c8cf04eeeabb4defc7aa781ee": {
     "model_module": "@jupyter-widgets/base",
     "model_name": "LayoutModel",
     "state": {
      "_model_module": "@jupyter-widgets/base",
      "_model_module_version": "1.2.0",
      "_model_name": "LayoutModel",
      "_view_count": null,
      "_view_module": "@jupyter-widgets/base",
      "_view_module_version": "1.2.0",
      "_view_name": "LayoutView",
      "align_content": null,
      "align_items": null,
      "align_self": null,
      "border": null,
      "bottom": null,
      "display": null,
      "flex": null,
      "flex_flow": null,
      "grid_area": null,
      "grid_auto_columns": null,
      "grid_auto_flow": null,
      "grid_auto_rows": null,
      "grid_column": null,
      "grid_gap": null,
      "grid_row": null,
      "grid_template_areas": null,
      "grid_template_columns": null,
      "grid_template_rows": null,
      "height": null,
      "justify_content": null,
      "justify_items": null,
      "left": null,
      "margin": null,
      "max_height": null,
      "max_width": null,
      "min_height": null,
      "min_width": null,
      "object_fit": null,
      "object_position": null,
      "order": null,
      "overflow": null,
      "overflow_x": null,
      "overflow_y": null,
      "padding": null,
      "right": null,
      "top": null,
      "visibility": null,
      "width": null
     }
    },
    "891de93930964d519bea7aa499932eda": {
     "model_module": "@jupyter-widgets/controls",
     "model_name": "HBoxModel",
     "state": {
      "_dom_classes": [],
      "_model_module": "@jupyter-widgets/controls",
      "_model_module_version": "1.5.0",
      "_model_name": "HBoxModel",
      "_view_count": null,
      "_view_module": "@jupyter-widgets/controls",
      "_view_module_version": "1.5.0",
      "_view_name": "HBoxView",
      "box_style": "",
      "children": [
       "IPY_MODEL_37e6f9daad2343b6b33d54ac059604f1",
       "IPY_MODEL_7413379184874ac38082d4dd940cb996"
      ],
      "layout": "IPY_MODEL_29a0ecb6ced04e4ead8d22d6d5cdf200"
     }
    },
    "89c309daaa5541a087e2bfea0b97ab51": {
     "model_module": "@jupyter-widgets/controls",
     "model_name": "FloatProgressModel",
     "state": {
      "_dom_classes": [],
      "_model_module": "@jupyter-widgets/controls",
      "_model_module_version": "1.5.0",
      "_model_name": "FloatProgressModel",
      "_view_count": null,
      "_view_module": "@jupyter-widgets/controls",
      "_view_module_version": "1.5.0",
      "_view_name": "ProgressView",
      "bar_style": "success",
      "description": "Downloading: 100%",
      "description_tooltip": null,
      "layout": "IPY_MODEL_d2f8a3b2f3614bc6a0a20bc047e84275",
      "max": 155,
      "min": 0,
      "orientation": "horizontal",
      "style": "IPY_MODEL_c76855af1da0412292d538faa80deb45",
      "value": 155
     }
    },
    "8f1552ffa84b49f5b80f2dd414b12519": {
     "model_module": "@jupyter-widgets/controls",
     "model_name": "DescriptionStyleModel",
     "state": {
      "_model_module": "@jupyter-widgets/controls",
      "_model_module_version": "1.5.0",
      "_model_name": "DescriptionStyleModel",
      "_view_count": null,
      "_view_module": "@jupyter-widgets/base",
      "_view_module_version": "1.2.0",
      "_view_name": "StyleView",
      "description_width": ""
     }
    },
    "92923d9b393842a080d8ffc807e676be": {
     "model_module": "@jupyter-widgets/controls",
     "model_name": "HBoxModel",
     "state": {
      "_dom_classes": [],
      "_model_module": "@jupyter-widgets/controls",
      "_model_module_version": "1.5.0",
      "_model_name": "HBoxModel",
      "_view_count": null,
      "_view_module": "@jupyter-widgets/controls",
      "_view_module_version": "1.5.0",
      "_view_name": "HBoxView",
      "box_style": "",
      "children": [
       "IPY_MODEL_7d233c3f6eba4cb59581cad7590c8bd2",
       "IPY_MODEL_9e1381bde6bc4fb996e4f37b34efbc2f"
      ],
      "layout": "IPY_MODEL_77191440086f4bdb8ab861b99b743015"
     }
    },
    "9386595cfb5c4f95ac7a881f3386dfc0": {
     "model_module": "@jupyter-widgets/base",
     "model_name": "LayoutModel",
     "state": {
      "_model_module": "@jupyter-widgets/base",
      "_model_module_version": "1.2.0",
      "_model_name": "LayoutModel",
      "_view_count": null,
      "_view_module": "@jupyter-widgets/base",
      "_view_module_version": "1.2.0",
      "_view_name": "LayoutView",
      "align_content": null,
      "align_items": null,
      "align_self": null,
      "border": null,
      "bottom": null,
      "display": null,
      "flex": null,
      "flex_flow": null,
      "grid_area": null,
      "grid_auto_columns": null,
      "grid_auto_flow": null,
      "grid_auto_rows": null,
      "grid_column": null,
      "grid_gap": null,
      "grid_row": null,
      "grid_template_areas": null,
      "grid_template_columns": null,
      "grid_template_rows": null,
      "height": null,
      "justify_content": null,
      "justify_items": null,
      "left": null,
      "margin": null,
      "max_height": null,
      "max_width": null,
      "min_height": null,
      "min_width": null,
      "object_fit": null,
      "object_position": null,
      "order": null,
      "overflow": null,
      "overflow_x": null,
      "overflow_y": null,
      "padding": null,
      "right": null,
      "top": null,
      "visibility": null,
      "width": null
     }
    },
    "93fbcfbfc0c1492792d606b3ef3d3c83": {
     "model_module": "@jupyter-widgets/base",
     "model_name": "LayoutModel",
     "state": {
      "_model_module": "@jupyter-widgets/base",
      "_model_module_version": "1.2.0",
      "_model_name": "LayoutModel",
      "_view_count": null,
      "_view_module": "@jupyter-widgets/base",
      "_view_module_version": "1.2.0",
      "_view_name": "LayoutView",
      "align_content": null,
      "align_items": null,
      "align_self": null,
      "border": null,
      "bottom": null,
      "display": null,
      "flex": null,
      "flex_flow": null,
      "grid_area": null,
      "grid_auto_columns": null,
      "grid_auto_flow": null,
      "grid_auto_rows": null,
      "grid_column": null,
      "grid_gap": null,
      "grid_row": null,
      "grid_template_areas": null,
      "grid_template_columns": null,
      "grid_template_rows": null,
      "height": null,
      "justify_content": null,
      "justify_items": null,
      "left": null,
      "margin": null,
      "max_height": null,
      "max_width": null,
      "min_height": null,
      "min_width": null,
      "object_fit": null,
      "object_position": null,
      "order": null,
      "overflow": null,
      "overflow_x": null,
      "overflow_y": null,
      "padding": null,
      "right": null,
      "top": null,
      "visibility": null,
      "width": null
     }
    },
    "9609b4ec9ab442a88be54827b7315f8c": {
     "model_module": "@jupyter-widgets/base",
     "model_name": "LayoutModel",
     "state": {
      "_model_module": "@jupyter-widgets/base",
      "_model_module_version": "1.2.0",
      "_model_name": "LayoutModel",
      "_view_count": null,
      "_view_module": "@jupyter-widgets/base",
      "_view_module_version": "1.2.0",
      "_view_name": "LayoutView",
      "align_content": null,
      "align_items": null,
      "align_self": null,
      "border": null,
      "bottom": null,
      "display": null,
      "flex": null,
      "flex_flow": null,
      "grid_area": null,
      "grid_auto_columns": null,
      "grid_auto_flow": null,
      "grid_auto_rows": null,
      "grid_column": null,
      "grid_gap": null,
      "grid_row": null,
      "grid_template_areas": null,
      "grid_template_columns": null,
      "grid_template_rows": null,
      "height": null,
      "justify_content": null,
      "justify_items": null,
      "left": null,
      "margin": null,
      "max_height": null,
      "max_width": null,
      "min_height": null,
      "min_width": null,
      "object_fit": null,
      "object_position": null,
      "order": null,
      "overflow": null,
      "overflow_x": null,
      "overflow_y": null,
      "padding": null,
      "right": null,
      "top": null,
      "visibility": null,
      "width": null
     }
    },
    "9e1381bde6bc4fb996e4f37b34efbc2f": {
     "model_module": "@jupyter-widgets/controls",
     "model_name": "HTMLModel",
     "state": {
      "_dom_classes": [],
      "_model_module": "@jupyter-widgets/controls",
      "_model_module_version": "1.5.0",
      "_model_name": "HTMLModel",
      "_view_count": null,
      "_view_module": "@jupyter-widgets/controls",
      "_view_module_version": "1.5.0",
      "_view_name": "HTMLView",
      "description": "",
      "description_tooltip": null,
      "layout": "IPY_MODEL_7b315ac22631428fb19fa5259bb4bcc0",
      "placeholder": "​",
      "style": "IPY_MODEL_16d414bc679142c2822a43efb2c1e1d8",
      "value": " 1.34G/1.34G [00:24&lt;00:00, 54.3MB/s]"
     }
    },
    "a0565f8930924d70bd62be41bb8d2d0f": {
     "model_module": "@jupyter-widgets/base",
     "model_name": "LayoutModel",
     "state": {
      "_model_module": "@jupyter-widgets/base",
      "_model_module_version": "1.2.0",
      "_model_name": "LayoutModel",
      "_view_count": null,
      "_view_module": "@jupyter-widgets/base",
      "_view_module_version": "1.2.0",
      "_view_name": "LayoutView",
      "align_content": null,
      "align_items": null,
      "align_self": null,
      "border": null,
      "bottom": null,
      "display": null,
      "flex": null,
      "flex_flow": null,
      "grid_area": null,
      "grid_auto_columns": null,
      "grid_auto_flow": null,
      "grid_auto_rows": null,
      "grid_column": null,
      "grid_gap": null,
      "grid_row": null,
      "grid_template_areas": null,
      "grid_template_columns": null,
      "grid_template_rows": null,
      "height": null,
      "justify_content": null,
      "justify_items": null,
      "left": null,
      "margin": null,
      "max_height": null,
      "max_width": null,
      "min_height": null,
      "min_width": null,
      "object_fit": null,
      "object_position": null,
      "order": null,
      "overflow": null,
      "overflow_x": null,
      "overflow_y": null,
      "padding": null,
      "right": null,
      "top": null,
      "visibility": null,
      "width": null
     }
    },
    "a738a9f826734edb9adee6e3fdef513f": {
     "model_module": "@jupyter-widgets/controls",
     "model_name": "HTMLModel",
     "state": {
      "_dom_classes": [],
      "_model_module": "@jupyter-widgets/controls",
      "_model_module_version": "1.5.0",
      "_model_name": "HTMLModel",
      "_view_count": null,
      "_view_module": "@jupyter-widgets/controls",
      "_view_module_version": "1.5.0",
      "_view_name": "HTMLView",
      "description": "",
      "description_tooltip": null,
      "layout": "IPY_MODEL_35e8073407b64dd4acd977829e0c6d09",
      "placeholder": "​",
      "style": "IPY_MODEL_8f1552ffa84b49f5b80f2dd414b12519",
      "value": " 155/155 [00:00&lt;00:00, 1.66kB/s]"
     }
    },
    "acef4afc05b940a38e9b807670eb49d1": {
     "model_module": "@jupyter-widgets/controls",
     "model_name": "HTMLModel",
     "state": {
      "_dom_classes": [],
      "_model_module": "@jupyter-widgets/controls",
      "_model_module_version": "1.5.0",
      "_model_name": "HTMLModel",
      "_view_count": null,
      "_view_module": "@jupyter-widgets/controls",
      "_view_module_version": "1.5.0",
      "_view_name": "HTMLView",
      "description": "",
      "description_tooltip": null,
      "layout": "IPY_MODEL_04a97dcdfaf943d19386d775ec7a09f9",
      "placeholder": "​",
      "style": "IPY_MODEL_5f1ee7afdcd54cddaa5a233e2d9b4a08",
      "value": " 2.00/2.00 [00:00&lt;00:00, 6.41B/s]"
     }
    },
    "b0eecae842104bd4a883dc7ab518733e": {
     "model_module": "@jupyter-widgets/controls",
     "model_name": "DescriptionStyleModel",
     "state": {
      "_model_module": "@jupyter-widgets/controls",
      "_model_module_version": "1.5.0",
      "_model_name": "DescriptionStyleModel",
      "_view_count": null,
      "_view_module": "@jupyter-widgets/base",
      "_view_module_version": "1.2.0",
      "_view_name": "StyleView",
      "description_width": ""
     }
    },
    "ba70e8f671e14e9599b1c06cf3dab35e": {
     "model_module": "@jupyter-widgets/base",
     "model_name": "LayoutModel",
     "state": {
      "_model_module": "@jupyter-widgets/base",
      "_model_module_version": "1.2.0",
      "_model_name": "LayoutModel",
      "_view_count": null,
      "_view_module": "@jupyter-widgets/base",
      "_view_module_version": "1.2.0",
      "_view_name": "LayoutView",
      "align_content": null,
      "align_items": null,
      "align_self": null,
      "border": null,
      "bottom": null,
      "display": null,
      "flex": null,
      "flex_flow": null,
      "grid_area": null,
      "grid_auto_columns": null,
      "grid_auto_flow": null,
      "grid_auto_rows": null,
      "grid_column": null,
      "grid_gap": null,
      "grid_row": null,
      "grid_template_areas": null,
      "grid_template_columns": null,
      "grid_template_rows": null,
      "height": null,
      "justify_content": null,
      "justify_items": null,
      "left": null,
      "margin": null,
      "max_height": null,
      "max_width": null,
      "min_height": null,
      "min_width": null,
      "object_fit": null,
      "object_position": null,
      "order": null,
      "overflow": null,
      "overflow_x": null,
      "overflow_y": null,
      "padding": null,
      "right": null,
      "top": null,
      "visibility": null,
      "width": null
     }
    },
    "c76855af1da0412292d538faa80deb45": {
     "model_module": "@jupyter-widgets/controls",
     "model_name": "ProgressStyleModel",
     "state": {
      "_model_module": "@jupyter-widgets/controls",
      "_model_module_version": "1.5.0",
      "_model_name": "ProgressStyleModel",
      "_view_count": null,
      "_view_module": "@jupyter-widgets/base",
      "_view_module_version": "1.2.0",
      "_view_name": "StyleView",
      "bar_color": null,
      "description_width": "initial"
     }
    },
    "cbbd63e83165435cba260b0734030f8e": {
     "model_module": "@jupyter-widgets/controls",
     "model_name": "HTMLModel",
     "state": {
      "_dom_classes": [],
      "_model_module": "@jupyter-widgets/controls",
      "_model_module_version": "1.5.0",
      "_model_name": "HTMLModel",
      "_view_count": null,
      "_view_module": "@jupyter-widgets/controls",
      "_view_module_version": "1.5.0",
      "_view_name": "HTMLView",
      "description": "",
      "description_tooltip": null,
      "layout": "IPY_MODEL_75cee2c74a0142e68918a5937aac9f25",
      "placeholder": "​",
      "style": "IPY_MODEL_79e93723fbb642838e3d0ba88b698d55",
      "value": " 648/648 [00:24&lt;00:00, 26.0B/s]"
     }
    },
    "d2f8a3b2f3614bc6a0a20bc047e84275": {
     "model_module": "@jupyter-widgets/base",
     "model_name": "LayoutModel",
     "state": {
      "_model_module": "@jupyter-widgets/base",
      "_model_module_version": "1.2.0",
      "_model_name": "LayoutModel",
      "_view_count": null,
      "_view_module": "@jupyter-widgets/base",
      "_view_module_version": "1.2.0",
      "_view_name": "LayoutView",
      "align_content": null,
      "align_items": null,
      "align_self": null,
      "border": null,
      "bottom": null,
      "display": null,
      "flex": null,
      "flex_flow": null,
      "grid_area": null,
      "grid_auto_columns": null,
      "grid_auto_flow": null,
      "grid_auto_rows": null,
      "grid_column": null,
      "grid_gap": null,
      "grid_row": null,
      "grid_template_areas": null,
      "grid_template_columns": null,
      "grid_template_rows": null,
      "height": null,
      "justify_content": null,
      "justify_items": null,
      "left": null,
      "margin": null,
      "max_height": null,
      "max_width": null,
      "min_height": null,
      "min_width": null,
      "object_fit": null,
      "object_position": null,
      "order": null,
      "overflow": null,
      "overflow_x": null,
      "overflow_y": null,
      "padding": null,
      "right": null,
      "top": null,
      "visibility": null,
      "width": null
     }
    },
    "d77559d7fb324268b4f8388ac1fd10d5": {
     "model_module": "@jupyter-widgets/controls",
     "model_name": "ProgressStyleModel",
     "state": {
      "_model_module": "@jupyter-widgets/controls",
      "_model_module_version": "1.5.0",
      "_model_name": "ProgressStyleModel",
      "_view_count": null,
      "_view_module": "@jupyter-widgets/base",
      "_view_module_version": "1.2.0",
      "_view_name": "StyleView",
      "bar_color": null,
      "description_width": "initial"
     }
    },
    "dc7195debdcf434b88c274335a832616": {
     "model_module": "@jupyter-widgets/controls",
     "model_name": "HBoxModel",
     "state": {
      "_dom_classes": [],
      "_model_module": "@jupyter-widgets/controls",
      "_model_module_version": "1.5.0",
      "_model_name": "HBoxModel",
      "_view_count": null,
      "_view_module": "@jupyter-widgets/controls",
      "_view_module_version": "1.5.0",
      "_view_name": "HBoxView",
      "box_style": "",
      "children": [
       "IPY_MODEL_109777b3485f4a24b0472068c395ba64",
       "IPY_MODEL_acef4afc05b940a38e9b807670eb49d1"
      ],
      "layout": "IPY_MODEL_9386595cfb5c4f95ac7a881f3386dfc0"
     }
    },
    "e37c588ce6b247d7a4d0de873d0f002b": {
     "model_module": "@jupyter-widgets/controls",
     "model_name": "DescriptionStyleModel",
     "state": {
      "_model_module": "@jupyter-widgets/controls",
      "_model_module_version": "1.5.0",
      "_model_name": "DescriptionStyleModel",
      "_view_count": null,
      "_view_module": "@jupyter-widgets/base",
      "_view_module_version": "1.2.0",
      "_view_name": "StyleView",
      "description_width": ""
     }
    },
    "f3eefb3a82e54dc5ac5d2f20adffa76a": {
     "model_module": "@jupyter-widgets/controls",
     "model_name": "ProgressStyleModel",
     "state": {
      "_model_module": "@jupyter-widgets/controls",
      "_model_module_version": "1.5.0",
      "_model_name": "ProgressStyleModel",
      "_view_count": null,
      "_view_module": "@jupyter-widgets/base",
      "_view_module_version": "1.2.0",
      "_view_name": "StyleView",
      "bar_color": null,
      "description_width": "initial"
     }
    },
    "f778c357ebe14f9e95007883c8f66a68": {
     "model_module": "@jupyter-widgets/base",
     "model_name": "LayoutModel",
     "state": {
      "_model_module": "@jupyter-widgets/base",
      "_model_module_version": "1.2.0",
      "_model_name": "LayoutModel",
      "_view_count": null,
      "_view_module": "@jupyter-widgets/base",
      "_view_module_version": "1.2.0",
      "_view_name": "LayoutView",
      "align_content": null,
      "align_items": null,
      "align_self": null,
      "border": null,
      "bottom": null,
      "display": null,
      "flex": null,
      "flex_flow": null,
      "grid_area": null,
      "grid_auto_columns": null,
      "grid_auto_flow": null,
      "grid_auto_rows": null,
      "grid_column": null,
      "grid_gap": null,
      "grid_row": null,
      "grid_template_areas": null,
      "grid_template_columns": null,
      "grid_template_rows": null,
      "height": null,
      "justify_content": null,
      "justify_items": null,
      "left": null,
      "margin": null,
      "max_height": null,
      "max_width": null,
      "min_height": null,
      "min_width": null,
      "object_fit": null,
      "object_position": null,
      "order": null,
      "overflow": null,
      "overflow_x": null,
      "overflow_y": null,
      "padding": null,
      "right": null,
      "top": null,
      "visibility": null,
      "width": null
     }
    },
    "f7bd45a50e134f0e889d24cd5349ab5c": {
     "model_module": "@jupyter-widgets/controls",
     "model_name": "ProgressStyleModel",
     "state": {
      "_model_module": "@jupyter-widgets/controls",
      "_model_module_version": "1.5.0",
      "_model_name": "ProgressStyleModel",
      "_view_count": null,
      "_view_module": "@jupyter-widgets/base",
      "_view_module_version": "1.2.0",
      "_view_name": "StyleView",
      "bar_color": null,
      "description_width": "initial"
     }
    }
   }
  }
 },
 "nbformat": 4,
 "nbformat_minor": 1
}
