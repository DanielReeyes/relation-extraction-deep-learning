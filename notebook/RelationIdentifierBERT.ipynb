{
 "cells": [
  {
   "cell_type": "markdown",
   "metadata": {},
   "source": [
    "O que é <b>BERT</b>?\n",
    "\n",
    "<b>BERT</b> significa <b>B</b>idirectional <b>E</b>ncoder <b>R</b>epresentations from <b>T</b>ransformers.\n",
    "\n",
    "<b>Bidirecional</b> - para entender o texto que estamos procurando, temos de olhar para trás (nas palavras anteriores) e para a frente (nas próximas palavras)\n",
    "\n",
    "<b>Transformers</b> - O mecanismo de Atenção é tudo que precisamos. O Transformer lê sequências inteiras de tokens de uma vez. Em certo sentido, o modelo é não direcional, enquanto os LSTMs leem sequencialmente (da esquerda para a direita ou da direita para a esquerda). O mecanismo de atenção permite o aprendizado de relações contextuais entre palavras.\n",
    "\n",
    "<b>Embeddings</b> de palavras contextualizadas (pré-treinadas) - O artigo ELMO apresentou uma maneira de codificar palavras com base em seu significado / contexto.\n",
    "\n",
    "O BERT foi treinado mascarando 15% dos tokens com o objetivo de adivinhá-los. Um objetivo adicional era prever a próxima frase.\n",
    "\n",
    "BERT é simplesmente uma stack pré-treinada de Transformer Encoders com duas versões \n",
    "- com 12 (BERT base) \n",
    "- com 24 (BERT Large)."
   ]
  },
  {
   "cell_type": "markdown",
   "metadata": {},
   "source": [
    "A BERT pode ser utilizada em inúmeras tasks do NLP, aqui <b>tentaremos</b> utilizar para classificar se, dadas duas entidades e a sentença a qual elas pertencem, há uma relação semântica entre elas."
   ]
  },
  {
   "cell_type": "code",
   "execution_count": 1,
   "metadata": {},
   "outputs": [],
   "source": [
    "#Trecho para ser executado quando no Sagemaker\n",
    "#!pip install transformers==3.3.1\n",
    "#!pip install torch==1.6.0"
   ]
  },
  {
   "cell_type": "markdown",
   "metadata": {},
   "source": [
    "Importando as bibliotecas necessárias para rodar o modelo"
   ]
  },
  {
   "cell_type": "code",
   "execution_count": 2,
   "metadata": {},
   "outputs": [
    {
     "name": "stderr",
     "output_type": "stream",
     "text": [
      "c:\\users\\daniel\\appdata\\local\\programs\\python\\python37\\lib\\site-packages\\tensorboard\\compat\\tensorflow_stub\\dtypes.py:541: FutureWarning: Passing (type, 1) or '1type' as a synonym of type is deprecated; in a future version of numpy, it will be understood as (type, (1,)) / '(1,)type'.\n",
      "  _np_qint8 = np.dtype([(\"qint8\", np.int8, 1)])\n",
      "c:\\users\\daniel\\appdata\\local\\programs\\python\\python37\\lib\\site-packages\\tensorboard\\compat\\tensorflow_stub\\dtypes.py:542: FutureWarning: Passing (type, 1) or '1type' as a synonym of type is deprecated; in a future version of numpy, it will be understood as (type, (1,)) / '(1,)type'.\n",
      "  _np_quint8 = np.dtype([(\"quint8\", np.uint8, 1)])\n",
      "c:\\users\\daniel\\appdata\\local\\programs\\python\\python37\\lib\\site-packages\\tensorboard\\compat\\tensorflow_stub\\dtypes.py:543: FutureWarning: Passing (type, 1) or '1type' as a synonym of type is deprecated; in a future version of numpy, it will be understood as (type, (1,)) / '(1,)type'.\n",
      "  _np_qint16 = np.dtype([(\"qint16\", np.int16, 1)])\n",
      "c:\\users\\daniel\\appdata\\local\\programs\\python\\python37\\lib\\site-packages\\tensorboard\\compat\\tensorflow_stub\\dtypes.py:544: FutureWarning: Passing (type, 1) or '1type' as a synonym of type is deprecated; in a future version of numpy, it will be understood as (type, (1,)) / '(1,)type'.\n",
      "  _np_quint16 = np.dtype([(\"quint16\", np.uint16, 1)])\n",
      "c:\\users\\daniel\\appdata\\local\\programs\\python\\python37\\lib\\site-packages\\tensorboard\\compat\\tensorflow_stub\\dtypes.py:545: FutureWarning: Passing (type, 1) or '1type' as a synonym of type is deprecated; in a future version of numpy, it will be understood as (type, (1,)) / '(1,)type'.\n",
      "  _np_qint32 = np.dtype([(\"qint32\", np.int32, 1)])\n",
      "c:\\users\\daniel\\appdata\\local\\programs\\python\\python37\\lib\\site-packages\\tensorboard\\compat\\tensorflow_stub\\dtypes.py:550: FutureWarning: Passing (type, 1) or '1type' as a synonym of type is deprecated; in a future version of numpy, it will be understood as (type, (1,)) / '(1,)type'.\n",
      "  np_resource = np.dtype([(\"resource\", np.ubyte, 1)])\n"
     ]
    }
   ],
   "source": [
    "import transformers\n",
    "from transformers import BertModel, BertTokenizer, AdamW, get_linear_schedule_with_warmup\n",
    "import torch\n",
    "import numpy as np\n",
    "import pandas as pd\n",
    "import seaborn as sns\n",
    "from pylab import rcParams\n",
    "import matplotlib.pyplot as plt\n",
    "from matplotlib import rc\n",
    "from sklearn.model_selection import train_test_split\n",
    "from sklearn.metrics import confusion_matrix, classification_report\n",
    "from collections import defaultdict\n",
    "from textwrap import wrap\n",
    "from torch import nn, optim, functional as F\n",
    "from torch.utils.data import Dataset, DataLoader\n",
    "\n",
    "import os"
   ]
  },
  {
   "cell_type": "markdown",
   "metadata": {},
   "source": [
    "Setando alguns parametros básicos"
   ]
  },
  {
   "cell_type": "code",
   "execution_count": 3,
   "metadata": {},
   "outputs": [
    {
     "name": "stdout",
     "output_type": "stream",
     "text": [
      "cpu\n"
     ]
    }
   ],
   "source": [
    "#Configurando parametros para visualização de dados\n",
    "sns.set(style='whitegrid', palette='muted', font_scale=1.2)\n",
    "HAPPY_COLORS_PALETTE = [\"#01BEFE\", \"#FFDD00\", \"#FF7D00\", \"#FF006D\", \"#ADFF02\", \"#8F00FF\"]\n",
    "sns.set_palette(sns.color_palette(HAPPY_COLORS_PALETTE))\n",
    "rcParams['figure.figsize'] = 12, 8\n",
    "class_names = ['negativa', 'positiva']\n",
    "\n",
    "#Configuração de SEED \n",
    "RANDOM_SEED = 42\n",
    "np.random.seed(RANDOM_SEED)\n",
    "torch.manual_seed(RANDOM_SEED)\n",
    "\n",
    "#Flag para utilizar cuda quando presente uma GPU ou utilizar CPU\n",
    "device = torch.device(\"cuda:0\" if torch.cuda.is_available() else \"cpu\")\n",
    "device = \"cpu\"\n",
    "print(device)"
   ]
  },
  {
   "cell_type": "markdown",
   "metadata": {},
   "source": [
    "Capturando os dados"
   ]
  },
  {
   "cell_type": "code",
   "execution_count": 4,
   "metadata": {},
   "outputs": [
    {
     "name": "stdout",
     "output_type": "stream",
     "text": [
      "D:\\Mestrado\\2020-02\\Deep Learning\\relation-extraction-deep-learning\\data\n"
     ]
    }
   ],
   "source": [
    "pwd = %pwd\n",
    "pwd = os.path.join(os.path.dirname(pwd), 'data')\n",
    "print(pwd)"
   ]
  },
  {
   "cell_type": "code",
   "execution_count": 5,
   "metadata": {},
   "outputs": [
    {
     "data": {
      "text/html": [
       "<div>\n",
       "<style scoped>\n",
       "    .dataframe tbody tr th:only-of-type {\n",
       "        vertical-align: middle;\n",
       "    }\n",
       "\n",
       "    .dataframe tbody tr th {\n",
       "        vertical-align: top;\n",
       "    }\n",
       "\n",
       "    .dataframe thead th {\n",
       "        text-align: right;\n",
       "    }\n",
       "</style>\n",
       "<table border=\"1\" class=\"dataframe\">\n",
       "  <thead>\n",
       "    <tr style=\"text-align: right;\">\n",
       "      <th></th>\n",
       "      <th>sentenca</th>\n",
       "      <th>entidade1</th>\n",
       "      <th>entidade1_tipo</th>\n",
       "      <th>relacao</th>\n",
       "      <th>entidade2</th>\n",
       "      <th>entidade2_tipo</th>\n",
       "      <th>class</th>\n",
       "    </tr>\n",
       "  </thead>\n",
       "  <tbody>\n",
       "    <tr>\n",
       "      <td>0</td>\n",
       "      <td>A Kroton anunciou uma parceria com o Cubo Itaú...</td>\n",
       "      <td>Kroton</td>\n",
       "      <td>ORG</td>\n",
       "      <td>anunciou uma parceria com</td>\n",
       "      <td>Cubo Itaú</td>\n",
       "      <td>ORG</td>\n",
       "      <td>1</td>\n",
       "    </tr>\n",
       "    <tr>\n",
       "      <td>1</td>\n",
       "      <td>O evento Summit AgriHub reuniu nesta quinta-fe...</td>\n",
       "      <td>Summit AgriHub</td>\n",
       "      <td>ORG</td>\n",
       "      <td>reuniu em</td>\n",
       "      <td>Cuiabá</td>\n",
       "      <td>PLC</td>\n",
       "      <td>1</td>\n",
       "    </tr>\n",
       "    <tr>\n",
       "      <td>2</td>\n",
       "      <td>O evento Summit AgriHub reuniu nesta quinta-fe...</td>\n",
       "      <td>Summit AgriHub</td>\n",
       "      <td>ORG</td>\n",
       "      <td>None</td>\n",
       "      <td>Mato Grosso</td>\n",
       "      <td>PLC</td>\n",
       "      <td>0</td>\n",
       "    </tr>\n",
       "    <tr>\n",
       "      <td>3</td>\n",
       "      <td>O evento Summit AgriHub reuniu nesta quinta-fe...</td>\n",
       "      <td>Summit AgriHub</td>\n",
       "      <td>ORG</td>\n",
       "      <td>None</td>\n",
       "      <td>Brasil</td>\n",
       "      <td>PLC</td>\n",
       "      <td>0</td>\n",
       "    </tr>\n",
       "    <tr>\n",
       "      <td>4</td>\n",
       "      <td>O usuário consegue comparar prazos , condições...</td>\n",
       "      <td>Bradesco</td>\n",
       "      <td>ORG</td>\n",
       "      <td>None</td>\n",
       "      <td>Banco do Brasil</td>\n",
       "      <td>ORG</td>\n",
       "      <td>0</td>\n",
       "    </tr>\n",
       "  </tbody>\n",
       "</table>\n",
       "</div>"
      ],
      "text/plain": [
       "                                            sentenca       entidade1  \\\n",
       "0  A Kroton anunciou uma parceria com o Cubo Itaú...          Kroton   \n",
       "1  O evento Summit AgriHub reuniu nesta quinta-fe...  Summit AgriHub   \n",
       "2  O evento Summit AgriHub reuniu nesta quinta-fe...  Summit AgriHub   \n",
       "3  O evento Summit AgriHub reuniu nesta quinta-fe...  Summit AgriHub   \n",
       "4  O usuário consegue comparar prazos , condições...        Bradesco   \n",
       "\n",
       "  entidade1_tipo                    relacao        entidade2 entidade2_tipo  \\\n",
       "0            ORG  anunciou uma parceria com        Cubo Itaú            ORG   \n",
       "1            ORG                  reuniu em           Cuiabá            PLC   \n",
       "2            ORG                       None      Mato Grosso            PLC   \n",
       "3            ORG                       None           Brasil            PLC   \n",
       "4            ORG                       None  Banco do Brasil            ORG   \n",
       "\n",
       "   class  \n",
       "0      1  \n",
       "1      1  \n",
       "2      0  \n",
       "3      0  \n",
       "4      0  "
      ]
     },
     "execution_count": 5,
     "metadata": {},
     "output_type": "execute_result"
    }
   ],
   "source": [
    "#Trecho para ser executado via Sagemaker\n",
    "#pwd = os.path.join(os.getcwd(), 'data').replace(\"notebook\",\"\")\n",
    "\n",
    "# pwd = os.path.join(os.getcwd(), 'data').replace(\"notebook\\\\\",\"\")\n",
    "# print(pwd)\n",
    "\n",
    "data = pd.read_csv(os.path.join(pwd, 'input/data_full.csv'), sep=';').replace({np.NaN: None})\n",
    "data.columns = ['sentenca','entidade1','entidade1_tipo','relacao','entidade2','entidade2_tipo']\n",
    "\n",
    "data['class'] = data['relacao'].apply(lambda x: 0 if x is None else 1)\n",
    "data.head()"
   ]
  },
  {
   "cell_type": "code",
   "execution_count": 6,
   "metadata": {},
   "outputs": [
    {
     "name": "stdout",
     "output_type": "stream",
     "text": [
      "<class 'pandas.core.frame.DataFrame'>\n",
      "RangeIndex: 2143 entries, 0 to 2142\n",
      "Data columns (total 7 columns):\n",
      "sentenca          2143 non-null object\n",
      "entidade1         2143 non-null object\n",
      "entidade1_tipo    2143 non-null object\n",
      "relacao           1100 non-null object\n",
      "entidade2         2143 non-null object\n",
      "entidade2_tipo    2142 non-null object\n",
      "class             2143 non-null int64\n",
      "dtypes: int64(1), object(6)\n",
      "memory usage: 117.3+ KB\n"
     ]
    }
   ],
   "source": [
    "data.info()"
   ]
  },
  {
   "cell_type": "markdown",
   "metadata": {},
   "source": [
    "Verificando como o dataset está populado.\n",
    "Não informações nulas nos campos de Sentença, Entidade 1, Entidade 2 e Class"
   ]
  },
  {
   "cell_type": "code",
   "execution_count": 7,
   "metadata": {},
   "outputs": [
    {
     "name": "stdout",
     "output_type": "stream",
     "text": [
      "(1100, 7)\n",
      "(1043, 7)\n",
      "<class 'pandas.core.frame.DataFrame'>\n",
      "Int64Index: 20 entries, 0 to 13\n",
      "Data columns (total 7 columns):\n",
      "sentenca          20 non-null object\n",
      "entidade1         20 non-null object\n",
      "entidade1_tipo    20 non-null object\n",
      "relacao           10 non-null object\n",
      "entidade2         20 non-null object\n",
      "entidade2_tipo    20 non-null object\n",
      "class             20 non-null int64\n",
      "dtypes: int64(1), object(6)\n",
      "memory usage: 1.2+ KB\n"
     ]
    }
   ],
   "source": [
    "NUM_AMOSTRA = 20\n",
    "\n",
    "# Gambi pra deixar o dataset inicial balanceado\n",
    "# - Se for um teste aleatório somente com uma amostragem de dados, vai pegar essa quantidade e dividir \n",
    "# ao meio para pegar 50% de cada classe\n",
    "# - Se for um teste com todo o dataset, pega a quantidade de registros da classe minoritária\n",
    "\n",
    "if NUM_AMOSTRA is not None:\n",
    "    data_positivo = data[data['class']==1]\n",
    "    print(data_positivo.shape)\n",
    "\n",
    "    data_negativo = data[data['class']==0]\n",
    "    print(data_negativo.shape)\n",
    "    \n",
    "    data = data_positivo.head(int(NUM_AMOSTRA/2)).append(data_negativo.head(int(NUM_AMOSTRA/2)))\n",
    "else:\n",
    "    data_positivo = data[data['class']==1]\n",
    "    print(data_positivo.shape)\n",
    "\n",
    "    data_negativo = data[data['class']==0]\n",
    "    print(data_negativo.shape)\n",
    "    \n",
    "    MIN_AMOSTRA = min(data_negativo.shape[0], data_positivo.shape[0])\n",
    "    print(MIN_AMOSTRA)\n",
    "    data = data_positivo.head(int(MIN_AMOSTRA)).append(data_negativo.head(int(MIN_AMOSTRA)))\n",
    "\n",
    "data.info()"
   ]
  },
  {
   "cell_type": "markdown",
   "metadata": {},
   "source": [
    "Verificando o balanceamento de classes"
   ]
  },
  {
   "cell_type": "code",
   "execution_count": 8,
   "metadata": {},
   "outputs": [
    {
     "name": "stderr",
     "output_type": "stream",
     "text": [
      "c:\\users\\daniel\\appdata\\local\\programs\\python\\python37\\lib\\site-packages\\seaborn\\_decorators.py:43: FutureWarning: Pass the following variable as a keyword arg: x. From version 0.12, the only valid positional argument will be `data`, and passing other arguments without an explicit keyword will result in an error or misinterpretation.\n",
      "  FutureWarning\n"
     ]
    },
    {
     "data": {
      "image/png": "[encoded data removed]",
      "text/plain": [
       "<Figure size 864x576 with 1 Axes>"
      ]
     },
     "metadata": {},
     "output_type": "display_data"
    }
   ],
   "source": [
    "ax = sns.countplot(data['class'])\n",
    "plt.xlabel('Class Rate')\n",
    "ax.set_xticklabels(class_names);"
   ]
  },
  {
   "cell_type": "markdown",
   "metadata": {},
   "source": [
    "<h2>Pre-Processamento</h2>"
   ]
  },
  {
   "cell_type": "markdown",
   "metadata": {},
   "source": [
    "É preciso converter texto em números. \n",
    "O BERT exige ainda mais atenção. Dessa maneira:\n",
    "\n",
    "- Adicionaremos tokens especiais para separar frases e fazer a classificação\n",
    "- Passaremos sequências de comprimento constante (introduzir preenchimento)\n",
    "- Criaremos uma matriz de 0s (token de teclado) e 1s (token real) chamada máscara de atenção\n",
    "- A biblioteca Transformers fornece vários modelos de Transformers (incluindo BERT). Funciona com TensorFlow e PyTorch! Também inclui tokenizers pré-construídos que fazem o trabalho pesado para nós!"
   ]
  },
  {
   "cell_type": "markdown",
   "metadata": {},
   "source": [
    "Carregando o tokenizador pre-treinado da BERT"
   ]
  },
  {
   "cell_type": "code",
   "execution_count": 9,
   "metadata": {},
   "outputs": [],
   "source": [
    "# PRE_TRAINED_MODEL_NAME = '/root/.cache/torch/transformers/neuralmind-bert-large-portuguese-cased/'\n",
    "PRE_TRAINED_MODEL_NAME = 'neuralmind/bert-large-portuguese-cased'\n",
    "tokenizer = BertTokenizer.from_pretrained(PRE_TRAINED_MODEL_NAME)"
   ]
  },
  {
   "cell_type": "markdown",
   "metadata": {},
   "source": [
    "Entendendo o que faz o tokenizador, pegando apenas uma sentença do corpus inteiro."
   ]
  },
  {
   "cell_type": "code",
   "execution_count": 10,
   "metadata": {},
   "outputs": [
    {
     "name": "stdout",
     "output_type": "stream",
     "text": [
      "- Sentença: A Kroton anunciou uma parceria com o Cubo Itaú , que dará origem à vertical “Cubo Education” , um espaço dedicado ao fomento de edtechs – tecnologia aplicada à educação .\n",
      "- Tokens: ['A', 'K', '##ro', '##ton', 'anunciou', 'uma', 'parceria', 'com', 'o', 'Cub', '##o', 'Ita', '##ú', ',', 'que', 'dar', '##á', 'origem', 'à', 'vertical', '“', 'Cub', '##o', 'Educa', '##tion', '”', ',', 'um', 'espaço', 'dedicado', 'ao', 'fome', '##nto', 'de', 'ed', '##tec', '##h', '##s', '–', 'tecnologia', 'aplicada', 'à', 'educação', '.']\n",
      "- Token IDs: [177, 461, 157, 897, 3127, 230, 4495, 170, 146, 18842, 22280, 4008, 22332, 117, 179, 2822, 22303, 2008, 353, 14357, 1112, 18842, 22280, 14191, 1131, 22354, 117, 222, 2363, 8055, 320, 11062, 234, 125, 902, 8948, 22296, 22281, 1379, 4277, 11107, 353, 3478, 119]\n"
     ]
    }
   ],
   "source": [
    "sentenca_amostra = data['sentenca'].iloc[0]\n",
    "tokens = tokenizer.tokenize(sentenca_amostra)\n",
    "token_ids = tokenizer.convert_tokens_to_ids(tokens)\n",
    "print(f'- Sentença: {sentenca_amostra}')\n",
    "print(f'- Tokens: {tokens}')\n",
    "print(f'- Token IDs: {token_ids}')"
   ]
  },
  {
   "cell_type": "markdown",
   "metadata": {},
   "source": [
    "<h2> Tokens Especiais </h2>\n",
    "\n",
    "[SEP] - Token que marca o fim da sentença.\n",
    "('[SEP]', 102)\n",
    "\n",
    "[CLS] - Token que marca o início da sentença.\n",
    "('[CLS]', 101)\n",
    "\n",
    "[PAD] - Token para preenchimento da sentença para que todas fiquem em um cumprimento fixo.\n",
    "('[PAD]', 0)\n",
    "\n",
    "[UNK] - Token para todos os tokens que a BERT desconhece\n",
    "('[UNK]', 100)"
   ]
  },
  {
   "cell_type": "markdown",
   "metadata": {},
   "source": [
    "<h2>Estabelecendo o comprimento da sentença</h2>\n",
    "\n",
    "O BERT trabalha com sequências de comprimento fixo. \n",
    "Vamos armazenar o comprimento do token de cada avaliação e capturar o comprimento máximo"
   ]
  },
  {
   "cell_type": "code",
   "execution_count": 11,
   "metadata": {},
   "outputs": [
    {
     "name": "stdout",
     "output_type": "stream",
     "text": [
      "82\n"
     ]
    }
   ],
   "source": [
    "token_lens = []\n",
    "for txt in data.sentenca:\n",
    "    tokens = tokenizer.encode(txt, max_length=512, truncation= True)\n",
    "    token_lens.append(len(tokens))\n",
    "    if len(tokens) > 170:\n",
    "        print(txt)\n",
    "    \n",
    "MAX_LENGHT = max(token_lens)\n",
    "print(MAX_LENGHT)"
   ]
  },
  {
   "cell_type": "markdown",
   "metadata": {},
   "source": [
    "Histograma dos tokens\n",
    "\n",
    "para visualizar a distribuição das sentenças em relação a distribuição dos tokens."
   ]
  },
  {
   "cell_type": "code",
   "execution_count": 12,
   "metadata": {},
   "outputs": [
    {
     "name": "stderr",
     "output_type": "stream",
     "text": [
      "c:\\users\\daniel\\appdata\\local\\programs\\python\\python37\\lib\\site-packages\\seaborn\\distributions.py:2551: FutureWarning: `distplot` is a deprecated function and will be removed in a future version. Please adapt your code to use either `displot` (a figure-level function with similar flexibility) or `histplot` (an axes-level function for histograms).\n",
      "  warnings.warn(msg, FutureWarning)\n"
     ]
    },
    {
     "data": {
      "image/png": "[encoded data removed]",
      "text/plain": [
       "<Figure size 864x576 with 1 Axes>"
      ]
     },
     "metadata": {},
     "output_type": "display_data"
    }
   ],
   "source": [
    "sns.distplot(token_lens)\n",
    "plt.xlim([0, 256]);\n",
    "plt.xlabel('Token count');"
   ]
  },
  {
   "cell_type": "markdown",
   "metadata": {},
   "source": [
    "<h2>Classe de pré-processamento</h2>\n",
    "    \n",
    "Temos todos os blocos de construção necessários para criar um conjunto de dados PyTorch. Isso será feito a partir de uma classe estabelecida abaixo.\n",
    "\n",
    "O tokenizer está fazendo a maior parte do trabalho. Também devolve a sentença que foi classificada, para que seja mais fácil avaliar as previsões do modelo. "
   ]
  },
  {
   "cell_type": "code",
   "execution_count": 13,
   "metadata": {},
   "outputs": [],
   "source": [
    "class preProccesDataset(Dataset):\n",
    "    \n",
    "    def __init__(self, sentence, entity1, entity2, targets, tokenizer, max_len):\n",
    "        self.sentence = sentence\n",
    "        self.entity1 = entity1\n",
    "        self.entity2 = entity2\n",
    "        self.targets = targets\n",
    "        self.tokenizer = tokenizer\n",
    "        self.max_len = max_len\n",
    "    \n",
    "    def __len__(self):\n",
    "        return len(self.sentence)\n",
    "    \n",
    "    def __getitem__(self, item):\n",
    "        inputs = [str(self.sentence[item]), str(self.entity1[item]), str(self.entity2[item])]\n",
    "        target = self.targets[item]\n",
    "        # Encodamos todas as entradas\n",
    "        encoding = [\n",
    "        self.tokenizer.encode_plus(\n",
    "        x,\n",
    "        add_special_tokens=True,\n",
    "        max_length=self.max_len,\n",
    "        return_token_type_ids=True,\n",
    "        pad_to_max_length=True,\n",
    "        return_attention_mask=True,\n",
    "        return_tensors='pt',\n",
    "        truncation=True,\n",
    "        )\n",
    "        for x in inputs\n",
    "        ]\n",
    "\n",
    "        # Contatenamos os ids e attention_masks das sentencas e entidades\\n\",\n",
    "        input_ids = torch.cat(tuple(x['input_ids'].flatten() for x in encoding), dim=0)\n",
    "        attention_mask = torch.cat(tuple(x['attention_mask'].flatten() for x in encoding), dim=0)\n",
    "        \n",
    "        return {\n",
    "          'input_text': inputs,\n",
    "          'input_ids': input_ids,\n",
    "          'attention_mask': attention_mask,\n",
    "          'targets': torch.tensor(target, dtype=torch.long)\n",
    "        }"
   ]
  },
  {
   "cell_type": "markdown",
   "metadata": {},
   "source": [
    "<h2>Separação dos dados</h2>\n",
    "Treino, Teste e Validação\n",
    "\n",
    "Dividindo os dados entre treino (x%) e teste (y%), onde x+y = 100\n",
    "\n",
    "Em seguida, divide os dados de teste entre teste (x%) e validação (y%), onde x+y = 100\n",
    "\n",
    "Na função de separação dos dados foi configurado o parâmetro de <b>stratify</b>, para que possamos separar os dados respeitando a distribuição das classes"
   ]
  },
  {
   "cell_type": "code",
   "execution_count": 14,
   "metadata": {},
   "outputs": [
    {
     "data": {
      "text/plain": [
       "((16, 7), (2, 7), (2, 7))"
      ]
     },
     "execution_count": 14,
     "metadata": {},
     "output_type": "execute_result"
    }
   ],
   "source": [
    "df_train, df_test = train_test_split(\n",
    "  data,\n",
    "  test_size=0.2,\n",
    "  random_state=RANDOM_SEED,\n",
    "  stratify = data['class']\n",
    ")\n",
    "\n",
    "df_val, df_test = train_test_split(\n",
    "  df_test,\n",
    "  test_size=0.5,\n",
    "  random_state=RANDOM_SEED,\n",
    "  stratify = df_test['class']\n",
    ")\n",
    "\n",
    "df_train.shape, df_test.shape, df_val.shape"
   ]
  },
  {
   "cell_type": "code",
   "execution_count": 15,
   "metadata": {},
   "outputs": [
    {
     "name": "stdout",
     "output_type": "stream",
     "text": [
      "<class 'pandas.core.frame.DataFrame'>\n",
      "Int64Index: 16 entries, 13 to 9\n",
      "Data columns (total 7 columns):\n",
      "sentenca          16 non-null object\n",
      "entidade1         16 non-null object\n",
      "entidade1_tipo    16 non-null object\n",
      "relacao           8 non-null object\n",
      "entidade2         16 non-null object\n",
      "entidade2_tipo    16 non-null object\n",
      "class             16 non-null int64\n",
      "dtypes: int64(1), object(6)\n",
      "memory usage: 1.0+ KB\n"
     ]
    }
   ],
   "source": [
    "df_train.info()"
   ]
  },
  {
   "cell_type": "code",
   "execution_count": 16,
   "metadata": {},
   "outputs": [
    {
     "name": "stdout",
     "output_type": "stream",
     "text": [
      "<class 'pandas.core.frame.DataFrame'>\n",
      "Int64Index: 2 entries, 20 to 8\n",
      "Data columns (total 7 columns):\n",
      "sentenca          2 non-null object\n",
      "entidade1         2 non-null object\n",
      "entidade1_tipo    2 non-null object\n",
      "relacao           1 non-null object\n",
      "entidade2         2 non-null object\n",
      "entidade2_tipo    2 non-null object\n",
      "class             2 non-null int64\n",
      "dtypes: int64(1), object(6)\n",
      "memory usage: 128.0+ bytes\n"
     ]
    }
   ],
   "source": [
    "df_test.info()"
   ]
  },
  {
   "cell_type": "code",
   "execution_count": 17,
   "metadata": {},
   "outputs": [
    {
     "name": "stdout",
     "output_type": "stream",
     "text": [
      "<class 'pandas.core.frame.DataFrame'>\n",
      "Int64Index: 2 entries, 11 to 5\n",
      "Data columns (total 7 columns):\n",
      "sentenca          2 non-null object\n",
      "entidade1         2 non-null object\n",
      "entidade1_tipo    2 non-null object\n",
      "relacao           1 non-null object\n",
      "entidade2         2 non-null object\n",
      "entidade2_tipo    2 non-null object\n",
      "class             2 non-null int64\n",
      "dtypes: int64(1), object(6)\n",
      "memory usage: 128.0+ bytes\n"
     ]
    }
   ],
   "source": [
    "df_val.info()"
   ]
  },
  {
   "cell_type": "markdown",
   "metadata": {},
   "source": [
    "<h2>Data Loader </h2>\n",
    "Função que auxilia na criação dos dataloaders dos dados utilizando a classe recém criada de processamento de sentenças."
   ]
  },
  {
   "cell_type": "code",
   "execution_count": 18,
   "metadata": {},
   "outputs": [],
   "source": [
    "def create_data_loader(df, tokenizer, max_len, batch_size):\n",
    "    ds = preProccesDataset(\n",
    "        sentence=df['sentenca'].to_numpy(),\n",
    "        entity1=df['entidade1'].to_numpy(),\n",
    "        entity2=df['entidade2'].to_numpy(),\n",
    "        targets=df['class'].to_numpy(),\n",
    "        tokenizer=tokenizer,\n",
    "        max_len=max_len\n",
    "  )\n",
    "    return DataLoader(\n",
    "        ds,\n",
    "        batch_size=batch_size,\n",
    "        num_workers=0\n",
    "  )\n",
    "\n",
    "# BATCH_SIZE = 16\n",
    "# BATCH_SIZE = 1\n",
    "BATCH_SIZE = 2"
   ]
  },
  {
   "cell_type": "markdown",
   "metadata": {},
   "source": [
    "Criando os data loaders para cada função de dataset"
   ]
  },
  {
   "cell_type": "code",
   "execution_count": 19,
   "metadata": {},
   "outputs": [],
   "source": [
    "train_data_loader = create_data_loader(df_train, tokenizer, MAX_LENGHT, BATCH_SIZE)\n",
    "val_data_loader = create_data_loader(df_val, tokenizer, MAX_LENGHT, BATCH_SIZE)\n",
    "test_data_loader = create_data_loader(df_test, tokenizer, MAX_LENGHT, BATCH_SIZE)"
   ]
  },
  {
   "cell_type": "markdown",
   "metadata": {},
   "source": [
    "Exemplo do data loader de treinamento:"
   ]
  },
  {
   "cell_type": "code",
   "execution_count": 20,
   "metadata": {},
   "outputs": [
    {
     "name": "stderr",
     "output_type": "stream",
     "text": [
      "c:\\users\\daniel\\appdata\\local\\programs\\python\\python37\\lib\\site-packages\\transformers\\tokenization_utils_base.py:1773: FutureWarning: The `pad_to_max_length` argument is deprecated and will be removed in a future version, use `padding=True` or `padding='longest'` to pad to the longest sequence in the batch, or use `padding='max_length'` to pad to a max length. In this case, you can give a specific length with `max_length` (e.g. `max_length=45`) or leave max_length to None to pad to the maximal input size of the model (e.g. 512 for Bert).\n",
      "  FutureWarning,\n"
     ]
    },
    {
     "name": "stdout",
     "output_type": "stream",
     "text": [
      "dict_keys(['input_text', 'input_ids', 'attention_mask', 'targets'])\n",
      "torch.Size([2, 246])\n",
      "torch.Size([2, 246])\n",
      "torch.Size([2])\n"
     ]
    }
   ],
   "source": [
    "df = next(iter(train_data_loader))\n",
    "print(df.keys())\n",
    "\n",
    "print(df['input_ids'].shape)\n",
    "print(df['attention_mask'].shape)\n",
    "print(df['targets'].shape)"
   ]
  },
  {
   "cell_type": "code",
   "execution_count": 21,
   "metadata": {},
   "outputs": [
    {
     "data": {
      "text/plain": [
       "{'input_text': [('O AgFinTech – A Nova Era do Seguro e Crédito Rural vai reunir , na Casa do Saber , em São Paulo , especialistas de instituições financeiras , além de representante do Banco Central , para falar sobre temas como a Resolução 4.42 7 do BACEN , que permite a utilização do sensoriamento remoto para fins de fiscalização de operações de crédito rural .',\n",
       "   'O usuário consegue comparar prazos , condições , juros dessa modalidade de crédito de diversosbancos , como Bradesco , Banco do Brasil , Itaú , Safra , e faz a contratação ali mesmo , de acordocom a sua necessidde. '),\n",
       "  ('AgFinTech', 'Banco do Brasil'),\n",
       "  ('Banco Central', 'Itaú')],\n",
       " 'input_ids': tensor([[  101,   231,  2306, 22324,   147,  8192,   493,  1379,   177,  1586,\n",
       "           3362,   171,  1306,   157,   122, 12064,  3059,   373, 19700,  2541,\n",
       "          10590,   117,   229,  3052,   171, 14872, 22282,   117,   173,   710,\n",
       "           1033,   117,  9711,   125,  4600, 11692,   117,  1166,   125,  7116,\n",
       "            171,  6101,  4045,   117,   221,  5961,   498,  4344,   271,   123,\n",
       "          20998,   678,   119,  9716,   977,   171,   241,  7436, 12547,   117,\n",
       "            179,  3099,   123,  5353,   171, 13781,  5283,   265, 22280,  2873,\n",
       "            183,   221,  5996,   125, 21508,   125,  4539,   125, 10640,  6981,\n",
       "            119,   102,   101,  2306, 22324,   147,  8192,   493,   102,     0,\n",
       "              0,     0,     0,     0,     0,     0,     0,     0,     0,     0,\n",
       "              0,     0,     0,     0,     0,     0,     0,     0,     0,     0,\n",
       "              0,     0,     0,     0,     0,     0,     0,     0,     0,     0,\n",
       "              0,     0,     0,     0,     0,     0,     0,     0,     0,     0,\n",
       "              0,     0,     0,     0,     0,     0,     0,     0,     0,     0,\n",
       "              0,     0,     0,     0,     0,     0,     0,     0,     0,     0,\n",
       "              0,     0,     0,     0,     0,     0,     0,     0,     0,     0,\n",
       "              0,     0,     0,     0,   101,  6101,  4045,   102,     0,     0,\n",
       "              0,     0,     0,     0,     0,     0,     0,     0,     0,     0,\n",
       "              0,     0,     0,     0,     0,     0,     0,     0,     0,     0,\n",
       "              0,     0,     0,     0,     0,     0,     0,     0,     0,     0,\n",
       "              0,     0,     0,     0,     0,     0,     0,     0,     0,     0,\n",
       "              0,     0,     0,     0,     0,     0,     0,     0,     0,     0,\n",
       "              0,     0,     0,     0,     0,     0,     0,     0,     0,     0,\n",
       "              0,     0,     0,     0,     0,     0,     0,     0,     0,     0,\n",
       "              0,     0,     0,     0,     0,     0],\n",
       "         [  101,   231,  7143,  4737,  3286, 22282,  6620, 22281,   117,  2955,\n",
       "            117, 19075,  2990,  9758,   125, 10640,   125,  2086,  5319,   942,\n",
       "            117,   271, 12311,  8747,   117,  6101,   171,   771,   117,  4008,\n",
       "          22332,   117,   617,  4221,   117,   122,   659,   123, 12782,  1369,\n",
       "            653,   117,   125,  1365,  1988,   123,   327,  1395,   161,   272,\n",
       "            119,   102,     0,     0,     0,     0,     0,     0,     0,     0,\n",
       "              0,     0,     0,     0,     0,     0,     0,     0,     0,     0,\n",
       "              0,     0,     0,     0,     0,     0,     0,     0,     0,     0,\n",
       "              0,     0,   101,  6101,   171,   771,   102,     0,     0,     0,\n",
       "              0,     0,     0,     0,     0,     0,     0,     0,     0,     0,\n",
       "              0,     0,     0,     0,     0,     0,     0,     0,     0,     0,\n",
       "              0,     0,     0,     0,     0,     0,     0,     0,     0,     0,\n",
       "              0,     0,     0,     0,     0,     0,     0,     0,     0,     0,\n",
       "              0,     0,     0,     0,     0,     0,     0,     0,     0,     0,\n",
       "              0,     0,     0,     0,     0,     0,     0,     0,     0,     0,\n",
       "              0,     0,     0,     0,     0,     0,     0,     0,     0,     0,\n",
       "              0,     0,     0,     0,   101,  4008, 22332,   102,     0,     0,\n",
       "              0,     0,     0,     0,     0,     0,     0,     0,     0,     0,\n",
       "              0,     0,     0,     0,     0,     0,     0,     0,     0,     0,\n",
       "              0,     0,     0,     0,     0,     0,     0,     0,     0,     0,\n",
       "              0,     0,     0,     0,     0,     0,     0,     0,     0,     0,\n",
       "              0,     0,     0,     0,     0,     0,     0,     0,     0,     0,\n",
       "              0,     0,     0,     0,     0,     0,     0,     0,     0,     0,\n",
       "              0,     0,     0,     0,     0,     0,     0,     0,     0,     0,\n",
       "              0,     0,     0,     0,     0,     0]]),\n",
       " 'attention_mask': tensor([[1, 1, 1, 1, 1, 1, 1, 1, 1, 1, 1, 1, 1, 1, 1, 1, 1, 1, 1, 1, 1, 1, 1, 1,\n",
       "          1, 1, 1, 1, 1, 1, 1, 1, 1, 1, 1, 1, 1, 1, 1, 1, 1, 1, 1, 1, 1, 1, 1, 1,\n",
       "          1, 1, 1, 1, 1, 1, 1, 1, 1, 1, 1, 1, 1, 1, 1, 1, 1, 1, 1, 1, 1, 1, 1, 1,\n",
       "          1, 1, 1, 1, 1, 1, 1, 1, 1, 1, 1, 1, 1, 1, 1, 1, 1, 0, 0, 0, 0, 0, 0, 0,\n",
       "          0, 0, 0, 0, 0, 0, 0, 0, 0, 0, 0, 0, 0, 0, 0, 0, 0, 0, 0, 0, 0, 0, 0, 0,\n",
       "          0, 0, 0, 0, 0, 0, 0, 0, 0, 0, 0, 0, 0, 0, 0, 0, 0, 0, 0, 0, 0, 0, 0, 0,\n",
       "          0, 0, 0, 0, 0, 0, 0, 0, 0, 0, 0, 0, 0, 0, 0, 0, 0, 0, 0, 0, 1, 1, 1, 1,\n",
       "          0, 0, 0, 0, 0, 0, 0, 0, 0, 0, 0, 0, 0, 0, 0, 0, 0, 0, 0, 0, 0, 0, 0, 0,\n",
       "          0, 0, 0, 0, 0, 0, 0, 0, 0, 0, 0, 0, 0, 0, 0, 0, 0, 0, 0, 0, 0, 0, 0, 0,\n",
       "          0, 0, 0, 0, 0, 0, 0, 0, 0, 0, 0, 0, 0, 0, 0, 0, 0, 0, 0, 0, 0, 0, 0, 0,\n",
       "          0, 0, 0, 0, 0, 0],\n",
       "         [1, 1, 1, 1, 1, 1, 1, 1, 1, 1, 1, 1, 1, 1, 1, 1, 1, 1, 1, 1, 1, 1, 1, 1,\n",
       "          1, 1, 1, 1, 1, 1, 1, 1, 1, 1, 1, 1, 1, 1, 1, 1, 1, 1, 1, 1, 1, 1, 1, 1,\n",
       "          1, 1, 1, 1, 0, 0, 0, 0, 0, 0, 0, 0, 0, 0, 0, 0, 0, 0, 0, 0, 0, 0, 0, 0,\n",
       "          0, 0, 0, 0, 0, 0, 0, 0, 0, 0, 1, 1, 1, 1, 1, 0, 0, 0, 0, 0, 0, 0, 0, 0,\n",
       "          0, 0, 0, 0, 0, 0, 0, 0, 0, 0, 0, 0, 0, 0, 0, 0, 0, 0, 0, 0, 0, 0, 0, 0,\n",
       "          0, 0, 0, 0, 0, 0, 0, 0, 0, 0, 0, 0, 0, 0, 0, 0, 0, 0, 0, 0, 0, 0, 0, 0,\n",
       "          0, 0, 0, 0, 0, 0, 0, 0, 0, 0, 0, 0, 0, 0, 0, 0, 0, 0, 0, 0, 1, 1, 1, 1,\n",
       "          0, 0, 0, 0, 0, 0, 0, 0, 0, 0, 0, 0, 0, 0, 0, 0, 0, 0, 0, 0, 0, 0, 0, 0,\n",
       "          0, 0, 0, 0, 0, 0, 0, 0, 0, 0, 0, 0, 0, 0, 0, 0, 0, 0, 0, 0, 0, 0, 0, 0,\n",
       "          0, 0, 0, 0, 0, 0, 0, 0, 0, 0, 0, 0, 0, 0, 0, 0, 0, 0, 0, 0, 0, 0, 0, 0,\n",
       "          0, 0, 0, 0, 0, 0]]),\n",
       " 'targets': tensor([0, 0])}"
      ]
     },
     "execution_count": 21,
     "metadata": {},
     "output_type": "execute_result"
    }
   ],
   "source": [
    "x = next(iter(train_data_loader))\n",
    "x"
   ]
  },
  {
   "cell_type": "markdown",
   "metadata": {},
   "source": [
    "Carregando o modelo pré-treinado BERT"
   ]
  },
  {
   "cell_type": "code",
   "execution_count": 22,
   "metadata": {},
   "outputs": [],
   "source": [
    "bert_model = BertModel.from_pretrained(PRE_TRAINED_MODEL_NAME)"
   ]
  },
  {
   "cell_type": "markdown",
   "metadata": {},
   "source": [
    "<h2>Modelo Classificador</h2>\n",
    "\n",
    "Criando um classificador que use o modelo <b>BERT</b>:\n",
    "\n",
    "O classificador delega a maior parte do trabalho pesado para o BertModel. Usamos uma camada de eliminação para alguma regularização e uma camada totalmente conectada para nossa saída. \n",
    "\n",
    "Retorna a saída bruta da última camada, pois isso é necessário para que a função de perda de entropia cruzada em PyTorch funcione."
   ]
  },
  {
   "cell_type": "code",
   "execution_count": 23,
   "metadata": {},
   "outputs": [],
   "source": [
    "class ModeloVerificaRelacao(nn.Module):\n",
    "    \n",
    "    def __init__(self, n_classes, bert_embedding_model, dropout_prob=0.1):\n",
    "        super(ModeloVerificaRelacao, self).__init__()\n",
    "        self._drop_prob = dropout_prob\n",
    "        \n",
    "        self.bert = bert_embedding_model if bert_embedding_model is not None else BertModel.from_pretrained(PRE_TRAINED_MODEL_NAME)\n",
    "\n",
    "        self.out = nn.Sequential(\n",
    "            nn.Dropout(self._drop_prob),\n",
    "            nn.Linear(self.bert.config.hidden_size, n_classes),\n",
    "            nn.Sigmoid()\n",
    "        )\n",
    "        \n",
    "        \n",
    "    def forward(self, input_ids, attention_mask):\n",
    "        _, pooled_output = self.bert(\n",
    "          input_ids=input_ids,\n",
    "          attention_mask=attention_mask\n",
    "    )\n",
    "    \n",
    "        return self.out(pooled_output)"
   ]
  },
  {
   "cell_type": "markdown",
   "metadata": {},
   "source": [
    "Criando uma instância e movê-la para a GPU <b>(caso tenha)</b>"
   ]
  },
  {
   "cell_type": "code",
   "execution_count": 24,
   "metadata": {},
   "outputs": [
    {
     "name": "stdout",
     "output_type": "stream",
     "text": [
      "Suggest using 2 classes\n"
     ]
    }
   ],
   "source": [
    "NUM_CLASSES = len(class_names)\n",
    "print(f\"Suggest using {NUM_CLASSES} classes\")\n",
    "\n",
    "model = ModeloVerificaRelacao(n_classes=1, bert_embedding_model=bert_model, dropout_prob=0.1)\n",
    "model = model.to(device)"
   ]
  },
  {
   "cell_type": "markdown",
   "metadata": {},
   "source": [
    "Lote de exemplo de nossos dados de treinamento movido para a GPU:"
   ]
  },
  {
   "cell_type": "code",
   "execution_count": 25,
   "metadata": {},
   "outputs": [
    {
     "name": "stdout",
     "output_type": "stream",
     "text": [
      "torch.Size([2, 246])\n",
      "torch.Size([2, 246])\n"
     ]
    }
   ],
   "source": [
    "input_ids = df['input_ids'].to(device)\n",
    "attention_mask = df['attention_mask'].to(device)\n",
    "\n",
    "print(input_ids.shape) # batch size x seq length\n",
    "print(attention_mask.shape) # batch size x seq length"
   ]
  },
  {
   "cell_type": "markdown",
   "metadata": {},
   "source": [
    "<h2>Treinamento</h2>\n",
    "\n",
    "Para reproduzir o procedimento de treinamento do artigo de BERT, usamos o otimizador AdamW fornecido por Hugging Face. Ele corrige a deterioração do peso. Também usaremos um agendador linear sem etapas de warmup:"
   ]
  },
  {
   "cell_type": "code",
   "execution_count": 49,
   "metadata": {},
   "outputs": [],
   "source": [
    "EPOCHS = 4\n",
    "\n",
    "optimizer = AdamW(model.parameters(), lr=2e-5, correct_bias=False)\n",
    "total_steps = len(train_data_loader) * EPOCHS\n",
    "scheduler = get_linear_schedule_with_warmup(\n",
    "  optimizer,\n",
    "  num_warmup_steps=0,\n",
    "  num_training_steps=total_steps\n",
    ")\n",
    "\n",
    "loss_fn = nn.BCELoss().to(device)\n",
    "#loss_fn = nn.BCEWithLogitsLoss().to(device)"
   ]
  },
  {
   "cell_type": "markdown",
   "metadata": {},
   "source": [
    "De onde são esses hiperparâmetros? Os autores do BERT têm algumas recomendações para o ajuste fino:\n",
    "\n",
    "- Tamanho do lote: 16, 32\n",
    "- Taxa de aprendizagem (Adam): 5e-5, 3e-5, 2e-5\n",
    "- Número de épocas: 2, 3, 4\n",
    "- Vamos ignorar a recomendação do número de épocas, mas ficar com o resto. Observe que aumentar o tamanho do lote reduz significativamente o tempo de treinamento, mas oferece menor precisão.\n",
    "\n",
    "Função auxiliar para treinar o modelo para uma época:"
   ]
  },
  {
   "cell_type": "code",
   "execution_count": 50,
   "metadata": {},
   "outputs": [],
   "source": [
    "def train_epoch(model, data_loader, loss_fn, optimizer, device, scheduler, n_examples):\n",
    "    model = model.train()\n",
    "    losses = []\n",
    "    correct_predictions = 0\n",
    "    \n",
    "    counter = 0\n",
    "    data_count = len(data_loader)\n",
    "    \n",
    "    for d in data_loader:\n",
    "        counter += 1\n",
    "        if counter % 10 == 0:\n",
    "            print(\"Performing step {\" + str(counter) + \"} out of a total of {\" + str(data_count) + \"} steps...\")\n",
    "            \n",
    "        input_ids = d[\"input_ids\"].to(device)\n",
    "        attention_mask = d[\"attention_mask\"].to(device)\n",
    "        targets = d[\"targets\"].to(device)\n",
    "        \n",
    "        outputs = model(\n",
    "            input_ids=input_ids,\n",
    "            attention_mask=attention_mask\n",
    "        )\n",
    "        \n",
    "        print('Saída Modelo: ' + str(outputs.detach().numpy()) + '\\nPredição 0/1: ' + str([1 if x.item(0) >= 0.5 else 0 for x in outputs.detach().numpy()]) + str('\\nValor Real: ' + str(targets)))\n",
    "        preds = torch.tensor([1 if x.item(0) >= 0.5 else 0 for x in outputs.detach().numpy()])\n",
    "        \n",
    "        print('Acertos: ' + str(preds == targets))\n",
    "        print('Acertos sumarizados: ' + str(torch.sum(preds == targets)))\n",
    "        \n",
    "        loss = loss_fn(outputs.float(), targets.float())\n",
    "        \n",
    "        correct_predictions += torch.sum(preds == targets)\n",
    "        losses.append(loss.item())\n",
    "        loss.backward()\n",
    "        nn.utils.clip_grad_norm_(model.parameters(), max_norm=1.0)\n",
    "        optimizer.step()\n",
    "        scheduler.step()\n",
    "        optimizer.zero_grad()\n",
    "    \n",
    "    return correct_predictions.double() / n_examples, np.mean(losses)"
   ]
  },
  {
   "cell_type": "markdown",
   "metadata": {},
   "source": [
    "O treinamento do modelo deve parecer familiar, exceto por duas coisas. O scheduler é chamado sempre que um lote é alimentado para o modelo. A explosão de gradientes está sendo evitada recortando os gradientes do modelo usando <i><b>clipgrad_norm</b></i>.\n",
    "\n",
    "Outra função para avaliar o modelo em um determinado data loader:"
   ]
  },
  {
   "cell_type": "code",
   "execution_count": 51,
   "metadata": {},
   "outputs": [],
   "source": [
    "def eval_model(model, data_loader, loss_fn, device, n_examples):\n",
    "\n",
    "    model = model.eval()\n",
    "    losses = []\n",
    "    correct_predictions = 0\n",
    "    \n",
    "    with torch.no_grad():\n",
    "        counter = 0\n",
    "        data_count = len(data_loader)\n",
    "    \n",
    "        for d in data_loader:\n",
    "            counter += 1\n",
    "            if counter % 10 == 0:\n",
    "                print(\"Performing step {\" + str(counter) + \"} out of a total of {\" + str(data_count) + \"} steps...\")\n",
    "            \n",
    "            input_ids = d[\"input_ids\"].to(device)\n",
    "            attention_mask = d[\"attention_mask\"].to(device)\n",
    "            targets = d[\"targets\"].to(device)\n",
    "            \n",
    "            outputs = model(\n",
    "                input_ids=input_ids,\n",
    "                attention_mask=attention_mask\n",
    "            )\n",
    "            \n",
    "            print('Saída Modelo: ' + str(outputs) + '\\\\nPredição 0/1: ' + str([1 if x.item(0) >= 0.5 else 0 for x in outputs.detach().numpy()]) + str('\\\\nValor Real: ' + str(targets)))\n",
    "            preds = torch.tensor([1 if x.item(0) >= 0.5 else 0 for x in outputs.detach().numpy()])\n",
    "\n",
    "            print('Acertos: ' + str(preds == targets))\n",
    "            print('Acertos sumarizados: ' + str(torch.sum(preds == targets)))\n",
    "\n",
    "            loss = loss_fn(outputs.float(), targets.float())\n",
    "            \n",
    "            correct_predictions += torch.sum(preds == targets)\n",
    "            losses.append(loss.item())\n",
    "\n",
    "    return correct_predictions.double() / n_examples, np.mean(losses)"
   ]
  },
  {
   "cell_type": "markdown",
   "metadata": {},
   "source": [
    "Usando essas duas funções, temos o loop de treinamento. \n",
    "Também armazenaremos o histórico de treinamento:"
   ]
  },
  {
   "cell_type": "code",
   "execution_count": 52,
   "metadata": {
    "scrolled": true
   },
   "outputs": [
    {
     "name": "stdout",
     "output_type": "stream",
     "text": [
      "Epoch 1/4\n",
      "----------\n",
      "Saída Modelo: tensor([[0.3171],\n",
      "        [0.0287]], grad_fn=<SigmoidBackward>)\\nPredição 0/1: [0, 0]\\nValor Real: tensor([0, 0])\n",
      "Acertos: tensor([True, True])\n",
      "Acertos sumarizados: tensor(2)\n",
      "Saída Modelo: tensor([[0.2326],\n",
      "        [0.1474]], grad_fn=<SigmoidBackward>)\\nPredição 0/1: [0, 0]\\nValor Real: tensor([1, 1])\n",
      "Acertos: tensor([False, False])\n",
      "Acertos sumarizados: tensor(0)\n",
      "Saída Modelo: tensor([[0.7710],\n",
      "        [0.7910]], grad_fn=<SigmoidBackward>)\\nPredição 0/1: [1, 1]\\nValor Real: tensor([1, 1])\n",
      "Acertos: tensor([True, True])\n",
      "Acertos sumarizados: tensor(2)\n",
      "Saída Modelo: tensor([[0.8070],\n",
      "        [0.8690]], grad_fn=<SigmoidBackward>)\\nPredição 0/1: [1, 1]\\nValor Real: tensor([1, 0])\n",
      "Acertos: tensor([ True, False])\n",
      "Acertos sumarizados: tensor(1)\n",
      "Saída Modelo: tensor([[0.8830],\n",
      "        [0.7910]], grad_fn=<SigmoidBackward>)\\nPredição 0/1: [1, 1]\\nValor Real: tensor([0, 1])\n",
      "Acertos: tensor([False,  True])\n",
      "Acertos sumarizados: tensor(1)\n",
      "Saída Modelo: tensor([[0.9298],\n",
      "        [0.0257]], grad_fn=<SigmoidBackward>)\\nPredição 0/1: [1, 0]\\nValor Real: tensor([1, 0])\n",
      "Acertos: tensor([True, True])\n",
      "Acertos sumarizados: tensor(2)\n",
      "Saída Modelo: tensor([[0.8329],\n",
      "        [0.0126]], grad_fn=<SigmoidBackward>)\\nPredição 0/1: [1, 0]\\nValor Real: tensor([1, 0])\n",
      "Acertos: tensor([True, True])\n",
      "Acertos sumarizados: tensor(2)\n",
      "Saída Modelo: tensor([[0.3374],\n",
      "        [0.0130]], grad_fn=<SigmoidBackward>)\\nPredição 0/1: [0, 0]\\nValor Real: tensor([0, 0])\n",
      "Acertos: tensor([True, True])\n",
      "Acertos sumarizados: tensor(2)\n",
      "Train loss 0.6015107701532543 accuracy 0.75\n",
      "Saída Modelo: tensor([[0.1226],\n",
      "        [0.0117]])\\nPredição 0/1: [0, 0]\\nValor Real: tensor([1, 0])\n",
      "Acertos: tensor([False,  True])\n",
      "Acertos sumarizados: tensor(1)\n",
      "Val   loss 1.0552117824554443 accuracy 0.5\n",
      "\n",
      "Epoch 2/4\n",
      "----------\n",
      "Saída Modelo: tensor([[0.0918],\n",
      "        [0.0151]], grad_fn=<SigmoidBackward>)\\nPredição 0/1: [0, 0]\\nValor Real: tensor([0, 0])\n",
      "Acertos: tensor([True, True])\n",
      "Acertos sumarizados: tensor(2)\n",
      "Saída Modelo: tensor([[0.8963],\n",
      "        [0.7139]], grad_fn=<SigmoidBackward>)\\nPredição 0/1: [1, 1]\\nValor Real: tensor([1, 1])\n",
      "Acertos: tensor([True, True])\n",
      "Acertos sumarizados: tensor(2)\n",
      "Saída Modelo: tensor([[0.0836],\n",
      "        [0.1177]], grad_fn=<SigmoidBackward>)\\nPredição 0/1: [0, 0]\\nValor Real: tensor([1, 1])\n",
      "Acertos: tensor([False, False])\n",
      "Acertos sumarizados: tensor(0)\n",
      "Saída Modelo: tensor([[0.9861],\n",
      "        [0.0980]], grad_fn=<SigmoidBackward>)\\nPredição 0/1: [1, 0]\\nValor Real: tensor([1, 0])\n",
      "Acertos: tensor([True, True])\n",
      "Acertos sumarizados: tensor(2)\n",
      "Saída Modelo: tensor([[0.1095],\n",
      "        [0.9615]], grad_fn=<SigmoidBackward>)\\nPredição 0/1: [0, 1]\\nValor Real: tensor([0, 1])\n",
      "Acertos: tensor([True, True])\n",
      "Acertos sumarizados: tensor(2)\n",
      "Saída Modelo: tensor([[0.9753],\n",
      "        [0.0077]], grad_fn=<SigmoidBackward>)\\nPredição 0/1: [1, 0]\\nValor Real: tensor([1, 0])\n",
      "Acertos: tensor([True, True])\n",
      "Acertos sumarizados: tensor(2)\n",
      "Saída Modelo: tensor([[0.9715],\n",
      "        [0.0083]], grad_fn=<SigmoidBackward>)\\nPredição 0/1: [1, 0]\\nValor Real: tensor([1, 0])\n",
      "Acertos: tensor([True, True])\n",
      "Acertos sumarizados: tensor(2)\n",
      "Saída Modelo: tensor([[0.0364],\n",
      "        [0.0061]], grad_fn=<SigmoidBackward>)\\nPredição 0/1: [0, 0]\\nValor Real: tensor([0, 0])\n",
      "Acertos: tensor([True, True])\n",
      "Acertos sumarizados: tensor(2)\n",
      "Train loss 0.34781051124446094 accuracy 0.875\n",
      "Saída Modelo: tensor([[0.3266],\n",
      "        [0.0050]])\\nPredição 0/1: [0, 0]\\nValor Real: tensor([1, 0])\n",
      "Acertos: tensor([False,  True])\n",
      "Acertos sumarizados: tensor(1)\n",
      "Val   loss 0.5620415210723877 accuracy 0.5\n",
      "\n",
      "Epoch 3/4\n",
      "----------\n",
      "Saída Modelo: tensor([[0.2796],\n",
      "        [0.0063]], grad_fn=<SigmoidBackward>)\\nPredição 0/1: [0, 0]\\nValor Real: tensor([0, 0])\n",
      "Acertos: tensor([True, True])\n",
      "Acertos sumarizados: tensor(2)\n",
      "Saída Modelo: tensor([[0.9842],\n",
      "        [0.9862]], grad_fn=<SigmoidBackward>)\\nPredição 0/1: [1, 1]\\nValor Real: tensor([1, 1])\n",
      "Acertos: tensor([True, True])\n",
      "Acertos sumarizados: tensor(2)\n",
      "Saída Modelo: tensor([[0.0146],\n",
      "        [0.1365]], grad_fn=<SigmoidBackward>)\\nPredição 0/1: [0, 0]\\nValor Real: tensor([1, 1])\n",
      "Acertos: tensor([False, False])\n",
      "Acertos sumarizados: tensor(0)\n",
      "Saída Modelo: tensor([[0.9966],\n",
      "        [0.0127]], grad_fn=<SigmoidBackward>)\\nPredição 0/1: [1, 0]\\nValor Real: tensor([1, 0])\n",
      "Acertos: tensor([True, True])\n",
      "Acertos sumarizados: tensor(2)\n",
      "Saída Modelo: tensor([[0.0202],\n",
      "        [0.9960]], grad_fn=<SigmoidBackward>)\\nPredição 0/1: [0, 1]\\nValor Real: tensor([0, 1])\n",
      "Acertos: tensor([True, True])\n",
      "Acertos sumarizados: tensor(2)\n",
      "Saída Modelo: tensor([[0.9968],\n",
      "        [0.0029]], grad_fn=<SigmoidBackward>)\\nPredição 0/1: [1, 0]\\nValor Real: tensor([1, 0])\n",
      "Acertos: tensor([True, True])\n",
      "Acertos sumarizados: tensor(2)\n",
      "Saída Modelo: tensor([[0.9961],\n",
      "        [0.0039]], grad_fn=<SigmoidBackward>)\\nPredição 0/1: [1, 0]\\nValor Real: tensor([1, 0])\n",
      "Acertos: tensor([True, True])\n",
      "Acertos sumarizados: tensor(2)\n",
      "Saída Modelo: tensor([[0.0137],\n",
      "        [0.0037]], grad_fn=<SigmoidBackward>)\\nPredição 0/1: [0, 0]\\nValor Real: tensor([0, 0])\n",
      "Acertos: tensor([True, True])\n",
      "Acertos sumarizados: tensor(2)\n",
      "Train loss 0.4159112310153432 accuracy 0.875\n",
      "Saída Modelo: tensor([[0.1252],\n",
      "        [0.0024]])\\nPredição 0/1: [0, 0]\\nValor Real: tensor([1, 0])\n",
      "Acertos: tensor([False,  True])\n",
      "Acertos sumarizados: tensor(1)\n",
      "Val   loss 1.0401304960250854 accuracy 0.5\n",
      "\n",
      "Epoch 4/4\n",
      "----------\n",
      "Saída Modelo: tensor([[0.1168],\n",
      "        [0.0042]], grad_fn=<SigmoidBackward>)\\nPredição 0/1: [0, 0]\\nValor Real: tensor([0, 0])\n",
      "Acertos: tensor([True, True])\n",
      "Acertos sumarizados: tensor(2)\n",
      "Saída Modelo: tensor([[0.9974],\n",
      "        [0.9973]], grad_fn=<SigmoidBackward>)\\nPredição 0/1: [1, 1]\\nValor Real: tensor([1, 1])\n",
      "Acertos: tensor([True, True])\n",
      "Acertos sumarizados: tensor(2)\n",
      "Saída Modelo: tensor([[0.0114],\n",
      "        [0.0769]], grad_fn=<SigmoidBackward>)\\nPredição 0/1: [0, 0]\\nValor Real: tensor([1, 1])\n",
      "Acertos: tensor([False, False])\n",
      "Acertos sumarizados: tensor(0)\n",
      "Saída Modelo: tensor([[0.9968],\n",
      "        [0.0102]], grad_fn=<SigmoidBackward>)\\nPredição 0/1: [1, 0]\\nValor Real: tensor([1, 0])\n",
      "Acertos: tensor([True, True])\n",
      "Acertos sumarizados: tensor(2)\n",
      "Saída Modelo: tensor([[0.0091],\n",
      "        [0.9931]], grad_fn=<SigmoidBackward>)\\nPredição 0/1: [0, 1]\\nValor Real: tensor([0, 1])\n",
      "Acertos: tensor([True, True])\n",
      "Acertos sumarizados: tensor(2)\n",
      "Saída Modelo: tensor([[0.9942],\n",
      "        [0.0025]], grad_fn=<SigmoidBackward>)\\nPredição 0/1: [1, 0]\\nValor Real: tensor([1, 0])\n",
      "Acertos: tensor([True, True])\n",
      "Acertos sumarizados: tensor(2)\n",
      "Saída Modelo: tensor([[0.9971],\n",
      "        [0.0029]], grad_fn=<SigmoidBackward>)\\nPredição 0/1: [1, 0]\\nValor Real: tensor([1, 0])\n",
      "Acertos: tensor([True, True])\n",
      "Acertos sumarizados: tensor(2)\n",
      "Saída Modelo: tensor([[0.0123],\n",
      "        [0.0029]], grad_fn=<SigmoidBackward>)\\nPredição 0/1: [0, 0]\\nValor Real: tensor([0, 0])\n",
      "Acertos: tensor([True, True])\n",
      "Acertos sumarizados: tensor(2)\n",
      "Train loss 0.45216949126916006 accuracy 0.875\n",
      "Saída Modelo: tensor([[0.1137],\n",
      "        [0.0021]])\\nPredição 0/1: [0, 0]\\nValor Real: tensor([1, 0])\n",
      "Acertos: tensor([False,  True])\n",
      "Acertos sumarizados: tensor(1)\n",
      "Val   loss 1.088239073753357 accuracy 0.5\n",
      "\n",
      "Wall time: 30min 45s\n"
     ]
    }
   ],
   "source": [
    "%%time\n",
    "history = defaultdict(list)\n",
    "best_accuracy = 0\n",
    "for epoch in range(EPOCHS):\n",
    "    print(f'Epoch {epoch + 1}/{EPOCHS}')\n",
    "    print('-' * 10)\n",
    "    train_acc, train_loss = train_epoch(\n",
    "        model,\n",
    "        train_data_loader,\n",
    "        loss_fn,\n",
    "        optimizer,\n",
    "        device,\n",
    "        scheduler,\n",
    "        len(df_train)\n",
    "    )\n",
    "  \n",
    "    print(f'>>>>>> Train loss {train_loss} accuracy {train_acc}')\n",
    "    \n",
    "    print(f'>>> Evaluating with validation data..')\n",
    "    \n",
    "    val_acc, val_loss = eval_model(\n",
    "        model,\n",
    "        val_data_loader,\n",
    "        loss_fn,\n",
    "        device,\n",
    "        len(df_val)\n",
    "    )\n",
    "    \n",
    "    print(f'>>>>>> Val loss {val_loss} accuracy {val_acc}')\n",
    "    print()\n",
    "  \n",
    "    history['train_acc'].append(train_acc)\n",
    "    history['train_loss'].append(train_loss)\n",
    "    history['val_acc'].append(val_acc)\n",
    "    history['val_loss'].append(val_loss)\n",
    "  \n",
    "    if val_acc > best_accuracy:\n",
    "        torch.save(model.state_dict(), 'best_model_state.bin')\n",
    "        best_accuracy = val_acc"
   ]
  },
  {
   "cell_type": "markdown",
   "metadata": {},
   "source": [
    "O estado do melhor modelo é armazenado, indicado pela maior precisão de validação.\n",
    "É possível observar a precisão do treinamento vs validação:"
   ]
  },
  {
   "cell_type": "code",
   "execution_count": 42,
   "metadata": {},
   "outputs": [
    {
     "data": {
      "image/png": "[encoded data removed]",
      "text/plain": [
       "<Figure size 864x576 with 1 Axes>"
      ]
     },
     "metadata": {},
     "output_type": "display_data"
    }
   ],
   "source": [
    "plt.plot(history['train_acc'], label='train accuracy')\n",
    "plt.plot(history['val_acc'], label='validation accuracy')\n",
    "plt.title('Training history')\n",
    "plt.ylabel('Accuracy')\n",
    "plt.xlabel('Epoch')\n",
    "plt.legend()\n",
    "plt.ylim([0, 1]);"
   ]
  },
  {
   "cell_type": "markdown",
   "metadata": {},
   "source": [
    "<h2>Avaliação do Modelo</h2>\n",
    "\n",
    "Avaliação do modelo treinado. Cálculo da acurácia"
   ]
  },
  {
   "cell_type": "code",
   "execution_count": 43,
   "metadata": {},
   "outputs": [
    {
     "name": "stdout",
     "output_type": "stream",
     "text": [
      "Saída Modelo: tensor([[0.8924],\n",
      "        [0.0206]])\\nPredição 0/1: [1, 0]\\nValor Real: tensor([1, 0])\n",
      "Acertos: tensor([True, True])\n",
      "Acertos sumarizados: tensor(2)\n"
     ]
    },
    {
     "data": {
      "text/plain": [
       "1.0"
      ]
     },
     "execution_count": 43,
     "metadata": {},
     "output_type": "execute_result"
    }
   ],
   "source": [
    "test_acc, _ = eval_model(\n",
    "  model,\n",
    "  test_data_loader,\n",
    "  loss_fn,\n",
    "  device,\n",
    "  len(df_test)\n",
    ")\n",
    "test_acc.item()\n"
   ]
  },
  {
   "cell_type": "markdown",
   "metadata": {},
   "source": [
    "Função que vai calcular essa acurácia automaticamente"
   ]
  },
  {
   "cell_type": "code",
   "execution_count": 44,
   "metadata": {},
   "outputs": [],
   "source": [
    "def get_predictions(model, data_loader):\n",
    "    model = model.eval()\n",
    "    review_texts = []\n",
    "    predictions = []\n",
    "    prediction_probs = []\n",
    "    real_values = []\n",
    "    with torch.no_grad():\n",
    "        for d in data_loader:\n",
    "            texts = d[\"input_text\"]\n",
    "            input_ids = d[\"input_ids\"].to(device)\n",
    "            attention_mask = d[\"attention_mask\"].to(device)\n",
    "            targets = d[\"targets\"].to(device)\n",
    "            outputs = model(\n",
    "                input_ids=input_ids,\n",
    "                attention_mask=attention_mask\n",
    "              )\n",
    "\n",
    "            print('Saída Modelo: ' + str(outputs) + '\\\\nPredição 0/1: ' + str([1 if x.item(0) >= 0.5 else 0 for x in outputs.detach().numpy()]) + str('\\\\nValor Real: ' + str(targets)))\n",
    "            preds = torch.tensor([1 if x.item(0) >= 0.5 else 0 for x in outputs.detach().numpy()])\n",
    "\n",
    "            print('Acertos: ' + str(preds == targets))\n",
    "            print('Acertos sumarizados: ' + str(torch.sum(preds == targets)))\n",
    "            review_texts.extend(texts)\n",
    "            predictions.extend(preds)\n",
    "            prediction_probs.extend(outputs)\n",
    "            real_values.extend(targets)\n",
    "    \n",
    "    predictions = torch.stack(predictions).cpu()\n",
    "    prediction_probs = torch.stack(prediction_probs).cpu()\n",
    "    real_values = torch.stack(real_values).cpu()\n",
    "  \n",
    "    return review_texts, predictions, prediction_probs, real_values"
   ]
  },
  {
   "cell_type": "markdown",
   "metadata": {},
   "source": [
    "<h3>Chamada da Função para calcular as predições</h3>\n",
    "\n",
    "Semelhante à função de avaliação, exceto que estamos armazenando o texto das sentenças e as probabilidades previstas"
   ]
  },
  {
   "cell_type": "code",
   "execution_count": 45,
   "metadata": {},
   "outputs": [
    {
     "name": "stdout",
     "output_type": "stream",
     "text": [
      "Saída Modelo: tensor([[0.8924],\n",
      "        [0.0206]])\\nPredição 0/1: [1, 0]\\nValor Real: tensor([1, 0])\n",
      "Acertos: tensor([True, True])\n",
      "Acertos sumarizados: tensor(2)\n"
     ]
    }
   ],
   "source": [
    "y_review_texts, y_pred, y_pred_probs, y_test = get_predictions(\n",
    "    model,\n",
    "    test_data_loader\n",
    ")"
   ]
  },
  {
   "cell_type": "markdown",
   "metadata": {},
   "source": [
    "<h3>Relatório da Classificação</h3>"
   ]
  },
  {
   "cell_type": "code",
   "execution_count": 46,
   "metadata": {},
   "outputs": [
    {
     "name": "stdout",
     "output_type": "stream",
     "text": [
      "              precision    recall  f1-score   support\n",
      "\n",
      "    negativa       1.00      1.00      1.00         1\n",
      "    positiva       1.00      1.00      1.00         1\n",
      "\n",
      "    accuracy                           1.00         2\n",
      "   macro avg       1.00      1.00      1.00         2\n",
      "weighted avg       1.00      1.00      1.00         2\n",
      "\n"
     ]
    }
   ],
   "source": [
    "print(classification_report(y_test, y_pred, target_names=class_names))"
   ]
  },
  {
   "cell_type": "markdown",
   "metadata": {},
   "source": [
    "<h3>Matriz de Confusão</h3>"
   ]
  },
  {
   "cell_type": "code",
   "execution_count": 47,
   "metadata": {},
   "outputs": [
    {
     "data": {
      "image/png": "[encoded data removed]",
      "text/plain": [
       "<Figure size 864x576 with 2 Axes>"
      ]
     },
     "metadata": {},
     "output_type": "display_data"
    }
   ],
   "source": [
    "def show_confusion_matrix(confusion_matrix):\n",
    "    hmap = sns.heatmap(confusion_matrix, annot=True, fmt=\"d\", cmap=\"Blues\")\n",
    "    hmap.yaxis.set_ticklabels(hmap.yaxis.get_ticklabels(), rotation=0, ha='right')\n",
    "    hmap.xaxis.set_ticklabels(hmap.xaxis.get_ticklabels(), rotation=30, ha='right')\n",
    "    plt.ylabel('Classificação Real')\n",
    "    plt.xlabel('Classificação Predita');\n",
    "    \n",
    "cm = confusion_matrix(y_test, y_pred)\n",
    "df_cm = pd.DataFrame(cm, index=class_names, columns=class_names)\n",
    "\n",
    "show_confusion_matrix(df_cm)"
   ]
  },
  {
   "cell_type": "code",
   "execution_count": 48,
   "metadata": {},
   "outputs": [
    {
     "data": {
      "text/plain": [
       "([('Nossa meta é alcançar 10 mil empréstimos por mês , contou Mellissa Penteado , CEO do Bancoin .',\n",
       "   'O usuário consegue comparar prazos , condições , juros dessa modalidade de crédito de diversosbancos , como Bradesco , Banco do Brasil , Itaú , Safra , e faz a contratação ali mesmo , de acordocom a sua necessidde. '),\n",
       "  ('Bancoin', 'Banco do Brasil'),\n",
       "  ('Mellissa Penteado', 'Safra')],\n",
       " tensor([1, 0]),\n",
       " tensor([[0.8924],\n",
       "         [0.0206]]),\n",
       " tensor([1, 0]))"
      ]
     },
     "execution_count": 48,
     "metadata": {},
     "output_type": "execute_result"
    }
   ],
   "source": [
    "y_review_texts, y_pred, y_pred_probs, y_test"
   ]
  },
  {
   "cell_type": "code",
   "execution_count": null,
   "metadata": {},
   "outputs": [],
   "source": []
  },
  {
   "cell_type": "code",
   "execution_count": null,
   "metadata": {},
   "outputs": [],
   "source": []
  },
  {
   "cell_type": "code",
   "execution_count": null,
   "metadata": {},
   "outputs": [],
   "source": []
  }
 ],
 "metadata": {
  "kernelspec": {
   "display_name": "Python 3",
   "language": "python",
   "name": "python3"
  },
  "language_info": {
   "codemirror_mode": {
    "name": "ipython",
    "version": 3
   },
   "file_extension": ".py",
   "mimetype": "text/x-python",
   "name": "python",
   "nbconvert_exporter": "python",
   "pygments_lexer": "ipython3",
   "version": "3.7.3"
  }
 },
 "nbformat": 4,
 "nbformat_minor": 4
}
