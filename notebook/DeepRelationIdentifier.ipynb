{
 "cells": [
  {
   "cell_type": "code",
   "execution_count": 1,
   "metadata": {},
   "outputs": [
    {
     "name": "stderr",
     "output_type": "stream",
     "text": [
      "c:\\users\\daniel\\appdata\\local\\programs\\python\\python37\\lib\\site-packages\\tensorboard\\compat\\tensorflow_stub\\dtypes.py:541: FutureWarning: Passing (type, 1) or '1type' as a synonym of type is deprecated; in a future version of numpy, it will be understood as (type, (1,)) / '(1,)type'.\n",
      "  _np_qint8 = np.dtype([(\"qint8\", np.int8, 1)])\n",
      "c:\\users\\daniel\\appdata\\local\\programs\\python\\python37\\lib\\site-packages\\tensorboard\\compat\\tensorflow_stub\\dtypes.py:542: FutureWarning: Passing (type, 1) or '1type' as a synonym of type is deprecated; in a future version of numpy, it will be understood as (type, (1,)) / '(1,)type'.\n",
      "  _np_quint8 = np.dtype([(\"quint8\", np.uint8, 1)])\n",
      "c:\\users\\daniel\\appdata\\local\\programs\\python\\python37\\lib\\site-packages\\tensorboard\\compat\\tensorflow_stub\\dtypes.py:543: FutureWarning: Passing (type, 1) or '1type' as a synonym of type is deprecated; in a future version of numpy, it will be understood as (type, (1,)) / '(1,)type'.\n",
      "  _np_qint16 = np.dtype([(\"qint16\", np.int16, 1)])\n",
      "c:\\users\\daniel\\appdata\\local\\programs\\python\\python37\\lib\\site-packages\\tensorboard\\compat\\tensorflow_stub\\dtypes.py:544: FutureWarning: Passing (type, 1) or '1type' as a synonym of type is deprecated; in a future version of numpy, it will be understood as (type, (1,)) / '(1,)type'.\n",
      "  _np_quint16 = np.dtype([(\"quint16\", np.uint16, 1)])\n",
      "c:\\users\\daniel\\appdata\\local\\programs\\python\\python37\\lib\\site-packages\\tensorboard\\compat\\tensorflow_stub\\dtypes.py:545: FutureWarning: Passing (type, 1) or '1type' as a synonym of type is deprecated; in a future version of numpy, it will be understood as (type, (1,)) / '(1,)type'.\n",
      "  _np_qint32 = np.dtype([(\"qint32\", np.int32, 1)])\n",
      "c:\\users\\daniel\\appdata\\local\\programs\\python\\python37\\lib\\site-packages\\tensorboard\\compat\\tensorflow_stub\\dtypes.py:550: FutureWarning: Passing (type, 1) or '1type' as a synonym of type is deprecated; in a future version of numpy, it will be understood as (type, (1,)) / '(1,)type'.\n",
      "  np_resource = np.dtype([(\"resource\", np.ubyte, 1)])\n"
     ]
    }
   ],
   "source": [
    "import pandas as pd\n",
    "import numpy as np\n",
    "from scipy import stats\n",
    "import nltk\n",
    "import string\n",
    "import os\n",
    "import torch\n",
    "from collections import Counter\n",
    "from transformers import AutoModel, AutoTokenizer, BertTokenizer\n",
    "from gensim.models import KeyedVectors"
   ]
  },
  {
   "cell_type": "markdown",
   "metadata": {},
   "source": [
    "Carrega a BERT"
   ]
  },
  {
   "cell_type": "code",
   "execution_count": 3,
   "metadata": {},
   "outputs": [],
   "source": [
    "#bert_tokenizer = AutoTokenizer.from_pretrained('/root/.cache/torch/transformers/neuralmind-bert-large-portuguese-cased/')\n",
    "#bert_model = AutoModel.from_pretrained('/root/.cache/torch/transformers/neuralmind-bert-large-portuguese-cased/')\n",
    "\n",
    "bert_tokenizer = AutoTokenizer.from_pretrained('neuralmind/bert-large-portuguese-cased')\n",
    "bert_model = AutoModel.from_pretrained('neuralmind/bert-large-portuguese-cased')"
   ]
  },
  {
   "cell_type": "markdown",
   "metadata": {},
   "source": [
    "Carrega os dados de entrada"
   ]
  },
  {
   "cell_type": "code",
   "execution_count": 4,
   "metadata": {},
   "outputs": [
    {
     "name": "stdout",
     "output_type": "stream",
     "text": [
      "D:\\Mestrado\\2020-02\\Deep Learning\\relation-extraction-deep-learning\\data\n"
     ]
    }
   ],
   "source": [
    "pwd = %pwd\n",
    "pwd = os.path.join(os.path.dirname(pwd), 'data')\n",
    "print(pwd)"
   ]
  },
  {
   "cell_type": "code",
   "execution_count": 5,
   "metadata": {},
   "outputs": [],
   "source": [
    "data = pd.read_csv(os.path.join(pwd, 'input/data_full.csv'), sep=';').replace({np.NaN: None})\n",
    "data.columns = ['sentenca','entidade1','entidade1_tipo','relacao','entidade2','entidade2_tipo']"
   ]
  },
  {
   "cell_type": "code",
   "execution_count": 6,
   "metadata": {},
   "outputs": [],
   "source": [
    "data['class'] = data['relacao'].apply(lambda x: 0 if x is None else 1)"
   ]
  },
  {
   "cell_type": "code",
   "execution_count": 7,
   "metadata": {},
   "outputs": [
    {
     "data": {
      "text/html": [
       "<div>\n",
       "<style scoped>\n",
       "    .dataframe tbody tr th:only-of-type {\n",
       "        vertical-align: middle;\n",
       "    }\n",
       "\n",
       "    .dataframe tbody tr th {\n",
       "        vertical-align: top;\n",
       "    }\n",
       "\n",
       "    .dataframe thead th {\n",
       "        text-align: right;\n",
       "    }\n",
       "</style>\n",
       "<table border=\"1\" class=\"dataframe\">\n",
       "  <thead>\n",
       "    <tr style=\"text-align: right;\">\n",
       "      <th></th>\n",
       "      <th>sentenca</th>\n",
       "      <th>entidade1</th>\n",
       "      <th>entidade1_tipo</th>\n",
       "      <th>relacao</th>\n",
       "      <th>entidade2</th>\n",
       "      <th>entidade2_tipo</th>\n",
       "      <th>class</th>\n",
       "    </tr>\n",
       "  </thead>\n",
       "  <tbody>\n",
       "    <tr>\n",
       "      <td>0</td>\n",
       "      <td>A Kroton anunciou uma parceria com o Cubo Itaú...</td>\n",
       "      <td>Kroton</td>\n",
       "      <td>ORG</td>\n",
       "      <td>anunciou uma parceria com</td>\n",
       "      <td>Cubo Itaú</td>\n",
       "      <td>ORG</td>\n",
       "      <td>1</td>\n",
       "    </tr>\n",
       "    <tr>\n",
       "      <td>1</td>\n",
       "      <td>O evento Summit AgriHub reuniu nesta quinta-fe...</td>\n",
       "      <td>Summit AgriHub</td>\n",
       "      <td>ORG</td>\n",
       "      <td>reuniu em</td>\n",
       "      <td>Cuiabá</td>\n",
       "      <td>PLC</td>\n",
       "      <td>1</td>\n",
       "    </tr>\n",
       "    <tr>\n",
       "      <td>2</td>\n",
       "      <td>O evento Summit AgriHub reuniu nesta quinta-fe...</td>\n",
       "      <td>Summit AgriHub</td>\n",
       "      <td>ORG</td>\n",
       "      <td>None</td>\n",
       "      <td>Mato Grosso</td>\n",
       "      <td>PLC</td>\n",
       "      <td>0</td>\n",
       "    </tr>\n",
       "    <tr>\n",
       "      <td>3</td>\n",
       "      <td>O evento Summit AgriHub reuniu nesta quinta-fe...</td>\n",
       "      <td>Summit AgriHub</td>\n",
       "      <td>ORG</td>\n",
       "      <td>None</td>\n",
       "      <td>Brasil</td>\n",
       "      <td>PLC</td>\n",
       "      <td>0</td>\n",
       "    </tr>\n",
       "    <tr>\n",
       "      <td>4</td>\n",
       "      <td>Ousuário consegue comparar prazos , condições ...</td>\n",
       "      <td>Bradesco</td>\n",
       "      <td>ORG</td>\n",
       "      <td>None</td>\n",
       "      <td>Banco do Brasil</td>\n",
       "      <td>ORG</td>\n",
       "      <td>0</td>\n",
       "    </tr>\n",
       "  </tbody>\n",
       "</table>\n",
       "</div>"
      ],
      "text/plain": [
       "                                            sentenca       entidade1  \\\n",
       "0  A Kroton anunciou uma parceria com o Cubo Itaú...          Kroton   \n",
       "1  O evento Summit AgriHub reuniu nesta quinta-fe...  Summit AgriHub   \n",
       "2  O evento Summit AgriHub reuniu nesta quinta-fe...  Summit AgriHub   \n",
       "3  O evento Summit AgriHub reuniu nesta quinta-fe...  Summit AgriHub   \n",
       "4  Ousuário consegue comparar prazos , condições ...        Bradesco   \n",
       "\n",
       "  entidade1_tipo                    relacao        entidade2 entidade2_tipo  \\\n",
       "0            ORG  anunciou uma parceria com        Cubo Itaú            ORG   \n",
       "1            ORG                  reuniu em           Cuiabá            PLC   \n",
       "2            ORG                       None      Mato Grosso            PLC   \n",
       "3            ORG                       None           Brasil            PLC   \n",
       "4            ORG                       None  Banco do Brasil            ORG   \n",
       "\n",
       "   class  \n",
       "0      1  \n",
       "1      1  \n",
       "2      0  \n",
       "3      0  \n",
       "4      0  "
      ]
     },
     "execution_count": 7,
     "metadata": {},
     "output_type": "execute_result"
    }
   ],
   "source": [
    "data.head()"
   ]
  },
  {
   "cell_type": "markdown",
   "metadata": {},
   "source": [
    "Essa sera nossa estrategia de encoding para propagar esses dados pela rede neural"
   ]
  },
  {
   "cell_type": "raw",
   "metadata": {},
   "source": [
    "O evento Summit AgriHub reuniu nesta quinta-fe...\t -> [0,0,0...,0]\n",
    "Summit AgriHub\t -> [0,0,0...,0]\n",
    "Cuiabá\t -> [0,0,0...,0]"
   ]
  },
  {
   "cell_type": "markdown",
   "metadata": {},
   "source": [
    "Verifica em quantos registros existem relacoes"
   ]
  },
  {
   "cell_type": "code",
   "execution_count": 8,
   "metadata": {},
   "outputs": [
    {
     "data": {
      "text/plain": [
       "Counter({1: 1075, 0: 1069})"
      ]
     },
     "execution_count": 8,
     "metadata": {},
     "output_type": "execute_result"
    }
   ],
   "source": [
    "Counter(data['class'])"
   ]
  },
  {
   "cell_type": "markdown",
   "metadata": {},
   "source": [
    "Vamos pegar o tamanho maximo das sentencas"
   ]
  },
  {
   "cell_type": "code",
   "execution_count": 9,
   "metadata": {},
   "outputs": [],
   "source": [
    "max_len = data['sentenca'].apply(lambda x: len(nltk.word_tokenize(x)))"
   ]
  },
  {
   "cell_type": "code",
   "execution_count": 10,
   "metadata": {},
   "outputs": [
    {
     "data": {
      "text/plain": [
       "count    2144.000000\n",
       "mean       39.699160\n",
       "std        15.996105\n",
       "min         3.000000\n",
       "25%        29.000000\n",
       "50%        39.000000\n",
       "75%        48.000000\n",
       "max       138.000000\n",
       "Name: sentenca, dtype: float64"
      ]
     },
     "execution_count": 10,
     "metadata": {},
     "output_type": "execute_result"
    }
   ],
   "source": [
    "pd.Series(max_len).describe()"
   ]
  },
  {
   "cell_type": "code",
   "execution_count": 11,
   "metadata": {},
   "outputs": [],
   "source": [
    "max_len = max(max_len)"
   ]
  },
  {
   "cell_type": "code",
   "execution_count": 12,
   "metadata": {},
   "outputs": [
    {
     "data": {
      "text/plain": [
       "138"
      ]
     },
     "execution_count": 12,
     "metadata": {},
     "output_type": "execute_result"
    }
   ],
   "source": [
    "max_len"
   ]
  },
  {
   "cell_type": "code",
   "execution_count": 13,
   "metadata": {},
   "outputs": [
    {
     "name": "stdout",
     "output_type": "stream",
     "text": [
      "BERT tokens: ['a', 'k', '##ro', '##ton', 'anunciou', 'uma', 'parceria', 'com', 'o', 'cub', '##o', 'it', '##au', ',', 'que', 'dar', '##a', 'origem', 'a', 'vertical', '“', 'cub', '##o', 'educa', '##tion', '”', ',', 'um', 'espa', '##co', 'dedicado', 'ao', 'fome', '##nto', 'de', 'ed', '##tec', '##h', '##s', '–', 'tecnologia', 'aplicada', 'a', 'educa', '##ca', '##o', '.']\n",
      "NLTK tokens: ['A', 'Kroton', 'anunciou', 'uma', 'parceria', 'com', 'o', 'Cubo', 'Itaú', ',', 'que', 'dará', 'origem', 'à', 'vertical', '“', 'Cubo', 'Education', '”', ',', 'um', 'espaço', 'dedicado', 'ao', 'fomento', 'de', 'edtechs', '–', 'tecnologia', 'aplicada', 'à', 'educação', '.']\n"
     ]
    }
   ],
   "source": [
    "sample_txt = 'A Kroton anunciou uma parceria com o Cubo Itaú , que dará origem à vertical “Cubo Education” , um espaço dedicado ao fomento de edtechs – tecnologia aplicada à educação .'\n",
    "print(f\"BERT tokens: {bert_tokenizer.tokenize(sample_txt)}\")\n",
    "print(f\"NLTK tokens: {nltk.word_tokenize(sample_txt)}\")"
   ]
  },
  {
   "cell_type": "code",
   "execution_count": 14,
   "metadata": {},
   "outputs": [
    {
     "name": "stdout",
     "output_type": "stream",
     "text": [
      " Sentence: A Kroton anunciou uma parceria com o Cubo Itaú , que dará origem à vertical “Cubo Education” , um espaço dedicado ao fomento de edtechs – tecnologia aplicada à educação .\n",
      "   Tokens: ['A', 'Kroton', 'anunciou', 'uma', 'parceria', 'com', 'o', 'Cubo', 'Itaú', ',', 'que', 'dará', 'origem', 'à', 'vertical', '“', 'Cubo', 'Education', '”', ',', 'um', 'espaço', 'dedicado', 'ao', 'fomento', 'de', 'edtechs', '–', 'tecnologia', 'aplicada', 'à', 'educação', '.']\n",
      "Token IDs: [177, 100, 3127, 230, 4495, 170, 146, 100, 100, 117, 179, 100, 2008, 353, 14357, 1112, 100, 100, 22354, 117, 222, 2363, 8055, 320, 100, 125, 100, 1379, 4277, 11107, 353, 3478, 119, 0, 0, 0, 0, 0, 0, 0, 0, 0, 0, 0, 0, 0, 0, 0, 0, 0, 0, 0, 0, 0, 0, 0, 0, 0, 0, 0, 0, 0, 0, 0, 0, 0, 0, 0, 0, 0, 0, 0, 0, 0, 0, 0, 0, 0, 0, 0, 0, 0, 0, 0, 0, 0, 0, 0, 0, 0, 0, 0, 0, 0, 0, 0, 0, 0, 0, 0, 0, 0, 0, 0, 0, 0, 0, 0, 0, 0, 0, 0, 0, 0, 0, 0, 0, 0, 0, 0, 0, 0, 0, 0, 0, 0, 0, 0, 0, 0, 0, 0, 0, 0, 0, 0, 0, 0]\n",
      "WE: {'input_ids': [123, 1396, 157, 897, 3127, 230, 4495, 170, 146, 13435, 22280, 21627, 1382, 117, 179, 2822, 22278, 2008, 123, 14357, 1112, 13435, 22280, 6974, 1131, 22354, 117, 222, 1632, 303, 8055, 320, 11062, 234, 125, 902, 8948, 22296, 22281, 1379, 4277, 11107, 123, 6974, 304, 22280, 119, 0, 0, 0, 0, 0, 0, 0, 0, 0, 0, 0, 0, 0, 0, 0, 0, 0, 0, 0, 0, 0, 0, 0, 0, 0, 0, 0, 0, 0, 0, 0, 0, 0, 0, 0, 0, 0, 0, 0, 0, 0, 0, 0, 0, 0, 0, 0, 0, 0, 0, 0, 0, 0, 0, 0, 0, 0, 0, 0, 0, 0, 0, 0, 0, 0, 0, 0, 0, 0, 0, 0, 0, 0, 0, 0, 0, 0, 0, 0, 0, 0, 0, 0, 0, 0, 0, 0, 0, 0, 0, 0]}\n"
     ]
    }
   ],
   "source": [
    "tokens = nltk.word_tokenize(sample_txt)\n",
    "token_ids = bert_tokenizer.convert_tokens_to_ids(tokens)\n",
    "token_ids = token_ids + [0]*(max_len-len(token_ids))\n",
    "\n",
    "print(f' Sentence: {sample_txt}')\n",
    "print(f'   Tokens: {tokens}')\n",
    "print(f'Token IDs: {token_ids}')\n",
    "\n",
    "we = bert_tokenizer.encode_plus(\n",
    "  sample_txt,\n",
    "  max_length=max_len,\n",
    "  add_special_tokens=False, # Add '[CLS]' and '[SEP]'\n",
    "  return_token_type_ids=False,\n",
    "  pad_to_max_length=True,\n",
    "  return_attention_mask=False,\n",
    ")\n",
    "print(f'WE: {we}')"
   ]
  },
  {
   "cell_type": "markdown",
   "metadata": {},
   "source": [
    "Com o exemplo acima podemos ver que o nltk.word_tokenize parece ser mais preciso que o bert_tokenizer ao quebrar as palavras"
   ]
  },
  {
   "cell_type": "markdown",
   "metadata": {},
   "source": [
    "### Processamento dos dados"
   ]
  },
  {
   "cell_type": "markdown",
   "metadata": {},
   "source": [
    "Vamos entao passar todas as frases para lista de tokens_id <br>\n",
    "Uma maneira legal de fazer isso é usando namedtuples, assim conseguimos colocar varios dados dentro de uma mesma tupla e depois fazer o parse deles"
   ]
  },
  {
   "cell_type": "code",
   "execution_count": 15,
   "metadata": {},
   "outputs": [],
   "source": [
    "from collections import namedtuple"
   ]
  },
  {
   "cell_type": "code",
   "execution_count": 16,
   "metadata": {},
   "outputs": [],
   "source": [
    "Row = namedtuple(\"Row\", [\"sentenca\",\"entidade1\",\"entidade2\",\"relacao\"])\n",
    "corpus = data.apply(\n",
    "    lambda x: Row(\n",
    "        sentenca=x['sentenca'],\n",
    "        entidade1=x['entidade1'],\n",
    "        entidade2=x['entidade2'],\n",
    "        relacao= None if x['relacao'] is None else x['relacao']\n",
    "    )\n",
    "    , axis=1\n",
    ")"
   ]
  },
  {
   "cell_type": "markdown",
   "metadata": {},
   "source": [
    "### Treinamento"
   ]
  },
  {
   "cell_type": "markdown",
   "metadata": {},
   "source": [
    "Podemos fazer com que a rede tenha apenas um ou mais modelos internos. Por exemplo, um modelo para verificar se existe relacao e outro para extrair essa relacao"
   ]
  },
  {
   "cell_type": "raw",
   "metadata": {},
   "source": [
    "free_text -> Abordagem |\n",
    "                        -> Verificacao se existe relacao |-> (sim) -> Extracao da relacao\n",
    "                                                         |-> (nao) -> Informa que nao tem"
   ]
  },
  {
   "cell_type": "markdown",
   "metadata": {},
   "source": [
    "É possivel receber modelos por parametros dentro das classes de nn.Module. Assim, incorporamos o modelo recebido as configuracao da rede que estamos propondo. <br>\n",
    "Abaixo é possivel ver que incorporamos a BERT nos modelos ModeloVerificaRelacao e ModeloExtraiRelacao. Alem disso, incorporamos esses dois modelos tambem em ModeloDaniel"
   ]
  },
  {
   "cell_type": "markdown",
   "metadata": {},
   "source": [
    "Deste modo, temos as seguintes possibilidades:<br>\n",
    "    - Os modelos ModeloVerificaRelacao e ModeloExtraiRelacao podem propagar suas entradas pela rede da BERT<br>\n",
    "    - Treinar apenas o ModeloDaniel e fazer com que ele propague o erro para ModeloVerificaRelacao, ModeloExtraiRelacao e BERT (Isso é considerado um fine-tuning da BERT; O desafio sera propagar as saidas de ModeloVerificaRelacao para ModeloExtraiRelacao)<br>\n",
    "    - Treinar ModeloVerificaRelacao e ModeloExtraiRelacao separados e depois adicionalos ao ModeloDaniel apenas para unificacao (Essa abordagem é mais didatica; O desafio sera elaborar um metodo de treinamento consistente que permita apenas um treinamento, caso contrario deverao existir varios em separado e apenas um local para unificar suas chamadas)<br>"
   ]
  },
  {
   "cell_type": "code",
   "execution_count": 17,
   "metadata": {},
   "outputs": [],
   "source": [
    "import torch.nn as nn\n",
    "import torch.nn.functional as F\n",
    "from torch.utils.data import TensorDataset, DataLoader"
   ]
  },
  {
   "cell_type": "code",
   "execution_count": 18,
   "metadata": {},
   "outputs": [],
   "source": [
    "class DeepRelationIdentifier(nn.Module):\n",
    "    def __init__(self, embedding_model, n_hidden=[3072, 10], output_size=1, drop_prob=0.1, embedding_grad=False):\n",
    "        super().__init__()\n",
    "        self._embedding_model = embedding_model\n",
    "        \n",
    "        self._drop_prob = drop_prob\n",
    "        self._n_hidden = n_hidden\n",
    "\n",
    "        # Avoid tuning BERT to this problem\n",
    "        self._embedding_model.requires_grad = embedding_grad\n",
    "        \n",
    "        layers = [\n",
    "            nn.Sequential(\n",
    "                nn.Linear(in_units, out_units),\n",
    "                nn.ReLU()\n",
    "            )\n",
    "            for in_units, out_units in zip(self._n_hidden, self._n_hidden[1:])\n",
    "        ]\n",
    "        \n",
    "        self.fc = nn.Sequential(*layers)\n",
    "\n",
    "        self.fc_out = nn.Sequential(\n",
    "            nn.Dropout(self._drop_prob),\n",
    "            nn.Linear(self._n_hidden[-1], output_size),\n",
    "            nn.Sigmoid()\n",
    "        )\n",
    "    \n",
    "    def parse_sentence_to_ids(self, sentence):\n",
    "        sentence = bert_tokenizer.convert_tokens_to_ids(nltk.word_tokenize(sentence))\n",
    "        return sentence\n",
    "    \n",
    "    def to_embeddings(self, x, is_token_ids=True):\n",
    "        if is_token_ids:\n",
    "            return self._embedding_model(torch.tensor(x).unsqueeze(0))[0]\n",
    "        else:\n",
    "            return self._embedding_model(torch.tensor(self.parse_sentence_to_ids(sentence=x)).unsqueeze(0))[0]\n",
    "\n",
    "    def prepare_sentence(self, sentence:str, entity1:str, entity2:str):\n",
    "        features = (self.to_embeddings(sentence, is_token_ids=False) for f in [sentence, entity1, entity2])\n",
    "        return torch.cat(tuple(f.squeeze().sum(axis=0) for f in features), dim=0)\n",
    "                    \n",
    "    def forward(self, inputs):\n",
    "        ''' Forward pass through the network'''\n",
    "        ## TODO: put x through the fully-connected layer\n",
    "        out = self.fc_out(self.fc(inputs))\n",
    "        \n",
    "        # return the final output and the hidden state\n",
    "        return out"
   ]
  },
  {
   "cell_type": "markdown",
   "metadata": {},
   "source": [
    "Com as definicoes acima, vamos instanciar o nosso modelo"
   ]
  },
  {
   "cell_type": "code",
   "execution_count": 19,
   "metadata": {},
   "outputs": [],
   "source": [
    "ri_model = DeepRelationIdentifier(\n",
    "    embedding_model=bert_model,\n",
    "    n_hidden=[3072, 10],\n",
    "    output_size=1,\n",
    "    drop_prob=0.1,\n",
    "    embedding_grad=False\n",
    ")"
   ]
  },
  {
   "cell_type": "markdown",
   "metadata": {},
   "source": [
    "Vamos imprimir o schema do modelo"
   ]
  },
  {
   "cell_type": "code",
   "execution_count": null,
   "metadata": {},
   "outputs": [],
   "source": [
    "# print(ri_model)"
   ]
  },
  {
   "cell_type": "markdown",
   "metadata": {},
   "source": [
    "Agora que temos as namedtuples, precisamos converter as sentencas e entidades em um vetor para a nossa rede neural"
   ]
  },
  {
   "cell_type": "code",
   "execution_count": 20,
   "metadata": {},
   "outputs": [],
   "source": [
    "row = 0\n",
    "dataset = [\n",
    "    (\n",
    "        #print('Sentence [' + str(row) + ']')\n",
    "        \n",
    "        ri_model.prepare_sentence(sentence=x.sentenca, entity1=x.entidade1, entity2=x.entidade2).cpu().detach().numpy(), \n",
    "        0 if x.relacao is None else 1\n",
    "        \n",
    "        #row += 1\n",
    "    ) for x in corpus[:3000]\n",
    "]"
   ]
  },
  {
   "cell_type": "code",
   "execution_count": 41,
   "metadata": {},
   "outputs": [
    {
     "data": {
      "text/plain": [
       "array([ 7.073581 , -2.9286702, 15.580017 , ..., 15.888261 ,  2.5507436,\n",
       "        5.929566 ], dtype=float32)"
      ]
     },
     "execution_count": 41,
     "metadata": {},
     "output_type": "execute_result"
    }
   ],
   "source": [
    "dataset[0][0]"
   ]
  },
  {
   "cell_type": "markdown",
   "metadata": {},
   "source": [
    "Agora que temos o dataset, entao é so correr para o abraco e dividir o conjunto entre treino e teste"
   ]
  },
  {
   "cell_type": "code",
   "execution_count": 42,
   "metadata": {},
   "outputs": [],
   "source": [
    "test_ration = 0.2\n",
    "test_idx = int(len(dataset)*(1-test_ration))\n",
    "trainset, testset = dataset[:test_idx], dataset[test_idx:]"
   ]
  },
  {
   "cell_type": "code",
   "execution_count": 43,
   "metadata": {},
   "outputs": [
    {
     "name": "stdout",
     "output_type": "stream",
     "text": [
      "Trainset size: 1715\n",
      "Testset size: 429\n"
     ]
    }
   ],
   "source": [
    "print(f\"Trainset size: {len(trainset)}\")\n",
    "print(f\"Testset size: {len(testset)}\")"
   ]
  },
  {
   "cell_type": "markdown",
   "metadata": {},
   "source": [
    "Agora vamos definir o nosso metodo de treinamento"
   ]
  },
  {
   "cell_type": "code",
   "execution_count": 44,
   "metadata": {},
   "outputs": [],
   "source": [
    "def train(net, data, epochs=10, batch_size=10, lr=0.001, clip=5, val_frac=0.1, print_every=10, earlyStopping=False, max_epochs_no_improve=2):\n",
    "    '''\n",
    "        Training a network \n",
    "    '''\n",
    "    net.train()\n",
    "    \n",
    "    opt = torch.optim.SGD(net.parameters(), lr=lr)\n",
    "    criterion = nn.BCELoss()\n",
    "    \n",
    "    # create training and validation data\n",
    "    valid_idx = int(len(data)*(1-val_frac))\n",
    "    data, valid_data = data[:valid_idx], data[valid_idx:]\n",
    "    \n",
    "    # create Tensor datasets\n",
    "    train_data = TensorDataset(torch.from_numpy(np.array([x[0] for x in data])), torch.from_numpy(np.array([x[1] for x in data])))\n",
    "    valid_data = TensorDataset(torch.from_numpy(np.array([x[0] for x in valid_data])), torch.from_numpy(np.array([x[1] for x in valid_data])))\n",
    "\n",
    "    # shuffling and batching data\n",
    "    train_loader = DataLoader(train_data, shuffle=True, batch_size=batch_size)\n",
    "    valid_loader = DataLoader(valid_data, shuffle=True, batch_size=batch_size)\n",
    "    \n",
    "    if(torch.cuda.is_available()):  \n",
    "        net.cuda()\n",
    "    \n",
    "    epoch_no_improve = 0\n",
    "    last_epoch_loss = None\n",
    "    \n",
    "    for e in range(epochs):\n",
    "        counter = 0\n",
    "\n",
    "        losses = []\n",
    "        for inputs, targets in train_loader:\n",
    "            counter += 1\n",
    "\n",
    "            if(torch.cuda.is_available()):\n",
    "                inputs, targets = inputs.cuda(), targets.cuda()\n",
    "\n",
    "            # zero accumulated gradients\n",
    "            net.zero_grad()\n",
    "            \n",
    "            # get the output from the model\n",
    "            output = net(inputs)\n",
    "            # calculate the loss and perform backprop\n",
    "            loss = criterion(output.float(), targets.float())\n",
    "               \n",
    "            loss.backward()\n",
    "            opt.step()\n",
    "\n",
    "            losses.append(loss.item())\n",
    "            \n",
    "            # loss stats\n",
    "            if counter % print_every == 0:\n",
    "                # Get validation loss\n",
    "                val_losses = []\n",
    "                net.eval()\n",
    "                \n",
    "                for inputs, targets in valid_loader:\n",
    "\n",
    "                    if(torch.cuda.is_available()):\n",
    "                        inputs, targets = inputs.cuda(), targets.cuda()\n",
    "\n",
    "                    output = net(inputs)\n",
    "                    val_loss = criterion(output.float(), targets.float())\n",
    "\n",
    "                    val_losses.append(val_loss.item())\n",
    "                \n",
    "                net.train() # reset to train mode after iterationg through validation data\n",
    "\n",
    "                _loss = loss.item()\n",
    "                _val_loss = 1 if len(val_losses) == 0 else np.nanmean(val_losses)\n",
    "                \n",
    "                print('{0}{1}{2}{3}'.format(\n",
    "                    \"Epoch: {}/{}...\".format(e+1, epochs),\n",
    "                    \"Step: {}...\".format(counter),\n",
    "                    \"Loss: {:.4f}...\".format(_loss),\n",
    "                    \"Val Loss: {:.4f}\".format(_val_loss)\n",
    "                    )\n",
    "                )\n",
    "                print(\"loss:{:0.4f}\".format(_loss))\n",
    "                print(\"val_loss:{:0.4f}\".format(_val_loss))\n",
    "\n",
    "\n",
    "        # Early stopping strategy\n",
    "        current_epoch_loss = 1 if len(losses) == 0 else np.nanmean(losses)\n",
    "        if last_epoch_loss is None:\n",
    "            last_epoch_loss = current_epoch_loss\n",
    "        elif last_epoch_loss < current_epoch_loss:\n",
    "            epoch_no_improve += 1\n",
    "        else:\n",
    "            last_epoch_loss = current_epoch_loss\n",
    "            epoch_no_improve = 0\n",
    "\n",
    "        if earlyStopping:\n",
    "            if epoch_no_improve >= max_epochs_no_improve:\n",
    "                print('[EarlyStopping] Reached max epochs without improvement')\n",
    "                print(\"early_stopping:1\")\n",
    "                break\n",
    "            else:\n",
    "                continue"
   ]
  },
  {
   "cell_type": "markdown",
   "metadata": {},
   "source": [
    "Pronto, temos tudo preparado para iniciar o treinamento"
   ]
  },
  {
   "cell_type": "code",
   "execution_count": 45,
   "metadata": {},
   "outputs": [
    {
     "name": "stdout",
     "output_type": "stream",
     "text": [
      "Epoch: 1/10...Step: 10...Loss: 0.6854...Val Loss: 0.6961\n",
      "loss:0.6854\n",
      "val_loss:0.6961\n",
      "Epoch: 1/10...Step: 20...Loss: 0.7401...Val Loss: 0.6969\n",
      "loss:0.7401\n",
      "val_loss:0.6969\n",
      "Epoch: 1/10...Step: 30...Loss: 0.6854...Val Loss: 0.6933\n",
      "loss:0.6854\n",
      "val_loss:0.6933\n",
      "Epoch: 1/10...Step: 40...Loss: 0.6991...Val Loss: 0.6958\n",
      "loss:0.6991\n",
      "val_loss:0.6958\n",
      "Epoch: 1/10...Step: 50...Loss: 0.7128...Val Loss: 0.6958\n",
      "loss:0.7128\n",
      "val_loss:0.6958\n",
      "Epoch: 1/10...Step: 60...Loss: 0.6876...Val Loss: 0.6960\n",
      "loss:0.6876\n",
      "val_loss:0.6960\n",
      "Epoch: 1/10...Step: 70...Loss: 0.6307...Val Loss: 0.6962\n",
      "loss:0.6307\n",
      "val_loss:0.6962\n",
      "Epoch: 1/10...Step: 80...Loss: 0.7262...Val Loss: 0.6940\n",
      "loss:0.7262\n",
      "val_loss:0.6940\n",
      "Epoch: 1/10...Step: 90...Loss: 0.7128...Val Loss: 0.6960\n",
      "loss:0.7128\n",
      "val_loss:0.6960\n",
      "Epoch: 2/10...Step: 10...Loss: 0.6991...Val Loss: 0.6952\n",
      "loss:0.6991\n",
      "val_loss:0.6952\n",
      "Epoch: 2/10...Step: 20...Loss: 0.6706...Val Loss: 0.6958\n",
      "loss:0.6706\n",
      "val_loss:0.6958\n",
      "Epoch: 2/10...Step: 30...Loss: 0.6803...Val Loss: 0.6967\n",
      "loss:0.6803\n",
      "val_loss:0.6967\n",
      "Epoch: 2/10...Step: 40...Loss: 0.6991...Val Loss: 0.6952\n",
      "loss:0.6991\n",
      "val_loss:0.6952\n",
      "Epoch: 2/10...Step: 50...Loss: 0.6444...Val Loss: 0.6949\n",
      "loss:0.6444\n",
      "val_loss:0.6949\n",
      "Epoch: 2/10...Step: 60...Loss: 0.7030...Val Loss: 0.6926\n",
      "loss:0.7030\n",
      "val_loss:0.6926\n",
      "Epoch: 2/10...Step: 70...Loss: 0.7100...Val Loss: 0.6958\n",
      "loss:0.7100\n",
      "val_loss:0.6958\n",
      "Epoch: 2/10...Step: 80...Loss: 0.6991...Val Loss: 0.6971\n",
      "loss:0.6991\n",
      "val_loss:0.6971\n",
      "Epoch: 2/10...Step: 90...Loss: 0.6583...Val Loss: 0.6965\n",
      "loss:0.6583\n",
      "val_loss:0.6965\n",
      "Epoch: 3/10...Step: 10...Loss: 0.7672...Val Loss: 0.6974\n",
      "loss:0.7672\n",
      "val_loss:0.6974\n",
      "Epoch: 3/10...Step: 20...Loss: 0.6855...Val Loss: 0.6958\n",
      "loss:0.6855\n",
      "val_loss:0.6958\n",
      "Epoch: 3/10...Step: 30...Loss: 0.7534...Val Loss: 0.6949\n",
      "loss:0.7534\n",
      "val_loss:0.6949\n",
      "Epoch: 3/10...Step: 40...Loss: 0.6574...Val Loss: 0.6955\n",
      "loss:0.6574\n",
      "val_loss:0.6955\n",
      "Epoch: 3/10...Step: 50...Loss: 0.6719...Val Loss: 0.6957\n",
      "loss:0.6719\n",
      "val_loss:0.6957\n",
      "Epoch: 3/10...Step: 60...Loss: 0.7126...Val Loss: 0.6949\n",
      "loss:0.7126\n",
      "val_loss:0.6949\n",
      "Epoch: 3/10...Step: 70...Loss: 0.7126...Val Loss: 0.6954\n",
      "loss:0.7126\n",
      "val_loss:0.6954\n",
      "Epoch: 3/10...Step: 80...Loss: 0.7397...Val Loss: 0.6946\n",
      "loss:0.7397\n",
      "val_loss:0.6946\n",
      "Epoch: 3/10...Step: 90...Loss: 0.6951...Val Loss: 0.7022\n",
      "loss:0.6951\n",
      "val_loss:0.7022\n",
      "Epoch: 4/10...Step: 10...Loss: 0.6909...Val Loss: 0.6984\n",
      "loss:0.6909\n",
      "val_loss:0.6984\n",
      "Epoch: 4/10...Step: 20...Loss: 0.7396...Val Loss: 0.6948\n",
      "loss:0.7396\n",
      "val_loss:0.6948\n",
      "Epoch: 4/10...Step: 30...Loss: 0.7126...Val Loss: 0.6941\n",
      "loss:0.7126\n",
      "val_loss:0.6941\n",
      "Epoch: 4/10...Step: 40...Loss: 0.6595...Val Loss: 0.6943\n",
      "loss:0.6595\n",
      "val_loss:0.6943\n",
      "Epoch: 4/10...Step: 50...Loss: 0.6793...Val Loss: 0.6927\n",
      "loss:0.6793\n",
      "val_loss:0.6927\n",
      "Epoch: 4/10...Step: 60...Loss: 0.6855...Val Loss: 0.6965\n",
      "loss:0.6855\n",
      "val_loss:0.6965\n",
      "Epoch: 4/10...Step: 70...Loss: 0.6598...Val Loss: 0.6988\n",
      "loss:0.6598\n",
      "val_loss:0.6988\n",
      "Epoch: 4/10...Step: 80...Loss: 0.7261...Val Loss: 0.6966\n",
      "loss:0.7261\n",
      "val_loss:0.6966\n",
      "Epoch: 4/10...Step: 90...Loss: 0.7017...Val Loss: 0.6962\n",
      "loss:0.7017\n",
      "val_loss:0.6962\n",
      "Epoch: 5/10...Step: 10...Loss: 0.6855...Val Loss: 0.6967\n",
      "loss:0.6855\n",
      "val_loss:0.6967\n",
      "Epoch: 5/10...Step: 20...Loss: 0.7081...Val Loss: 0.6976\n",
      "loss:0.7081\n",
      "val_loss:0.6976\n",
      "Epoch: 5/10...Step: 30...Loss: 0.6584...Val Loss: 0.6937\n",
      "loss:0.6584\n",
      "val_loss:0.6937\n",
      "Epoch: 5/10...Step: 40...Loss: 0.6855...Val Loss: 0.6963\n",
      "loss:0.6855\n",
      "val_loss:0.6963\n",
      "Epoch: 5/10...Step: 50...Loss: 0.7048...Val Loss: 0.6969\n",
      "loss:0.7048\n",
      "val_loss:0.6969\n",
      "Epoch: 5/10...Step: 60...Loss: 0.6990...Val Loss: 0.6917\n",
      "loss:0.6990\n",
      "val_loss:0.6917\n",
      "Epoch: 5/10...Step: 70...Loss: 0.7539...Val Loss: 0.6994\n",
      "loss:0.7539\n",
      "val_loss:0.6994\n",
      "Epoch: 5/10...Step: 80...Loss: 0.6990...Val Loss: 0.6955\n",
      "loss:0.6990\n",
      "val_loss:0.6955\n",
      "Epoch: 5/10...Step: 90...Loss: 0.6959...Val Loss: 0.6935\n",
      "loss:0.6959\n",
      "val_loss:0.6935\n",
      "Epoch: 6/10...Step: 10...Loss: 0.7090...Val Loss: 0.6880\n",
      "loss:0.7090\n",
      "val_loss:0.6880\n",
      "Epoch: 6/10...Step: 20...Loss: 0.6414...Val Loss: 0.6969\n",
      "loss:0.6414\n",
      "val_loss:0.6969\n",
      "Epoch: 6/10...Step: 30...Loss: 0.6584...Val Loss: 0.6956\n",
      "loss:0.6584\n",
      "val_loss:0.6956\n",
      "Epoch: 6/10...Step: 40...Loss: 0.6990...Val Loss: 0.6977\n",
      "loss:0.6990\n",
      "val_loss:0.6977\n",
      "Epoch: 6/10...Step: 50...Loss: 0.6297...Val Loss: 0.6972\n",
      "loss:0.6297\n",
      "val_loss:0.6972\n",
      "Epoch: 6/10...Step: 60...Loss: 0.6901...Val Loss: 0.6950\n",
      "loss:0.6901\n",
      "val_loss:0.6950\n",
      "Epoch: 6/10...Step: 70...Loss: 0.6989...Val Loss: 0.6961\n",
      "loss:0.6989\n",
      "val_loss:0.6961\n",
      "Epoch: 6/10...Step: 80...Loss: 0.6764...Val Loss: 0.6947\n",
      "loss:0.6764\n",
      "val_loss:0.6947\n",
      "Epoch: 6/10...Step: 90...Loss: 0.6517...Val Loss: 0.6981\n",
      "loss:0.6517\n",
      "val_loss:0.6981\n",
      "Epoch: 7/10...Step: 10...Loss: 0.6956...Val Loss: 0.6956\n",
      "loss:0.6956\n",
      "val_loss:0.6956\n",
      "Epoch: 7/10...Step: 20...Loss: 0.6888...Val Loss: 0.6971\n",
      "loss:0.6888\n",
      "val_loss:0.6971\n",
      "Epoch: 7/10...Step: 30...Loss: 0.6713...Val Loss: 0.6951\n",
      "loss:0.6713\n",
      "val_loss:0.6951\n",
      "Epoch: 7/10...Step: 40...Loss: 0.6750...Val Loss: 0.7003\n",
      "loss:0.6750\n",
      "val_loss:0.7003\n",
      "Epoch: 7/10...Step: 50...Loss: 0.6594...Val Loss: 0.7000\n",
      "loss:0.6594\n",
      "val_loss:0.7000\n",
      "Epoch: 7/10...Step: 60...Loss: 0.7705...Val Loss: 0.6964\n",
      "loss:0.7705\n",
      "val_loss:0.6964\n",
      "Epoch: 7/10...Step: 70...Loss: 0.6642...Val Loss: 0.6992\n",
      "loss:0.6642\n",
      "val_loss:0.6992\n",
      "Epoch: 7/10...Step: 80...Loss: 0.4225...Val Loss: 0.8664\n",
      "loss:0.4225\n",
      "val_loss:0.8664\n",
      "Epoch: 7/10...Step: 90...Loss: 0.6858...Val Loss: 0.6907\n",
      "loss:0.6858\n",
      "val_loss:0.6907\n",
      "Epoch: 8/10...Step: 10...Loss: 0.6204...Val Loss: 0.6912\n",
      "loss:0.6204\n",
      "val_loss:0.6912\n",
      "Epoch: 8/10...Step: 20...Loss: 0.6848...Val Loss: 0.6982\n",
      "loss:0.6848\n",
      "val_loss:0.6982\n",
      "Epoch: 8/10...Step: 30...Loss: 0.6374...Val Loss: 0.6992\n",
      "loss:0.6374\n",
      "val_loss:0.6992\n",
      "Epoch: 8/10...Step: 40...Loss: 0.6487...Val Loss: 0.6997\n",
      "loss:0.6487\n",
      "val_loss:0.6997\n",
      "Epoch: 8/10...Step: 50...Loss: 0.7574...Val Loss: 0.6962\n",
      "loss:0.7574\n",
      "val_loss:0.6962\n",
      "Epoch: 8/10...Step: 60...Loss: 0.5774...Val Loss: 0.6996\n",
      "loss:0.5774\n",
      "val_loss:0.6996\n",
      "Epoch: 8/10...Step: 70...Loss: 0.7770...Val Loss: 0.6951\n",
      "loss:0.7770\n",
      "val_loss:0.6951\n",
      "Epoch: 8/10...Step: 80...Loss: 0.7601...Val Loss: 0.6974\n",
      "loss:0.7601\n",
      "val_loss:0.6974\n",
      "Epoch: 8/10...Step: 90...Loss: 0.6786...Val Loss: 0.6980\n",
      "loss:0.6786\n",
      "val_loss:0.6980\n",
      "Epoch: 9/10...Step: 10...Loss: 0.6409...Val Loss: 0.6985\n",
      "loss:0.6409\n",
      "val_loss:0.6985\n",
      "Epoch: 9/10...Step: 20...Loss: 0.6603...Val Loss: 0.6970\n",
      "loss:0.6603\n",
      "val_loss:0.6970\n",
      "Epoch: 9/10...Step: 30...Loss: 0.6020...Val Loss: 0.6983\n",
      "loss:0.6020\n",
      "val_loss:0.6983\n",
      "Epoch: 9/10...Step: 40...Loss: 0.6273...Val Loss: 0.6977\n",
      "loss:0.6273\n",
      "val_loss:0.6977\n",
      "Epoch: 9/10...Step: 50...Loss: 0.7514...Val Loss: 0.6974\n",
      "loss:0.7514\n",
      "val_loss:0.6974\n",
      "Epoch: 9/10...Step: 60...Loss: 0.6856...Val Loss: 0.6969\n",
      "loss:0.6856\n",
      "val_loss:0.6969\n",
      "Epoch: 9/10...Step: 70...Loss: 0.6586...Val Loss: 0.6984\n",
      "loss:0.6586\n",
      "val_loss:0.6984\n",
      "Epoch: 9/10...Step: 80...Loss: 0.7094...Val Loss: 0.6975\n",
      "loss:0.7094\n",
      "val_loss:0.6975\n",
      "Epoch: 9/10...Step: 90...Loss: 0.6123...Val Loss: 0.6972\n",
      "loss:0.6123\n",
      "val_loss:0.6972\n",
      "Epoch: 10/10...Step: 10...Loss: 0.7255...Val Loss: 0.6993\n",
      "loss:0.7255\n",
      "val_loss:0.6993\n",
      "Epoch: 10/10...Step: 20...Loss: 0.6476...Val Loss: 0.6982\n",
      "loss:0.6476\n",
      "val_loss:0.6982\n",
      "Epoch: 10/10...Step: 30...Loss: 0.7740...Val Loss: 0.6958\n",
      "loss:0.7740\n",
      "val_loss:0.6958\n",
      "Epoch: 10/10...Step: 40...Loss: 0.6578...Val Loss: 0.6992\n",
      "loss:0.6578\n",
      "val_loss:0.6992\n",
      "Epoch: 10/10...Step: 50...Loss: 0.6856...Val Loss: 0.6989\n",
      "loss:0.6856\n",
      "val_loss:0.6989\n",
      "Epoch: 10/10...Step: 60...Loss: 0.5209...Val Loss: 0.7007\n",
      "loss:0.5209\n",
      "val_loss:0.7007\n",
      "Epoch: 10/10...Step: 70...Loss: 0.6856...Val Loss: 0.6976\n",
      "loss:0.6856\n",
      "val_loss:0.6976\n",
      "Epoch: 10/10...Step: 80...Loss: 0.6652...Val Loss: 0.6984\n",
      "loss:0.6652\n",
      "val_loss:0.6984\n",
      "Epoch: 10/10...Step: 90...Loss: 0.6098...Val Loss: 0.6973\n",
      "loss:0.6098\n",
      "val_loss:0.6973\n"
     ]
    }
   ],
   "source": [
    "train(\n",
    "    net=ri_model,\n",
    "    data=trainset,\n",
    "    epochs=10,\n",
    "    batch_size=16,\n",
    "    lr=0.001,\n",
    "    clip=5,\n",
    "    val_frac=0.1, \n",
    "    print_every=10,\n",
    "    earlyStopping=False,\n",
    "    max_epochs_no_improve=2\n",
    ")"
   ]
  },
  {
   "cell_type": "markdown",
   "metadata": {},
   "source": [
    "### Metricas"
   ]
  },
  {
   "cell_type": "code",
   "execution_count": 46,
   "metadata": {},
   "outputs": [],
   "source": [
    "import sklearn.metrics as metrics"
   ]
  },
  {
   "cell_type": "code",
   "execution_count": 47,
   "metadata": {},
   "outputs": [],
   "source": [
    "def evaluate_binary_classification(y_true, y_pred, pos_label=1):\n",
    "    \n",
    "    def metric_auc(y_true, y_pred, pos_label=True):\n",
    "        try:\n",
    "            fpr, tpr, _threshold = metrics.roc_curve(\n",
    "                y_true,\n",
    "                y_pred,\n",
    "                pos_label=pos_label\n",
    "            )\n",
    "            return metrics.auc(fpr, tpr)\n",
    "        except:\n",
    "            return None\n",
    "\n",
    "    dct = {\n",
    "        'ACCURACY': metrics.accuracy_score(y_true, y_pred),\n",
    "        'F1': metrics.f1_score(y_true, y_pred, average='weighted', pos_label=pos_label),\n",
    "        'F1_MICRO': metrics.f1_score(y_true, y_pred, average='micro', pos_label=pos_label),\n",
    "        'F1_MACRO': metrics.f1_score(y_true, y_pred, average='macro', pos_label=pos_label),\n",
    "        'PRECISION': metrics.precision_score(y_true, y_pred, average='binary', pos_label=pos_label),\n",
    "        'RECALL': metrics.recall_score(y_true, y_pred, average='binary', pos_label=pos_label),\n",
    "        'AUC': metric_auc(y_true, y_pred),\n",
    "        'KAPPA': metrics.cohen_kappa_score(y_true, y_pred)\n",
    "    }\n",
    "    return {k: 0.0 if not v else v for k, v in dct.items()}"
   ]
  },
  {
   "cell_type": "markdown",
   "metadata": {},
   "source": [
    "Para usar como entrada em uma MLP simples, temos de converter de lista de tensores para lista de listas"
   ]
  },
  {
   "cell_type": "code",
   "execution_count": 48,
   "metadata": {},
   "outputs": [],
   "source": [
    "X_test = [torch.from_numpy(np.array(x[0])) for x in testset]\n",
    "y_test = [x[1] for x in testset]"
   ]
  },
  {
   "cell_type": "code",
   "execution_count": 49,
   "metadata": {},
   "outputs": [],
   "source": [
    "y_pred = [1 if ri_model(x) > 0.5 else 0 for x in X_test]"
   ]
  },
  {
   "cell_type": "code",
   "execution_count": 50,
   "metadata": {},
   "outputs": [
    {
     "data": {
      "text/plain": [
       "{'ACCURACY': 0.32400932400932403,\n",
       " 'F1': 0.17502485567001697,\n",
       " 'F1_MICRO': 0.32400932400932403,\n",
       " 'F1_MACRO': 0.25681003584229395,\n",
       " 'PRECISION': 0.7142857142857143,\n",
       " 'RECALL': 0.017064846416382253,\n",
       " 'AUC': 0.5011794820317206,\n",
       " 'KAPPA': 0.0015088524695419103}"
      ]
     },
     "execution_count": 50,
     "metadata": {},
     "output_type": "execute_result"
    }
   ],
   "source": [
    "evaluate_binary_classification(y_test, y_pred)"
   ]
  },
  {
   "cell_type": "code",
   "execution_count": 52,
   "metadata": {},
   "outputs": [],
   "source": [
    "import pickle\n",
    "with open('dataset', 'wb') as f:\n",
    "    pickle.dump(dataset, f)"
   ]
  },
  {
   "cell_type": "code",
   "execution_count": null,
   "metadata": {},
   "outputs": [],
   "source": []
  },
  {
   "cell_type": "code",
   "execution_count": null,
   "metadata": {},
   "outputs": [],
   "source": []
  },
  {
   "cell_type": "code",
   "execution_count": null,
   "metadata": {},
   "outputs": [],
   "source": []
  },
  {
   "cell_type": "code",
   "execution_count": null,
   "metadata": {},
   "outputs": [],
   "source": []
  },
  {
   "cell_type": "code",
   "execution_count": null,
   "metadata": {},
   "outputs": [],
   "source": []
  },
  {
   "cell_type": "code",
   "execution_count": null,
   "metadata": {},
   "outputs": [],
   "source": []
  },
  {
   "cell_type": "code",
   "execution_count": null,
   "metadata": {},
   "outputs": [],
   "source": []
  }
 ],
 "metadata": {
  "kernelspec": {
   "display_name": "Python 3",
   "language": "python",
   "name": "python3"
  },
  "language_info": {
   "codemirror_mode": {
    "name": "ipython",
    "version": 3
   },
   "file_extension": ".py",
   "mimetype": "text/x-python",
   "name": "python",
   "nbconvert_exporter": "python",
   "pygments_lexer": "ipython3",
   "version": "3.7.3"
  }
 },
 "nbformat": 4,
 "nbformat_minor": 4
}
